{
 "cells": [
  {
   "cell_type": "code",
   "execution_count": null,
   "metadata": {},
   "outputs": [],
   "source": [
    "import numpy as np\n",
    "import cvxpy as cvx\n",
    "import matplotlib.pyplot as plt"
   ]
  },
  {
   "cell_type": "code",
   "execution_count": 2,
   "metadata": {},
   "outputs": [
    {
     "data": {
      "text/plain": [
       "43267.19999806679"
      ]
     },
     "execution_count": 2,
     "metadata": {},
     "output_type": "execute_result"
    }
   ],
   "source": [
    "d = (137, 139, 136, 129, 129, 141, 165, 200, 224, 232, 223, 231,\n",
    "223, 220, 213, 207, 213, 214, 224, 228, 224, 212, 185, 159)\n",
    "#load\n",
    "a = (10,9,8,7,7,7,8,9,10,10,10,9,8,8,8,8,8,9,9,9,9,9,9,9)\n",
    "# inflows\n",
    "pH = cvx.Variable(24) # power hydro unit\n",
    "pT = cvx.Variable(24) # power thermo unit\n",
    "q = cvx.Variable(24) # water discharge\n",
    "s = cvx.Variable(24) # spillage\n",
    "v = cvx.Variable(25) # volume\n",
    "cost = 0\n",
    "res = [v[0]==150, v[24]==80]\n",
    "for t in range(24):\n",
    "    cost = cost + 19.2*pT[t]\n",
    "    res += [pH[t] == 8.5*q[t]]\n",
    "    res += [pH[t] + pT[t] == d[t]]\n",
    "    res += [80 <= v[t], v[t] <= 150]\n",
    "    res += [0 <= pT[t], pT[t] <= 250]\n",
    "    res += [0 <= pH[t], pH[t] <= 150]\n",
    "    res += [s[t] >= 0]\n",
    "    res += [v[t+1] == v[t] + a[t] - s[t] - q[t]]\n",
    "HydTh = cvx.Problem(cvx.Minimize(cost), res)\n",
    "HydTh.solve()"
   ]
  },
  {
   "cell_type": "markdown",
   "metadata": {},
   "source": [
    "# Despacho hidrotermico considerando costo no lineal y red dado por matrix B \n",
    "- 2 hidros \n",
    "- 2 termos \n",
    "- se considera la red \n",
    "### variables de descision incluyen the volume of the reservoir 𝑣, water discharge 𝑞, inflows 𝑎, and spillage 𝑠 "
   ]
  },
  {
   "cell_type": "code",
   "execution_count": 3,
   "metadata": {},
   "outputs": [],
   "source": [
    "p = cvx.Variable((12,4)) # hydro = {0,1} thermal = {2,3}\n",
    "pL = cvx.Variable(12) # losses\n",
    "v = cvx.Variable((13,2)) # volumne\n",
    "q = cvx.Variable((12,2)) # water discharge\n",
    "a = [[0, 0.6, 1.2, 1.2, 1.2, 1.8, 2.4, 1.5, 1.2, 0.9, 0, 0],\n",
    "[0, 0.0, 0.0, 1.5, 3.0, 4.5, 4.5, 1.5, 0.0, 0.0, 0, 0]]\n",
    "\n",
    "B = [[ 0.05,-0.02, 0.01, 0.00],\n",
    "[-0.02, 0.06,-0.02, 0.01],[ 0.01,-0.02, 0.04, 0.00],\n",
    "[ 0.00, 0.01, 0.00, 0.02]] # loss matrix\n",
    "d = [8, 7, 7, 6, 7, 8, 9, 8, 7, 7, 8, 8] # demand 12 hr\n",
    "cost = 0\n",
    "res = [v[0,0] == 10, v[0,1] == 12, v[12,0]==10, v[12,1] == 12]\n"
   ]
  },
  {
   "cell_type": "markdown",
   "metadata": {},
   "source": []
  },
  {
   "cell_type": "code",
   "execution_count": 6,
   "metadata": {},
   "outputs": [
    {
     "data": {
      "text/plain": [
       "33.321311653776625"
      ]
     },
     "execution_count": 6,
     "metadata": {},
     "output_type": "execute_result"
    }
   ],
   "source": [
    "for t in range(12):\n",
    "    cost = cost + 0.02*p[t,2]**2 + 0.80*p[t,2]\n",
    "    cost = cost + 0.03*p[t,3]**2 + 0.78*p[t,3]\n",
    "    res += [sum(p[t,:]) == d[t] + pL[t]]\n",
    "    res += [pL[t] >= cvx.quad_form(p[t,:],B)]# restriccion de perdidas \n",
    "    res += [q[t,:] >= 0.5]\n",
    "    res += [p[t,:] >= 0.0]\n",
    "    res += [p[t,0] + 0.58*q[t,0]**2 - 3.60*q[t,0] + 0.89 <= 0 ]\n",
    "    res += [p[t,1] + 0.78*q[t,1]**2 - 3.96*q[t,1] + 1.13 <= 0 ]\n",
    "    res += [v[t+1,0] == v[t,0] + a[0][t] - q[t,0]]\n",
    "    res += [v[t+1,1] == v[t,1] + a[1][t] - q[t,1]]\n",
    "HydTh = cvx.Problem(cvx.Minimize(cost), res)\n",
    "HydTh.solve()\n"
   ]
  },
  {
   "cell_type": "code",
   "execution_count": 12,
   "metadata": {},
   "outputs": [
    {
     "name": "stdout",
     "output_type": "stream",
     "text": [
      "optimal 33.321311653776625\n"
     ]
    }
   ],
   "source": [
    "print(HydTh.status, cost.value)"
   ]
  },
  {
   "cell_type": "code",
   "execution_count": 15,
   "metadata": {},
   "outputs": [
    {
     "name": "stdout",
     "output_type": "stream",
     "text": [
      "Losses: [1. 0. 0. 0. 0. 1. 1. 1. 0. 0. 1. 1.]\n"
     ]
    }
   ],
   "source": [
    "print(\"Losses:\",np.round(pL.value))"
   ]
  },
  {
   "cell_type": "code",
   "execution_count": null,
   "metadata": {},
   "outputs": [],
   "source": [
    "print(\"Generation:\",np.round(p.value))"
   ]
  },
  {
   "cell_type": "code",
   "execution_count": 14,
   "metadata": {},
   "outputs": [
    {
     "name": "stdout",
     "output_type": "stream",
     "text": [
      "Volume: [[10. 12.]\n",
      " [ 9. 11.]\n",
      " [ 9. 10.]\n",
      " [ 9.  8.]\n",
      " [ 9.  9.]\n",
      " [ 9. 10.]\n",
      " [10. 14.]\n",
      " [11. 17.]\n",
      " [12. 17.]\n",
      " [12. 16.]\n",
      " [12. 15.]\n",
      " [11. 13.]\n",
      " [10. 12.]]\n"
     ]
    }
   ],
   "source": [
    "print(\"Volume:\",np.round(v.value))"
   ]
  },
  {
   "cell_type": "markdown",
   "metadata": {},
   "source": [
    "# despachos24 hrs hidrotermico 4 reservorios en cadena 1 termica grande \n",
    "- funcion de costo lineal "
   ]
  },
  {
   "cell_type": "code",
   "execution_count": 17,
   "metadata": {},
   "outputs": [],
   "source": [
    "numh = 4\n",
    "vmin = [80,60,100,70]\n",
    "vmax = [150,120,240,160]\n",
    "vini = [100,80,170,120]\n",
    "vend = [120,80,170,100]\n",
    "qmin = numh*[0]\n",
    "qmax = [15,15,30,30]\n",
    "smin = numh*[0]\n",
    "smax = numh*[10]\n",
    "pHmax = numh*[500]\n",
    "pHmin = numh*[0]\n",
    "pTmax = 2500\n",
    "pTmin = 0\n",
    "a = [[ 9.0, 7.5, 2.5, 2.8],\n",
    "[ 9.2, 8.0, 3.0, 2.4],\n",
    "[ 9.5, 8.8, 4.0, 1.6],\n",
    "[ 9.6, 9.0, 4.5, 1.0],\n",
    "[ 9.8, 9.3, 4.3, 1.0],\n",
    "[ 9.9, 9.5, 4.0, 1.0],\n",
    "[10.0, 10.0, 3.0, 1.0],\n",
    "[10.3, 10.2, 2.0, 1.3],\n",
    "[10.5, 10.3, 1.5, 1.5],\n",
    "[11.0, 10.3, 1.0, 1.6],\n",
    "[11.2, 10.5, 1.0, 1.7],\n",
    "[11.5, 10.4, 1.8, 1.5],\n",
    "[11.4, 10.3, 2.3, 1.5],\n",
    "[11.3, 10.0, 3.0, 1.3],\n",
    "[11.2, 9.8, 3.0, 1.2],\n",
    "[10.0, 9.5, 2.8, 1.2],\n",
    "[ 9.3, 9.3, 2.5, 1.2],\n",
    "[ 8.6, 9.0, 2.0, 1.0],\n",
    "[ 7.5, 8.8, 1.8, 1.0],\n",
    "[ 7.0, 8.7, 1.6, 0.8],\n",
    "[ 7.2, 8.6, 1.6, 0.8],\n",
    "[ 7.3, 8.3, 1.8, 0.8],\n",
    "[ 7.4, 8.0, 2.0, 0.8],\n",
    "[ 7.5, 8.0, 2.0, 0.8]]\n",
    "d = [685,695,680,645,645,705,825,1000, 1120,1160,1115,1155,\n",
    "1115,1100,1065,1035,1065,1070,1120,1140, 1120,1060,925,795]\n",
    "miu = [6.5,5.5,9.4,4.7]"
   ]
  },
  {
   "cell_type": "code",
   "execution_count": 18,
   "metadata": {},
   "outputs": [
    {
     "data": {
      "text/plain": [
       "261278.9119146028"
      ]
     },
     "execution_count": 18,
     "metadata": {},
     "output_type": "execute_result"
    }
   ],
   "source": [
    "pT = cvx.Variable(24)\n",
    "pH = cvx.Variable((24,numh))\n",
    "v = cvx.Variable((25,numh))\n",
    "q = cvx.Variable((24,numh))\n",
    "s = cvx.Variable((24,numh))\n",
    "cost = 5000\n",
    "res = []\n",
    "for t in range(24):\n",
    "    cost=cost + 19.2*pT[t]\n",
    "    res+=[pT[t] >= pTmin, pT[t] <= pTmax]\n",
    "    res+=[sum(pH[t,:])+pT[t]==d[t]]# suma gen = demanda\n",
    "    res+=[v[t+1,0]==v[t,0]+a[t][0]-s[t,0]-q[t,0]]# volumen siguiente igual al volumen anterior \n",
    "    res+=[v[t+1,1]==v[t,1]+a[t][1]-s[t,1]-q[t,1]]\n",
    "    res+=[v[t+1,2]==v[t,2]+a[t][2]-s[t,2]-q[t,2]\n",
    "    +s[t,0]+q[t,0]+s[t,1]+q[t,1]]\n",
    "    res+=[v[t+1,3]==v[t,3]+a[t][3]-s[t,3]-q[t,3]+s[t,2]+q[t,2]]\n",
    "    for k in range(numh):\n",
    "        res += [v[0,k] == vini[k], v[24,k] == vend[k]]\n",
    "        res += [v[t,k] >= vmin[k], v[t,k] <= vmax[k]]\n",
    "        res += [q[t,k] >= qmin[k], q[t,k] <= qmax[k]]\n",
    "        res += [s[t,k] >= smin[k], s[t,k] <= smax[k]]\n",
    "        res += [pH[t,k] >= pHmin[k], pH[t,k] <= pHmax[k]]\n",
    "        res += [pH[t,k] == miu[k]*q[t,k]]\n",
    "HydTh4 = cvx.Problem(cvx.Minimize(cost), res)\n",
    "HydTh4.solve()\n"
   ]
  },
  {
   "cell_type": "code",
   "execution_count": 20,
   "metadata": {},
   "outputs": [
    {
     "name": "stdout",
     "output_type": "stream",
     "text": [
      "optimal 261278.9119146028\n"
     ]
    }
   ],
   "source": [
    "print(HydTh4.status, cost.value)"
   ]
  },
  {
   "cell_type": "markdown",
   "metadata": {},
   "source": [
    "Example 9.4. Let us consider a generation system consisting of a large solar\n",
    "farm (100MW), a small thermal unit (10MW), and a pumped hydroelectric\n",
    "(30MW/120MWh). The system can buy and sell energy to the main grid; the\n",
    "objective is to maximize total income. Therefore, the pumped hydroelectric can\n",
    "buy energy from the grid at periods of low price to sell this energy at periods\n",
    "of a high price. The system is also able to store the energy generated by the\n",
    "solar plant. The price of the energy 𝑐𝑡\n",
    "is variable according to the hour, and the\n",
    "operation costs of the thermal unit are assumed linear.\n",
    "\n",
    "max 𝑓 =∑ 𝑐𝑡𝑝𝑡 − 𝛼𝑝thm 𝑡∈𝖳\n",
    "\n",
    "𝑝𝑡 = 𝑝thm + 𝑝sol + 𝑝gen − 𝑝pmp\n",
    "\n",
    " 𝑝gen is the power injected by the hydroelectric in generation mode, 𝑝pmp\n",
    "is the power taken from the grid in pumping mode, and 𝑝sol is the power generated by the solar farm; notice that 𝑝𝑡 may be negative, meaning the system is taking energy from the main grid to pump water"
   ]
  },
  {
   "cell_type": "code",
   "execution_count": 28,
   "metadata": {},
   "outputs": [
    {
     "data": {
      "text/plain": [
       "448.299999842626"
      ]
     },
     "execution_count": 28,
     "metadata": {},
     "output_type": "execute_result"
    }
   ],
   "source": [
    "pS = [0,0,0,0,0,0,0,26,50,71,87,97,100,97,87,71,50,26,0,0,0,0,0,0]\n",
    "c = [0.4, 0.4, 0.4, 0.4, 0.4, 0.5, 0.6, 0.6, 0.6, 0.5, 0.5, 0.4,\n",
    "0.4, 0.4, 0.5, 0.5, 0.6, 0.9, 1.1, 1.1, 1.0, 0.8, 0.7, 0.5]\n",
    "vup = cvx.Variable(25,nonneg=True)\n",
    "vdw = cvx.Variable(25,nonneg=True)\n",
    "pgen = cvx.Variable(24,nonneg=True)\n",
    "ppmp = cvx.Variable(24, nonneg=True)\n",
    "pthm = cvx.Variable(24, nonneg=True)\n",
    "q = cvx.Variable(24)\n",
    "p = cvx.Variable(24)\n",
    "x = cvx.Variable(24, boolean=True) #que es ? \n",
    "f = 0\n",
    "res = [vup[0] == 0, vdw[0] == 120] # initial conditions\n",
    "for t in range(24):\n",
    "    f = f + c[t]*p[t]-0.95*pthm[t]\n",
    "    res += [vup[t] <= 120, vdw[t] <= 120]\n",
    "    res += [pgen[t] - 0.8*ppmp[t] == 1*q[t]]\n",
    "    res += [pgen[t] - ppmp[t] + pS[t] + pthm[t] == p[t]]\n",
    "    res += [pgen[t] <= 30*x[t], ppmp[t] <= 30*(1-x[t])]\n",
    "    res += [vup[t+1] == vup[t] - q[t] ]\n",
    "    res += [vdw[t+1] == vdw[t] + q[t] ]\n",
    "    res += [pthm[t] <= 10]\n",
    "PHS = cvx.Problem(cvx.Maximize(f),res)\n",
    "PHS.solve(solver='ECOS_BB')\n",
    "#PHS.solve(solver='GUROBI') #CORRER EN LA U \n",
    "#print(\"eff:\",print(np.sum(pgen.value-psto.value)))"
   ]
  },
  {
   "cell_type": "code",
   "execution_count": 29,
   "metadata": {},
   "outputs": [
    {
     "name": "stdout",
     "output_type": "stream",
     "text": [
      "optimal 448.299999842626\n"
     ]
    }
   ],
   "source": [
    "print(PHS.status, f.value)"
   ]
  },
  {
   "cell_type": "code",
   "execution_count": 33,
   "metadata": {},
   "outputs": [
    {
     "name": "stdout",
     "output_type": "stream",
     "text": [
      "Generacion termica: [ 0.  0.  0.  0.  0.  0.  0.  0.  0.  0.  0.  0.  0.  0.  0.  0.  0.  0.\n",
      " 10. 10. 10.  0.  0.  0.]\n",
      "Generacion pumped: [30. 30. 30. 30. 30.  0.  0.  0.  0.  0.  0. 30. 30. 30.  0.  0.  0.  0.\n",
      "  0.  0.  0.  0.  0.  0.]\n"
     ]
    }
   ],
   "source": [
    "print(\"Generacion termica:\",np.round(pthm.value ))\n",
    "print(\"Generacion pumped:\",np.round(ppmp.value ))"
   ]
  },
  {
   "cell_type": "code",
   "execution_count": 45,
   "metadata": {},
   "outputs": [
    {
     "data": {
      "text/plain": [
       "Text(0, 0.5, 'Power MW')"
      ]
     },
     "execution_count": 45,
     "metadata": {},
     "output_type": "execute_result"
    },
    {
     "data": {
      "image/png": "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",
      "text/plain": [
       "<Figure size 432x288 with 1 Axes>"
      ]
     },
     "metadata": {
      "needs_background": "light"
     },
     "output_type": "display_data"
    }
   ],
   "source": [
    "plt.plot(p.value.T,marker=\"o\")\n",
    "plt.plot(pthm.value.T,marker=\"*\")\n",
    "plt.plot(pgen.value.T,marker=\"^\")\n",
    "plt.plot(pS,marker=\"P\")\n",
    "plt.grid()\n",
    "plt.xlabel(\"time h\")\n",
    "plt.ylabel(\"Power MW\")"
   ]
  },
  {
   "cell_type": "code",
   "execution_count": 48,
   "metadata": {},
   "outputs": [
    {
     "data": {
      "image/png": "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",
      "text/plain": [
       "<Figure size 432x288 with 4 Axes>"
      ]
     },
     "metadata": {
      "needs_background": "light"
     },
     "output_type": "display_data"
    }
   ],
   "source": [
    "plt.subplot(4,1,1)\n",
    "plt.plot(vup.value.T)\n",
    "plt.subplot(4,1,2)\n",
    "plt.plot(vdw.value.T)\n",
    "plt.subplot(4,1,3)\n",
    "\n",
    "plt.plot(q.value.T)\n",
    "plt.subplot(4,1,4)\n",
    "plt.plot(x.value.T)\n",
    "plt.show()"
   ]
  },
  {
   "cell_type": "code",
   "execution_count": 46,
   "metadata": {},
   "outputs": [
    {
     "data": {
      "text/plain": [
       "[<matplotlib.lines.Line2D at 0x22528dfe2e0>]"
      ]
     },
     "execution_count": 46,
     "metadata": {},
     "output_type": "execute_result"
    },
    {
     "data": {
      "image/png": "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",
      "text/plain": [
       "<Figure size 432x288 with 1 Axes>"
      ]
     },
     "metadata": {
      "needs_background": "light"
     },
     "output_type": "display_data"
    }
   ],
   "source": [
    "plt.plot(vup.value.T,marker=\"o\")\n",
    "#plt.plot(pthm.value.T,marker=\"*\")\n",
    "#plt.plot(pgen.value.T,marker=\"^\")\n",
    "#plt.plot(pS,marker=\"P\")\n",
    "#plt.grid()\n",
    "#plt.xlabel(\"time h\")\n",
    "#plt.ylabel(\"Power MW\")"
   ]
  },
  {
   "cell_type": "code",
   "execution_count": null,
   "metadata": {},
   "outputs": [],
   "source": []
  }
 ],
 "metadata": {
  "kernelspec": {
<<<<<<< HEAD
   "display_name": "Python 3.9.12 ('gurobi')",
=======
   "display_name": "Python 3.8.13 ('gurobi')",
>>>>>>> 283112f3a184f2ee91a1bbe7ac467cd9b31c9762
   "language": "python",
   "name": "python3"
  },
  "language_info": {
   "codemirror_mode": {
    "name": "ipython",
    "version": 3
   },
   "file_extension": ".py",
   "mimetype": "text/x-python",
   "name": "python",
   "nbconvert_exporter": "python",
   "pygments_lexer": "ipython3",
<<<<<<< HEAD
   "version": "3.9.12"
=======
   "version": "3.8.13"
>>>>>>> 283112f3a184f2ee91a1bbe7ac467cd9b31c9762
  },
  "orig_nbformat": 4,
  "vscode": {
   "interpreter": {
<<<<<<< HEAD
    "hash": "4b61e63bbe89ade645af8089248eeae19c575a1e6f5a179d4a698ecce2fee66b"
=======
    "hash": "03bbc52f8cfc3f4795b3cc046eb4ce8648711f2bcfc925e4f713cbd4fef920a7"
>>>>>>> 283112f3a184f2ee91a1bbe7ac467cd9b31c9762
   }
  }
 },
 "nbformat": 4,
 "nbformat_minor": 2
}
