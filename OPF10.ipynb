{
 "cells": [
  {
   "cell_type": "code",
   "execution_count": 2,
   "metadata": {},
   "outputs": [],
   "source": [
    "\n",
    "import numpy as np\n",
    "import networkx as nx"
   ]
  },
  {
   "cell_type": "code",
   "execution_count": 3,
   "metadata": {},
   "outputs": [
    {
     "data": {
      "image/png": "[encoded data removed]",
      "text/plain": [
       "<Figure size 432x288 with 1 Axes>"
      ]
     },
     "metadata": {},
     "output_type": "display_data"
    }
   ],
   "source": [
    "G = nx.DiGraph()\n",
    "G.add_node(0,name=\"slack\",smax=10,d=0)\n",
    "G.add_node(1,name=\"step\",smax=0,d=0)\n",
    "G.add_node(2,name=\"house\",smax=0,d=1.2+0.3j)\n",
    "G.add_node(3,name=\"solar\",smax=1,d=0)\n",
    "G.add_node(4,name=\"building\",smax=0,d=2.5+0.9j)\n",
    "G.add_node(5,name=\"wind\",smax=1.5,d=0)\n",
    "G.add_edge(0,1,y=1/(0.0075+0.010j),thlim=2)\n",
    "G.add_edge(1,2,y=1/(0.0080+0.011j),thlim=2)\n",
    "G.add_edge(2,3,y=1/(0.0090+0.018j),thlim=2)\n",
    "G.add_edge(1,4,y=1/(0.0040+0.004j),thlim=2)\n",
    "G.add_edge(4,5,y=1/(0.0050+0.006j),thlim=2)\n",
    "nx.draw(G,with_labels=True,pos=nx.spectral_layout(G))"
   ]
  },
  {
   "cell_type": "code",
   "execution_count": 4,
   "metadata": {},
   "outputs": [
    {
     "name": "stdout",
     "output_type": "stream",
     "text": [
      "[[  48.         -64.j          -48.         +64.j\n",
      "     0.          +0.j            0.          +0.j\n",
      "     0.          +0.j            0.          +0.j        ]\n",
      " [ -48.         +64.j          216.24324324-248.45945946j\n",
      "   -43.24324324 +59.45945946j    0.          +0.j\n",
      "  -125.        +125.j            0.          +0.j        ]\n",
      " [   0.          +0.j          -43.24324324 +59.45945946j\n",
      "    65.46546547-103.9039039j   -22.22222222 +44.44444444j\n",
      "     0.          +0.j            0.          +0.j        ]\n",
      " [   0.          +0.j            0.          +0.j\n",
      "   -22.22222222 +44.44444444j   22.22222222 -44.44444444j\n",
      "     0.          +0.j            0.          +0.j        ]\n",
      " [   0.          +0.j         -125.        +125.j\n",
      "     0.          +0.j            0.          +0.j\n",
      "   206.96721311-223.36065574j  -81.96721311 +98.36065574j]\n",
      " [   0.          +0.j            0.          +0.j\n",
      "     0.          +0.j            0.          +0.j\n",
      "   -81.96721311 +98.36065574j   81.96721311 -98.36065574j]]\n",
      "[3.55850779e+02 1.53742122e+02 6.95171530e+01 4.52945499e+01\n",
      " 2.27830003e-14 1.64607529e+01]\n"
     ]
    },
    {
     "name": "stderr",
     "output_type": "stream",
     "text": [
      "C:\\Users\\carlo\\AppData\\Local\\Temp\\ipykernel_1892\\2963923999.py:1: FutureWarning: incidence_matrix will return a scipy.sparse array instead of a matrix in Networkx 3.0.\n",
      "  A = nx.incidence_matrix(G,oriented=True)\n"
     ]
    }
   ],
   "source": [
    "A = nx.incidence_matrix(G,oriented=True)\n",
    "Yp = np.diag([G.edges[k][\"y\"] for k in G.edges])\n",
    "Ybus = A@Yp@A.T\n",
    "print(Ybus)\n",
    "print(np.linalg.eigvals(Ybus.real))"
   ]
  },
  {
   "cell_type": "code",
   "execution_count": 7,
   "metadata": {},
   "outputs": [
    {
     "name": "stdout",
     "output_type": "stream",
     "text": [
      "[-48.+64.j   0. +0.j   0. +0.j   0. +0.j   0. +0.j]\n",
      "[[ 216.24324324-248.45945946j  -43.24324324 +59.45945946j\n",
      "     0.          +0.j         -125.        +125.j\n",
      "     0.          +0.j        ]\n",
      " [ -43.24324324 +59.45945946j   65.46546547-103.9039039j\n",
      "   -22.22222222 +44.44444444j    0.          +0.j\n",
      "     0.          +0.j        ]\n",
      " [   0.          +0.j          -22.22222222 +44.44444444j\n",
      "    22.22222222 -44.44444444j    0.          +0.j\n",
      "     0.          +0.j        ]\n",
      " [-125.        +125.j            0.          +0.j\n",
      "     0.          +0.j          206.96721311-223.36065574j\n",
      "   -81.96721311 +98.36065574j]\n",
      " [   0.          +0.j            0.          +0.j\n",
      "     0.          +0.j          -81.96721311 +98.36065574j\n",
      "    81.96721311 -98.36065574j]]\n"
     ]
    }
   ],
   "source": [
    "n = G.number_of_nodes()\n",
    "YN0 = Ybus[1:n,0]\n",
    "YNN = Ybus[1:n,1:n]\n",
    "ZNN = np.linalg.inv(YNN)\n",
    "d = np.array([G.nodes[k][\"d\"] for k in G.nodes])\n",
    "print(YN0)\n",
    "print(YNN)"
   ]
  },
  {
   "cell_type": "code",
   "execution_count": null,
   "metadata": {},
   "outputs": [],
   "source": []
  },
  {
   "cell_type": "code",
   "execution_count": 8,
   "metadata": {},
   "outputs": [],
   "source": [
    "def LoadFlow(sN,dN):\n",
    "    v0 = 1+0j\n",
    "    vN = np.ones(n-1)*v0\n",
    "    for t in range(10):\n",
    "        vN = ZNN@(np.conj((sN-dN)/vN)-v0*YN0)\n",
    "        vT = np.hstack([v0,vN]);\n",
    "        sT = vT*np.conj(Ybus@vT)\n",
    "        err = np.linalg.norm(sT[1:n]-(sN-dN))\n",
    "    print(\"Load Flow, after 10 iterations the error is\",err)\n",
    "    return vT\n"
   ]
  },
  {
   "cell_type": "code",
   "execution_count": 9,
   "metadata": {},
   "outputs": [
    {
     "name": "stdout",
     "output_type": "stream",
     "text": [
      "Load Flow, after 10 iterations the error is 9.88471352571831e-12\n",
      "Loss (0.17318313352727796+0.22089148762912414j)\n",
      "flow (0, 1) 4.125588467764166\n",
      "flow (1, 2) 1.3111259268830717\n",
      "flow (1, 4) 2.8185600232226564\n",
      "flow (2, 3) 1.7445471763153054e-14\n",
      "flow (4, 5) 7.107474605133389e-15\n"
     ]
    }
   ],
   "source": [
    "VT = LoadFlow(np.zeros(n-1),d[1:n])\n",
    "ST = VT*np.conj(Ybus@VT)\n",
    "pL = sum(ST)\n",
    "print(\"Loss\",pL)\n",
    "for (k,m) in G.edges:\n",
    "    Sf = Ybus[k,m]*(VT[k]-VT[m])\n",
    "    print(\"flow\",(k,m),np.abs(Sf))\n"
   ]
  },
  {
   "cell_type": "code",
   "execution_count": 10,
   "metadata": {},
   "outputs": [
    {
     "data": {
      "text/html": [
       "<div>\n",
       "<style scoped>\n",
       "    .dataframe tbody tr th:only-of-type {\n",
       "        vertical-align: middle;\n",
       "    }\n",
       "\n",
       "    .dataframe tbody tr th {\n",
       "        vertical-align: top;\n",
       "    }\n",
       "\n",
       "    .dataframe thead th {\n",
       "        text-align: right;\n",
       "    }\n",
       "</style>\n",
       "<table border=\"1\" class=\"dataframe\">\n",
       "  <thead>\n",
       "    <tr style=\"text-align: right;\">\n",
       "      <th></th>\n",
       "      <th>name</th>\n",
       "      <th>vpu</th>\n",
       "      <th>ang</th>\n",
       "      <th>pnode</th>\n",
       "      <th>qnode</th>\n",
       "    </tr>\n",
       "  </thead>\n",
       "  <tbody>\n",
       "    <tr>\n",
       "      <th>0</th>\n",
       "      <td>slack</td>\n",
       "      <td>1.000000</td>\n",
       "      <td>0.000000</td>\n",
       "      <td>1.3638</td>\n",
       "      <td>0.4930</td>\n",
       "    </tr>\n",
       "    <tr>\n",
       "      <th>1</th>\n",
       "      <td>step</td>\n",
       "      <td>0.984892</td>\n",
       "      <td>-0.578288</td>\n",
       "      <td>0.0000</td>\n",
       "      <td>-0.0000</td>\n",
       "    </tr>\n",
       "    <tr>\n",
       "      <th>2</th>\n",
       "      <td>house</td>\n",
       "      <td>0.982418</td>\n",
       "      <td>-0.721270</td>\n",
       "      <td>-1.2000</td>\n",
       "      <td>-0.3000</td>\n",
       "    </tr>\n",
       "    <tr>\n",
       "      <th>3</th>\n",
       "      <td>solar</td>\n",
       "      <td>0.996013</td>\n",
       "      <td>0.144522</td>\n",
       "      <td>0.9605</td>\n",
       "      <td>0.2782</td>\n",
       "    </tr>\n",
       "    <tr>\n",
       "      <th>4</th>\n",
       "      <td>building</td>\n",
       "      <td>0.978681</td>\n",
       "      <td>-0.737028</td>\n",
       "      <td>-2.5000</td>\n",
       "      <td>-0.9000</td>\n",
       "    </tr>\n",
       "    <tr>\n",
       "      <th>5</th>\n",
       "      <td>wind</td>\n",
       "      <td>0.988796</td>\n",
       "      <td>-0.377715</td>\n",
       "      <td>1.4183</td>\n",
       "      <td>0.4882</td>\n",
       "    </tr>\n",
       "  </tbody>\n",
       "</table>\n",
       "</div>"
      ],
      "text/plain": [
       "       name       vpu       ang   pnode   qnode\n",
       "0     slack  1.000000  0.000000  1.3638  0.4930\n",
       "1      step  0.984892 -0.578288  0.0000 -0.0000\n",
       "2     house  0.982418 -0.721270 -1.2000 -0.3000\n",
       "3     solar  0.996013  0.144522  0.9605  0.2782\n",
       "4  building  0.978681 -0.737028 -2.5000 -0.9000\n",
       "5      wind  0.988796 -0.377715  1.4183  0.4882"
      ]
     },
     "execution_count": 10,
     "metadata": {},
     "output_type": "execute_result"
    }
   ],
   "source": [
    "import pandas as pd\n",
    "results = pd.DataFrame()\n",
    "results[\"name\"] = [G.nodes[k][\"name\"] for k in G.nodes]\n",
    "results[\"vpu\"] = np.abs(VT)\n",
    "results[\"ang\"] = np.angle(VT)*180/np.pi\n",
    "results[\"pnode\"] = np.round(ST.real,4)\n",
    "results[\"qnode\"] = np.round(ST.imag,4)\n",
    "results.head(n)\n"
   ]
  },
  {
   "cell_type": "markdown",
   "metadata": {},
   "source": [
    "10.6"
   ]
  },
  {
   "cell_type": "code",
   "execution_count": 12,
   "metadata": {},
   "outputs": [
    {
     "name": "stdout",
     "output_type": "stream",
     "text": [
      "pL 0.0405717289012366 optimal\n"
     ]
    }
   ],
   "source": [
    "import cvxpy as cvx\n",
    "smax = np.array([G.nodes[k][\"smax\"] for k in G.nodes])\n",
    "d = np.array([G.nodes[k][\"d\"] for k in G.nodes])\n",
    "v = cvx.Variable(n,complex=True)\n",
    "s = cvx.Variable(n,complex=True)\n",
    "W = cvx.Variable((n,n),complex=True)\n",
    "obj = cvx.Minimize(cvx.quad_form(cvx.real(v),Ybus.real)+\n",
    "cvx.quad_form(cvx.imag(v),Ybus.real))\n",
    "res = [v[0] == 1.0]\n",
    "M = Ybus@W\n",
    "for k in G.nodes:\n",
    "    res += [cvx.conj(s[k]-d[k]) == M[k,k]]\n",
    "    res += [cvx.abs(v[k]-1) <= 0.05]\n",
    "    res += [cvx.abs(s[k]) <= smax[k]]\n",
    "    for m in G.nodes:\n",
    "        res += [W[m,k] == cvx.conj(v[k])+v[m]-1]\n",
    "for (k,m) in G.edges:\n",
    "    res += [cvx.abs(Ybus[k,m]*(v[k]-v[m])) <= G.edges[(k,m)]\n",
    "    [\"thlim\"]]\n",
    "OPF = cvx.Problem(obj,res)\n",
    "OPF.solve()\n",
    "print(\"pL\",obj.value,OPF.status)\n"
   ]
  },
  {
   "cell_type": "code",
   "execution_count": 16,
   "metadata": {},
   "outputs": [
    {
     "data": {
      "text/plain": [
       "array([1.32116375e+00+4.33548620e-01j, 2.69597409e-12-9.35787616e-13j,\n",
       "       3.62055006e-12-1.48703159e-12j, 9.60520308e-01+2.78209748e-01j,\n",
       "       3.17644361e-12-1.08719331e-12j, 1.41831593e+00+4.88241625e-01j])"
      ]
     },
     "execution_count": 16,
     "metadata": {},
     "output_type": "execute_result"
    }
   ],
   "source": [
    "s.value\n"
   ]
  },
  {
   "cell_type": "code",
   "execution_count": 15,
   "metadata": {},
   "outputs": [
    {
     "name": "stdout",
     "output_type": "stream",
     "text": [
      "Load Flow, after 10 iterations the error is 7.675765536708782e-14\n",
      "Loss (0.0426232431143585+0.05945112112816503j)\n"
     ]
    }
   ],
   "source": [
    "VT = LoadFlow(s.value[1:n],d[1:n])\n",
    "ST = VT*np.conj(Ybus@VT)\n",
    "pL = sum(ST)\n",
    "print(\"Loss\",pL)"
   ]
  },
  {
   "cell_type": "code",
   "execution_count": 17,
   "metadata": {},
   "outputs": [
    {
     "data": {
      "text/html": [
       "<div>\n",
       "<style scoped>\n",
       "    .dataframe tbody tr th:only-of-type {\n",
       "        vertical-align: middle;\n",
       "    }\n",
       "\n",
       "    .dataframe tbody tr th {\n",
       "        vertical-align: top;\n",
       "    }\n",
       "\n",
       "    .dataframe thead th {\n",
       "        text-align: right;\n",
       "    }\n",
       "</style>\n",
       "<table border=\"1\" class=\"dataframe\">\n",
       "  <thead>\n",
       "    <tr style=\"text-align: right;\">\n",
       "      <th></th>\n",
       "      <th>name</th>\n",
       "      <th>vpu</th>\n",
       "      <th>ang</th>\n",
       "      <th>pnode</th>\n",
       "      <th>qnode</th>\n",
       "    </tr>\n",
       "  </thead>\n",
       "  <tbody>\n",
       "    <tr>\n",
       "      <th>0</th>\n",
       "      <td>slack</td>\n",
       "      <td>1.000000</td>\n",
       "      <td>0.000000</td>\n",
       "      <td>1.3638</td>\n",
       "      <td>0.4930</td>\n",
       "    </tr>\n",
       "    <tr>\n",
       "      <th>1</th>\n",
       "      <td>step</td>\n",
       "      <td>0.984892</td>\n",
       "      <td>-0.578288</td>\n",
       "      <td>0.0000</td>\n",
       "      <td>-0.0000</td>\n",
       "    </tr>\n",
       "    <tr>\n",
       "      <th>2</th>\n",
       "      <td>house</td>\n",
       "      <td>0.982418</td>\n",
       "      <td>-0.721270</td>\n",
       "      <td>-1.2000</td>\n",
       "      <td>-0.3000</td>\n",
       "    </tr>\n",
       "    <tr>\n",
       "      <th>3</th>\n",
       "      <td>solar</td>\n",
       "      <td>0.996013</td>\n",
       "      <td>0.144522</td>\n",
       "      <td>0.9605</td>\n",
       "      <td>0.2782</td>\n",
       "    </tr>\n",
       "    <tr>\n",
       "      <th>4</th>\n",
       "      <td>building</td>\n",
       "      <td>0.978681</td>\n",
       "      <td>-0.737028</td>\n",
       "      <td>-2.5000</td>\n",
       "      <td>-0.9000</td>\n",
       "    </tr>\n",
       "    <tr>\n",
       "      <th>5</th>\n",
       "      <td>wind</td>\n",
       "      <td>0.988796</td>\n",
       "      <td>-0.377715</td>\n",
       "      <td>1.4183</td>\n",
       "      <td>0.4882</td>\n",
       "    </tr>\n",
       "  </tbody>\n",
       "</table>\n",
       "</div>"
      ],
      "text/plain": [
       "       name       vpu       ang   pnode   qnode\n",
       "0     slack  1.000000  0.000000  1.3638  0.4930\n",
       "1      step  0.984892 -0.578288  0.0000 -0.0000\n",
       "2     house  0.982418 -0.721270 -1.2000 -0.3000\n",
       "3     solar  0.996013  0.144522  0.9605  0.2782\n",
       "4  building  0.978681 -0.737028 -2.5000 -0.9000\n",
       "5      wind  0.988796 -0.377715  1.4183  0.4882"
      ]
     },
     "execution_count": 17,
     "metadata": {},
     "output_type": "execute_result"
    }
   ],
   "source": [
    "results = pd.DataFrame()\n",
    "results[\"name\"] = [G.nodes[k][\"name\"] for k in G.nodes]\n",
    "results[\"vpu\"] = np.abs(VT)\n",
    "results[\"ang\"] = np.angle(VT)*180/np.pi\n",
    "results[\"pnode\"] = np.round(ST.real,4)\n",
    "results[\"qnode\"] = np.round(ST.imag,4)\n",
    "results.head(n)"
   ]
  },
  {
   "cell_type": "code",
   "execution_count": 14,
   "metadata": {},
   "outputs": [
    {
     "name": "stdout",
     "output_type": "stream",
     "text": [
      "pL 0.040571728901998574 optimal\n"
     ]
    }
   ],
   "source": [
    "import cvxpy as cvx\n",
    "smax = np.array([G.nodes[k][\"smax\"] for k in G.nodes])\n",
    "d = np.array([G.nodes[k][\"d\"] for k in G.nodes])\n",
    "v = cvx.Variable(n,complex=True)\n",
    "s = cvx.Variable(n,complex=True)\n",
    "W = cvx.Variable((n,n),complex=True)\n",
    "obj = cvx.Minimize(cvx.quad_form(cvx.real(v),Ybus.real)+\n",
    "cvx.quad_form(cvx.imag(v),Ybus.real))\n",
    "res = [v[0] == 1.0]\n",
    "M = Ybus@W\n",
    "for k in G.nodes:\n",
    "    res += [cvx.conj(s[k]-d[k]) == M[k,k]]\n",
    "    res += [cvx.abs(v[k]-1) <= 0.05]\n",
    "    res += [cvx.abs(s[k]) <= smax[k]]\n",
    "    for m in G.nodes:\n",
    "        res += [W[m,k] == cvx.conj(v[k])+v[m]-1]\n",
    "for (k,m) in G.edges:\n",
    "    res += [cvx.abs(Ybus[k,m]*(v[k]-v[m])) <= G.edges[(k,m)]\n",
    "    [\"thlim\"]]\n",
    "OPF = cvx.Problem(obj,res)\n",
    "OPF.solve()\n",
    "print(\"pL\",obj.value,OPF.status)"
   ]
  },
  {
   "cell_type": "code",
   "execution_count": 15,
   "metadata": {},
   "outputs": [
    {
     "data": {
      "text/plain": [
       "array([1.32116375e+00+4.33548620e-01j, 2.69613608e-12-9.35755007e-13j,\n",
       "       3.62072528e-12-1.48701548e-12j, 9.60520309e-01+2.78209747e-01j,\n",
       "       3.17657447e-12-1.08716726e-12j, 1.41831593e+00+4.88241626e-01j])"
      ]
     },
     "execution_count": 15,
     "metadata": {},
     "output_type": "execute_result"
    }
   ],
   "source": [
    "s.value"
   ]
  },
  {
   "cell_type": "code",
   "execution_count": 10,
   "metadata": {},
   "outputs": [
    {
     "name": "stdout",
     "output_type": "stream",
     "text": [
      "Load Flow, after 10 iterations the error is 6.676047091965498e-14\n",
      "Loss (0.042623243114517706+0.0594511211286638j)\n"
     ]
    }
   ],
   "source": [
    "VT = LoadFlow(s.value[1:n],d[1:n])\n",
    "ST = VT*np.conj(Ybus@VT)\n",
    "pL = sum(ST)\n",
    "print(\"Loss\",pL)\n"
   ]
  },
  {
   "cell_type": "code",
   "execution_count": null,
   "metadata": {},
   "outputs": [],
   "source": []
  }
 ],
 "metadata": {
  "kernelspec": {
   "display_name": "Python 3",
   "language": "python",
   "name": "python3"
  },
  "language_info": {
   "codemirror_mode": {
    "name": "ipython",
    "version": 3
   },
   "file_extension": ".py",
   "mimetype": "text/x-python",
   "name": "python",
   "nbconvert_exporter": "python",
   "pygments_lexer": "ipython3",
   "version": "3.9.13 (main, Aug 25 2022, 23:51:50) [MSC v.1916 64 bit (AMD64)]"
  },
  "orig_nbformat": 4,
  "vscode": {
   "interpreter": {
    "hash": "19c2d8edea65b586e97a88f8d20f3b86048fecbce4b07fc0b6fa97cbfaa86a4d"
   }
  }
 },
 "nbformat": 4,
 "nbformat_minor": 2
}
