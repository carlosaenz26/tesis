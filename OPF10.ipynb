{
 "cells": [
  {
   "cell_type": "code",
   "execution_count": 1,
   "metadata": {},
   "outputs": [],
   "source": [
    "\n",
    "import numpy as np\n",
    "import networkx as nx"
   ]
  },
  {
   "cell_type": "code",
   "execution_count": 2,
   "metadata": {},
   "outputs": [
    {
     "data": {
      "image/png": "[encoded data removed]",
      "text/plain": [
       "<Figure size 432x288 with 1 Axes>"
      ]
     },
     "metadata": {},
     "output_type": "display_data"
    }
   ],
   "source": [
    "G = nx.DiGraph()\n",
    "G.add_node(0,name=\"slack\",smax=10,d=0)\n",
    "G.add_node(1,name=\"step\",smax=0,d=0)\n",
    "G.add_node(2,name=\"house\",smax=0,d=1.2+0.3j)\n",
    "G.add_node(3,name=\"solar\",smax=1,d=0)\n",
    "G.add_node(4,name=\"building\",smax=0,d=2.5+0.9j)\n",
    "G.add_node(5,name=\"wind\",smax=1.5,d=0)\n",
    "G.add_edge(0,1,y=1/(0.0075+0.010j),thlim=2)\n",
    "G.add_edge(1,2,y=1/(0.0080+0.011j),thlim=2)\n",
    "G.add_edge(2,3,y=1/(0.0090+0.018j),thlim=2)\n",
    "G.add_edge(1,4,y=1/(0.0040+0.004j),thlim=2)\n",
    "G.add_edge(4,5,y=1/(0.0050+0.006j),thlim=2)\n",
    "nx.draw(G,with_labels=True,pos=nx.spectral_layout(G))"
   ]
  },
  {
   "cell_type": "code",
   "execution_count": 6,
   "metadata": {},
   "outputs": [
    {
     "ename": "AttributeError",
     "evalue": "module 'scipy.sparse' has no attribute 'lil_array'",
     "output_type": "error",
     "traceback": [
      "\u001b[1;31m---------------------------------------------------------------------------\u001b[0m",
      "\u001b[1;31mAttributeError\u001b[0m                            Traceback (most recent call last)",
      "\u001b[1;32mc:\\Users\\cs.saenz10\\Documents\\tesis\\OPF10.ipynb Celda 3\u001b[0m in \u001b[0;36m<cell line: 1>\u001b[1;34m()\u001b[0m\n\u001b[1;32m----> <a href='vscode-notebook-cell:/c%3A/Users/cs.saenz10/Documents/tesis/OPF10.ipynb#W2sZmlsZQ%3D%3D?line=0'>1</a>\u001b[0m A \u001b[39m=\u001b[39m nx\u001b[39m.\u001b[39;49mincidence_matrix(G,oriented\u001b[39m=\u001b[39;49m\u001b[39mTrue\u001b[39;49;00m)\n\u001b[0;32m      <a href='vscode-notebook-cell:/c%3A/Users/cs.saenz10/Documents/tesis/OPF10.ipynb#W2sZmlsZQ%3D%3D?line=1'>2</a>\u001b[0m Yp \u001b[39m=\u001b[39m np\u001b[39m.\u001b[39mdiag([G\u001b[39m.\u001b[39medges[k][\u001b[39m\"\u001b[39m\u001b[39my\u001b[39m\u001b[39m\"\u001b[39m] \u001b[39mfor\u001b[39;00m k \u001b[39min\u001b[39;00m G\u001b[39m.\u001b[39medges])\n\u001b[0;32m      <a href='vscode-notebook-cell:/c%3A/Users/cs.saenz10/Documents/tesis/OPF10.ipynb#W2sZmlsZQ%3D%3D?line=2'>3</a>\u001b[0m Ybus \u001b[39m=\u001b[39m A\u001b[39m@Yp\u001b[39m\u001b[39m@A\u001b[39m\u001b[39m.\u001b[39mT\n",
      "File \u001b[1;32mc:\\Users\\cs.saenz10\\.conda\\envs\\gurobi\\lib\\site-packages\\networkx\\linalg\\graphmatrix.py:69\u001b[0m, in \u001b[0;36mincidence_matrix\u001b[1;34m(G, nodelist, edgelist, oriented, weight)\u001b[0m\n\u001b[0;32m     67\u001b[0m     \u001b[39melse\u001b[39;00m:\n\u001b[0;32m     68\u001b[0m         edgelist \u001b[39m=\u001b[39m \u001b[39mlist\u001b[39m(G\u001b[39m.\u001b[39medges())\n\u001b[1;32m---> 69\u001b[0m A \u001b[39m=\u001b[39m sp\u001b[39m.\u001b[39;49msparse\u001b[39m.\u001b[39;49mlil_array((\u001b[39mlen\u001b[39m(nodelist), \u001b[39mlen\u001b[39m(edgelist)))\n\u001b[0;32m     70\u001b[0m node_index \u001b[39m=\u001b[39m {node: i \u001b[39mfor\u001b[39;00m i, node \u001b[39min\u001b[39;00m \u001b[39menumerate\u001b[39m(nodelist)}\n\u001b[0;32m     71\u001b[0m \u001b[39mfor\u001b[39;00m ei, e \u001b[39min\u001b[39;00m \u001b[39menumerate\u001b[39m(edgelist):\n",
      "\u001b[1;31mAttributeError\u001b[0m: module 'scipy.sparse' has no attribute 'lil_array'"
     ]
    }
   ],
   "source": [
    "A = nx.incidence_matrix(G,oriented=True)\n",
    "Yp = np.diag([G.edges[k][\"y\"] for k in G.edges])\n",
    "Ybus = A@Yp@A.T\n",
    "print(Ybus)\n",
    "print(np.linalg.eigvals(Ybus.real))"
   ]
  },
  {
   "cell_type": "code",
   "execution_count": 5,
   "metadata": {},
   "outputs": [
    {
     "name": "stdout",
     "output_type": "stream",
     "text": [
      "[-48.+64.j   0. +0.j   0. +0.j   0. +0.j   0. +0.j]\n",
      "[[ 216.24324324-248.45945946j  -43.24324324 +59.45945946j\n",
      "     0.          +0.j         -125.        +125.j\n",
      "     0.          +0.j        ]\n",
      " [ -43.24324324 +59.45945946j   65.46546547-103.9039039j\n",
      "   -22.22222222 +44.44444444j    0.          +0.j\n",
      "     0.          +0.j        ]\n",
      " [   0.          +0.j          -22.22222222 +44.44444444j\n",
      "    22.22222222 -44.44444444j    0.          +0.j\n",
      "     0.          +0.j        ]\n",
      " [-125.        +125.j            0.          +0.j\n",
      "     0.          +0.j          206.96721311-223.36065574j\n",
      "   -81.96721311 +98.36065574j]\n",
      " [   0.          +0.j            0.          +0.j\n",
      "     0.          +0.j          -81.96721311 +98.36065574j\n",
      "    81.96721311 -98.36065574j]]\n"
     ]
    }
   ],
   "source": [
    "n = G.number_of_nodes()\n",
    "YN0 = Ybus[1:n,0]\n",
    "YNN = Ybus[1:n,1:n]\n",
    "ZNN = np.linalg.inv(YNN)\n",
    "d = np.array([G.nodes[k][\"d\"] for k in G.nodes])\n",
    "print(YN0)\n",
    "print(YNN)"
   ]
  },
  {
   "cell_type": "code",
   "execution_count": 10,
   "metadata": {},
   "outputs": [
    {
     "data": {
      "text/plain": [
       "NodeView((0, 1, 2, 3, 4, 5))"
      ]
     },
     "execution_count": 10,
     "metadata": {},
     "output_type": "execute_result"
    }
   ],
   "source": []
  },
  {
   "cell_type": "code",
   "execution_count": 7,
   "metadata": {},
   "outputs": [],
   "source": [
    "def LoadFlow(sN,dN):\n",
    "    v0 = 1+0j\n",
    "    vN = np.ones(n-1)*v0\n",
    "    for t in range(10):\n",
    "        vN = ZNN@(np.conj((sN-dN)/vN)-v0*YN0)\n",
    "        vT = np.hstack([v0,vN]);\n",
    "        sT = vT*np.conj(Ybus@vT)\n",
    "        err = np.linalg.norm(sT[1:n]-(sN-dN))\n",
    "    print(\"Load Flow, after 10 iterations the error is\",err)\n",
    "    return vT\n"
   ]
  },
  {
   "cell_type": "code",
   "execution_count": 8,
   "metadata": {},
   "outputs": [
    {
     "name": "stdout",
     "output_type": "stream",
     "text": [
      "Load Flow, after 10 iterations the error is 9.833334494807179e-12\n",
      "Loss (0.1731831335272755+0.2208914876291268j)\n",
      "flow (0, 1) 4.125588467764153\n",
      "flow (1, 2) 1.3111259268831166\n",
      "flow (1, 4) 2.8185600232227275\n",
      "flow (2, 3) 1.111935011801867e-14\n",
      "flow (4, 5) 3.3525890660699923e-14\n"
     ]
    }
   ],
   "source": [
    "VT = LoadFlow(np.zeros(n-1),d[1:n])\n",
    "ST = VT*np.conj(Ybus@VT)\n",
    "pL = sum(ST)\n",
    "print(\"Loss\",pL)\n",
    "for (k,m) in G.edges:\n",
    "    Sf = Ybus[k,m]*(VT[k]-VT[m])\n",
    "    print(\"flow\",(k,m),np.abs(Sf))\n"
   ]
  },
  {
   "cell_type": "code",
   "execution_count": 9,
   "metadata": {},
   "outputs": [
    {
     "data": {
      "text/html": [
       "<div>\n",
       "<style scoped>\n",
       "    .dataframe tbody tr th:only-of-type {\n",
       "        vertical-align: middle;\n",
       "    }\n",
       "\n",
       "    .dataframe tbody tr th {\n",
       "        vertical-align: top;\n",
       "    }\n",
       "\n",
       "    .dataframe thead th {\n",
       "        text-align: right;\n",
       "    }\n",
       "</style>\n",
       "<table border=\"1\" class=\"dataframe\">\n",
       "  <thead>\n",
       "    <tr style=\"text-align: right;\">\n",
       "      <th></th>\n",
       "      <th>name</th>\n",
       "      <th>vpu</th>\n",
       "      <th>ang</th>\n",
       "      <th>pnode</th>\n",
       "      <th>qnode</th>\n",
       "    </tr>\n",
       "  </thead>\n",
       "  <tbody>\n",
       "    <tr>\n",
       "      <th>0</th>\n",
       "      <td>slack</td>\n",
       "      <td>1.000000</td>\n",
       "      <td>0.000000</td>\n",
       "      <td>3.8732</td>\n",
       "      <td>1.4209</td>\n",
       "    </tr>\n",
       "    <tr>\n",
       "      <th>1</th>\n",
       "      <td>step</td>\n",
       "      <td>0.957154</td>\n",
       "      <td>-1.680835</td>\n",
       "      <td>0.0000</td>\n",
       "      <td>0.0000</td>\n",
       "    </tr>\n",
       "    <tr>\n",
       "      <th>2</th>\n",
       "      <td>house</td>\n",
       "      <td>0.943412</td>\n",
       "      <td>-2.366124</td>\n",
       "      <td>-1.2000</td>\n",
       "      <td>-0.3000</td>\n",
       "    </tr>\n",
       "    <tr>\n",
       "      <th>3</th>\n",
       "      <td>solar</td>\n",
       "      <td>0.943412</td>\n",
       "      <td>-2.366124</td>\n",
       "      <td>0.0000</td>\n",
       "      <td>0.0000</td>\n",
       "    </tr>\n",
       "    <tr>\n",
       "      <th>4</th>\n",
       "      <td>building</td>\n",
       "      <td>0.942703</td>\n",
       "      <td>-2.087231</td>\n",
       "      <td>-2.5000</td>\n",
       "      <td>-0.9000</td>\n",
       "    </tr>\n",
       "    <tr>\n",
       "      <th>5</th>\n",
       "      <td>wind</td>\n",
       "      <td>0.942703</td>\n",
       "      <td>-2.087231</td>\n",
       "      <td>-0.0000</td>\n",
       "      <td>-0.0000</td>\n",
       "    </tr>\n",
       "  </tbody>\n",
       "</table>\n",
       "</div>"
      ],
      "text/plain": [
       "       name       vpu       ang   pnode   qnode\n",
       "0     slack  1.000000  0.000000  3.8732  1.4209\n",
       "1      step  0.957154 -1.680835  0.0000  0.0000\n",
       "2     house  0.943412 -2.366124 -1.2000 -0.3000\n",
       "3     solar  0.943412 -2.366124  0.0000  0.0000\n",
       "4  building  0.942703 -2.087231 -2.5000 -0.9000\n",
       "5      wind  0.942703 -2.087231 -0.0000 -0.0000"
      ]
     },
     "execution_count": 9,
     "metadata": {},
     "output_type": "execute_result"
    }
   ],
   "source": [
    "import pandas as pd\n",
    "results = pd.DataFrame()\n",
    "results[\"name\"] = [G.nodes[k][\"name\"] for k in G.nodes]\n",
    "results[\"vpu\"] = np.abs(VT)\n",
    "results[\"ang\"] = np.angle(VT)*180/np.pi\n",
    "results[\"pnode\"] = np.round(ST.real,4)\n",
    "results[\"qnode\"] = np.round(ST.imag,4)\n",
    "results.head(n)\n"
   ]
  },
  {
   "cell_type": "code",
   "execution_count": null,
   "metadata": {},
   "outputs": [],
   "source": []
  }
 ],
 "metadata": {
  "kernelspec": {
   "display_name": "Python 3.9.12 ('gurobi')",
   "language": "python",
   "name": "python3"
  },
  "language_info": {
   "codemirror_mode": {
    "name": "ipython",
    "version": 3
   },
   "file_extension": ".py",
   "mimetype": "text/x-python",
   "name": "python",
   "nbconvert_exporter": "python",
   "pygments_lexer": "ipython3",
   "version": "3.9.12"
  },
  "orig_nbformat": 4,
  "vscode": {
   "interpreter": {
    "hash": "4b61e63bbe89ade645af8089248eeae19c575a1e6f5a179d4a698ecce2fee66b"
   }
  }
 },
 "nbformat": 4,
 "nbformat_minor": 2
}
