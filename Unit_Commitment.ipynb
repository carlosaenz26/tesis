{
 "cells": [
  {
   "cell_type": "code",
   "execution_count": 1,
   "metadata": {},
   "outputs": [],
   "source": [
    "import numpy as np\n",
    "import numpy as np\n",
    "import pandas as pd\n",
    "from gurobipy import *"
   ]
  },
  {
   "cell_type": "markdown",
   "metadata": {},
   "source": [
    "min ∑\n",
    "𝑘∈𝒯\n",
    "∑\n",
    "𝑡∈𝖳\n",
    "𝑎𝑘𝑡𝑝\n",
    "2\n",
    "𝑘𝑡 + 𝑏𝑘𝑝𝑘𝑡 + 𝑐𝑘𝜁𝑘𝑡 + 𝑐\n",
    "up\n",
    "𝑘\n",
    "𝜇𝑘𝑡 + 𝑐\n",
    "down\n",
    "𝑘\n",
    "𝛿𝑘𝑡\n",
    "∑\n",
    "𝑘∈𝒯\n",
    "𝑝𝑘𝑡 = 𝑑𝑡\n",
    ", ∀𝑡 ∈ 𝖳\n",
    "𝜁𝑘𝑡𝑝\n",
    "min\n",
    "𝑘\n",
    "≤ 𝑝𝑘𝑡 ≤ 𝑝\n",
    "max\n",
    "𝑘\n",
    "𝜁𝑘𝑡, ∀𝑡 ∈ 𝖳, 𝑘 ∈ 𝒯 (8.9)\n",
    "𝜇𝑘𝑡 − 𝛿𝑘𝑡 = 𝜁𝑘𝑡 − 𝜁𝑘𝑡−1, ∀𝑡 ∈ 𝖳, 𝑘 ∈ 𝒯\n",
    "𝜇𝑘𝑡 + 𝛿𝑘𝑡 ≤ 1, ∀𝑡 ∈ 𝖳, 𝑘 ∈ 𝒯\n",
    "𝜁𝑘𝑡, 𝜇𝑘𝑡, 𝛿𝑘𝑡 ∈ {0,1} , ∀𝑡 ∈ 𝖳, 𝑘 ∈ 𝒯"
   ]
  },
  {
   "cell_type": "code",
   "execution_count": null,
   "metadata": {},
   "outputs": [],
   "source": [
    "a = np.array([0.0004984, 0.001246, 0.00623 ])\n",
    "b = np.array([16.821 , 40.6196, 21.9296])\n",
    "c = np.array([220.4174, 161.8554, 171.2004])\n",
    "c_up = np.array([124.69, 249.22, 0])\n",
    "z_ini = np.array([1,1,0])\n",
    "pmax = np.array([220, 100, 20])\n",
    "pmin = np.array([100,10,10])\n",
    "d = np.array([178.690,168.450,161.840,157.830,158.160,163.690,\n",
    "176.860,194.210,209.670,221.540,233.180,240.820,\n",
    "247.030,248.470,253.830,260.900,261.120,251.680,\n",
    "250.890,242.100,242.050,231.680,205.070,200.690])"
   ]
  },
  {
   "cell_type": "code",
   "execution_count": null,
   "metadata": {},
   "outputs": [],
   "source": [
    "import cvxpy as cvx\n"
   ]
  },
  {
   "cell_type": "code",
   "execution_count": 19,
   "metadata": {},
   "outputs": [],
   "source": [
    "import matplotlib.pyplot as plt"
   ]
  },
  {
   "cell_type": "code",
   "execution_count": null,
   "metadata": {},
   "outputs": [
    {
     "name": "stdout",
     "output_type": "stream",
     "text": [
      "Set parameter Username\n",
      "Academic license - for non-commercial use only - expires 2023-08-07\n",
      "optimal 100806.71674512787\n"
     ]
    }
   ],
   "source": [
    "T = len(d)\n",
    "n = len(a)\n",
    "zeta = cvx.Variable((n,T), boolean=True)\n",
    "mu = cvx.Variable((n,T), boolean=True)\n",
    "delta = cvx.Variable((n,T), boolean=True)\n",
    "p = cvx.Variable((n,T))\n",
    "fop = 0 # operation cost\n",
    "fsup = 0 # start-up cost\n",
    "res = []\n",
    "for t in range(T):\n",
    "    for k in range(n):\n",
    "        fop = fop + a[k]*p[k,t]**2+b[k]*p[k,t]+c[k]*zeta[k,t]\n",
    "        fsup = fsup + c_up[k]*mu[k,t]\n",
    "        res += [p[k,t] >= pmin[k]*zeta[k,t]]\n",
    "        res += [p[k,t] <= pmax[k]*zeta[k,t]]\n",
    "for t in range(T):\n",
    "    res += [cvx.sum(p[:,t])==d[t]]\n",
    "for t in range(1,T):\n",
    "    for k in range(n):\n",
    "        res += [mu[k,t]-delta[k,t] == zeta[k,t]-zeta[k,t-1]]\n",
    "        res += [mu[k,t]+delta[k,t] <= 1]\n",
    "for k in range(n):\n",
    "    res += [mu[k,0]-delta[k,0] == zeta[k,0]-z_ini[k]]\n",
    "    res += [mu[k,0]+delta[k,0] <= 1]\n",
    "obj = cvx.Minimize(fop+fsup)\n",
    "UnitC = cvx.Problem(obj,res)\n",
    "UnitC.solve()\n",
    "print(UnitC.status, obj.value)\n"
   ]
  },
  {
   "cell_type": "code",
   "execution_count": 14,
   "metadata": {},
   "outputs": [
    {
     "name": "stdout",
     "output_type": "stream",
     "text": [
      "var1\n"
     ]
    }
   ],
   "source": [
    "print((zeta))"
   ]
  },
  {
   "cell_type": "code",
   "execution_count": 1,
   "metadata": {},
   "outputs": [
    {
     "ename": "NameError",
     "evalue": "name 'plt' is not defined",
     "output_type": "error",
     "traceback": [
      "\u001b[1;31m---------------------------------------------------------------------------\u001b[0m",
      "\u001b[1;31mNameError\u001b[0m                                 Traceback (most recent call last)",
      "\u001b[1;32mc:\\Users\\cs.saenz10\\Documents\\tesis\\Unit_Commitment.ipynb Celda 8\u001b[0m in \u001b[0;36m<cell line: 1>\u001b[1;34m()\u001b[0m\n\u001b[1;32m----> <a href='vscode-notebook-cell:/c%3A/Users/cs.saenz10/Documents/tesis/Unit_Commitment.ipynb#X10sZmlsZQ%3D%3D?line=0'>1</a>\u001b[0m plt\u001b[39m.\u001b[39msubplot(\u001b[39m4\u001b[39m,\u001b[39m1\u001b[39m,\u001b[39m1\u001b[39m)\n\u001b[0;32m      <a href='vscode-notebook-cell:/c%3A/Users/cs.saenz10/Documents/tesis/Unit_Commitment.ipynb#X10sZmlsZQ%3D%3D?line=1'>2</a>\u001b[0m plt\u001b[39m.\u001b[39mplot(p\u001b[39m.\u001b[39mvalue\u001b[39m.\u001b[39mT)\n\u001b[0;32m      <a href='vscode-notebook-cell:/c%3A/Users/cs.saenz10/Documents/tesis/Unit_Commitment.ipynb#X10sZmlsZQ%3D%3D?line=2'>3</a>\u001b[0m plt\u001b[39m.\u001b[39msubplot(\u001b[39m4\u001b[39m,\u001b[39m1\u001b[39m,\u001b[39m2\u001b[39m)\n",
      "\u001b[1;31mNameError\u001b[0m: name 'plt' is not defined"
     ]
    }
   ],
   "source": [
    "plt.subplot(4,1,1)\n",
    "plt.plot(p.value.T)\n",
    "plt.subplot(4,1,2)\n",
    "plt.pcolor(zeta.value)\n",
    "plt.subplot(4,1,3)\n",
    "plt.pcolor(mu.value)\n",
    "plt.subplot(4,1,4)\n",
    "plt.pcolor(delta.value)\n",
    "plt.show()"
   ]
  },
  {
   "cell_type": "code",
   "execution_count": null,
   "metadata": {},
   "outputs": [],
   "source": []
  }
 ],
 "metadata": {
  "kernelspec": {
   "display_name": "Python 3.9.12 ('gurobi')",
   "language": "python",
   "name": "python3"
  },
  "language_info": {
   "codemirror_mode": {
    "name": "ipython",
    "version": 3
   },
   "file_extension": ".py",
   "mimetype": "text/x-python",
   "name": "python",
   "nbconvert_exporter": "python",
   "pygments_lexer": "ipython3",
   "version": "3.9.12"
  },
  "orig_nbformat": 4,
  "vscode": {
   "interpreter": {
    "hash": "4b61e63bbe89ade645af8089248eeae19c575a1e6f5a179d4a698ecce2fee66b"
   }
  }
 },
 "nbformat": 4,
 "nbformat_minor": 2
}
