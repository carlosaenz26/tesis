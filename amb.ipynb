{
 "cells": [
  {
   "cell_type": "markdown",
   "metadata": {},
   "source": [
    "#Despacho economico de 6 generadoras con funcion de costo cuadratico "
   ]
  },
  {
   "cell_type": "code",
   "execution_count": 1,
   "metadata": {},
   "outputs": [],
   "source": [
    "import numpy as np\n",
    "import numpy as np\n",
    "import pandas as pd\n",
    "from gurobipy import *"
   ]
  },
  {
   "cell_type": "markdown",
   "metadata": {},
   "source": []
  },
  {
   "cell_type": "code",
   "execution_count": 2,
   "metadata": {},
   "outputs": [
    {
     "name": "stdout",
     "output_type": "stream",
     "text": [
      "Set parameter Username\n",
      "Academic license - for non-commercial use only - expires 2023-06-12\n"
     ]
    }
   ],
   "source": [
    "m2=Model(\"despacho env\")"
   ]
  },
  {
   "cell_type": "code",
   "execution_count": 3,
   "metadata": {},
   "outputs": [],
   "source": [
    "ngen=6\n",
    "pmin = [10,10,35,35,125,130]\n",
    "pmax = [125,150,210,225,315,325]\n",
    "alfa=[0.30494,0.21174,0.07092, 0.05606, 0.03598, 0.04222]\n",
    "beta=[38.5390,46.1591,38.3055, 40.3965,38.2704, 36.3278]\n",
    "ak=[ 0.00838 ,0.00838 , 0.01366,  0.01366, 0.00922, 0.00922  ]\n",
    "bk=[  0.32767,  0.32767,-0.54551, -0.54551,-0.51116, -0.51116]\n",
    "\n",
    "d=1200#MW\n"
   ]
  },
  {
   "cell_type": "code",
   "execution_count": 4,
   "metadata": {},
   "outputs": [],
   "source": [
    "Pgen= m2.addVars(ngen,vtype=GRB.CONTINUOUS, name=\"Pgen\")\n"
   ]
  },
  {
   "cell_type": "code",
   "execution_count": 9,
   "metadata": {},
   "outputs": [
    {
     "data": {
      "text/plain": [
       "<gurobi.Constr *Awaiting Model Update*>"
      ]
     },
     "execution_count": 9,
     "metadata": {},
     "output_type": "execute_result"
    }
   ],
   "source": [
    "m2.setObjective(quicksum((ak[i]/2)*Pgen[i]*Pgen[i] + bk[i]*Pgen[i] for i in range(ngen)), GRB.MINIMIZE)\n",
    "m2.addConstrs(Pgen[i] >= pmin[i] for i in range(ngen))\n",
    "m2.addConstrs(Pgen[i] <= pmax[i] for i in range(ngen))\n",
    "m2.addConstr(quicksum(Pgen[i] for i in Pgen)>=d)\n"
   ]
  },
  {
   "cell_type": "code",
   "execution_count": 10,
   "metadata": {},
   "outputs": [
    {
     "name": "stdout",
     "output_type": "stream",
     "text": [
      "Gurobi Optimizer version 9.5.2 build v9.5.2rc0 (win64)\n",
      "Thread count: 4 physical cores, 8 logical processors, using up to 8 threads\n",
      "Optimize a model with 20 rows, 6 columns and 30 nonzeros\n",
      "Model fingerprint: 0x3f53bee6\n",
      "Model has 6 quadratic objective terms\n",
      "Coefficient statistics:\n",
      "  Matrix range     [1e+00, 1e+00]\n",
      "  Objective range  [3e-01, 5e-01]\n",
      "  QObjective range [8e-03, 1e-02]\n",
      "  Bounds range     [0e+00, 0e+00]\n",
      "  RHS range        [1e+01, 1e+03]\n",
      "Presolve removed 19 rows and 0 columns\n",
      "Presolve time: 0.01s\n",
      "Presolved: 1 rows, 6 columns, 6 nonzeros\n",
      "Presolved model has 6 quadratic objective terms\n",
      "Ordering time: 0.00s\n",
      "\n",
      "Barrier statistics:\n",
      " AA' NZ     : 0.000e+00\n",
      " Factor NZ  : 1.000e+00\n",
      " Factor Ops : 1.000e+00 (less than 1 second per iteration)\n",
      " Threads    : 1\n",
      "\n",
      "                  Objective                Residual\n",
      "Iter       Primal          Dual         Primal    Dual     Compl     Time\n",
      "   0   2.08229558e+06 -2.19064660e+06  9.98e+02 8.74e+02  1.01e+06     0s\n",
      "   1   3.78652158e+04 -1.40075604e+05  1.14e+02 5.02e+01  6.61e+04     0s\n",
      "   2   1.23754431e+03 -8.00548655e+04  0.00e+00 5.02e-05  6.25e+03     0s\n",
      "   3   1.23548184e+03 -5.61132623e+02  0.00e+00 1.05e-06  1.38e+02     0s\n",
      "   4   9.55577447e+02  1.15608874e+02  0.00e+00 2.09e-08  6.46e+01     0s\n",
      "   5   9.50988903e+02  9.27048270e+02  0.00e+00 2.11e-10  1.84e+00     0s\n",
      "   6   9.42196060e+02  9.41076841e+02  0.00e+00 0.00e+00  8.61e-02     0s\n",
      "   7   9.41643347e+02  9.41641776e+02  0.00e+00 8.88e-16  1.21e-04     0s\n",
      "   8   9.41642393e+02  9.41642392e+02  0.00e+00 1.78e-15  1.21e-07     0s\n",
      "   9   9.41642392e+02  9.41642392e+02  0.00e+00 0.00e+00  1.21e-10     0s\n",
      "\n",
      "Barrier solved model in 9 iterations and 0.02 seconds (0.00 work units)\n",
      "Optimal objective 9.41642392e+02\n",
      "\n"
     ]
    }
   ],
   "source": [
    "m2.optimize()"
   ]
  },
  {
   "cell_type": "code",
   "execution_count": 11,
   "metadata": {},
   "outputs": [
    {
     "data": {
      "text/plain": [
       "[<gurobi.Var Pgen[0] (value 124.99999999951842)>,\n",
       " <gurobi.Var Pgen[1] (value 149.99999999862348)>,\n",
       " <gurobi.Var Pgen[2] (value 187.8758741260612)>,\n",
       " <gurobi.Var Pgen[3] (value 187.87587412623532)>,\n",
       " <gurobi.Var Pgen[4] (value 274.6241258747626)>,\n",
       " <gurobi.Var Pgen[5] (value 274.62412587482027)>]"
      ]
     },
     "execution_count": 11,
     "metadata": {},
     "output_type": "execute_result"
    }
   ],
   "source": [
    "m2.getVars()"
   ]
  },
  {
   "cell_type": "code",
   "execution_count": null,
   "metadata": {},
   "outputs": [],
   "source": []
  }
 ],
 "metadata": {
  "kernelspec": {
   "display_name": "Python 3.8.13 ('gurobi')",
   "language": "python",
   "name": "python3"
  },
  "language_info": {
   "codemirror_mode": {
    "name": "ipython",
    "version": 3
   },
   "file_extension": ".py",
   "mimetype": "text/x-python",
   "name": "python",
   "nbconvert_exporter": "python",
   "pygments_lexer": "ipython3",
   "version": "3.8.13"
  },
  "orig_nbformat": 4,
  "vscode": {
   "interpreter": {
    "hash": "03bbc52f8cfc3f4795b3cc046eb4ce8648711f2bcfc925e4f713cbd4fef920a7"
   }
  }
 },
 "nbformat": 4,
 "nbformat_minor": 2
}
