{
 "cells": [
  {
   "cell_type": "code",
   "execution_count": 153,
   "metadata": {},
   "outputs": [],
   "source": [
    "import numpy as np\n",
    "import cvxpy as cvx\n",
    "import matplotlib.pyplot as plt\n",
    "import networkx as nx"
   ]
  },
  {
   "cell_type": "code",
   "execution_count": 67,
   "metadata": {},
   "outputs": [],
   "source": [
    "\n",
    "\n",
    "c=[100,200]\n",
    "#c = np.array([c])\n",
    "a=[20,25]\n",
    "b=[0.05,0.10]\n",
    "#pmin = [0,0]\n",
    "pmax = [440,300]\n",
    "\n",
    "B= np.diag(b)\n",
    "p = cvx.Variable(2) # power thermo unit\n",
    "d=40"
   ]
  },
  {
   "cell_type": "code",
   "execution_count": 58,
   "metadata": {},
   "outputs": [
    {
     "name": "stderr",
     "output_type": "stream",
     "text": [
      "c:\\Users\\uer\\anaconda3\\envs\\gurobi\\lib\\site-packages\\cvxpy\\expressions\\expression.py:593: UserWarning: \n",
      "This use of ``*`` has resulted in matrix multiplication.\n",
      "Using ``*`` for matrix multiplication has been deprecated since CVXPY 1.1.\n",
      "    Use ``*`` for matrix-scalar and vector-scalar multiplication.\n",
      "    Use ``@`` for matrix-matrix and matrix-vector multiplication.\n",
      "    Use ``multiply`` for elementwise multiplication.\n",
      "This code path has been hit 43 times so far.\n",
      "\n",
      "  warnings.warn(msg, UserWarning)\n",
      "c:\\Users\\uer\\anaconda3\\envs\\gurobi\\lib\\site-packages\\cvxpy\\expressions\\expression.py:593: UserWarning: \n",
      "This use of ``*`` has resulted in matrix multiplication.\n",
      "Using ``*`` for matrix multiplication has been deprecated since CVXPY 1.1.\n",
      "    Use ``*`` for matrix-scalar and vector-scalar multiplication.\n",
      "    Use ``@`` for matrix-matrix and matrix-vector multiplication.\n",
      "    Use ``multiply`` for elementwise multiplication.\n",
      "This code path has been hit 44 times so far.\n",
      "\n",
      "  warnings.warn(msg, UserWarning)\n"
     ]
    },
    {
     "data": {
      "text/plain": [
       "1010.0000000000002"
      ]
     },
     "execution_count": 58,
     "metadata": {},
     "output_type": "execute_result"
    }
   ],
   "source": [
    "for t in range(2):\n",
    "    f_ecn = (1/2*cvx.quad_form(p,B) +p*a +c[t])\n",
    "\n",
    "    res= [sum(p) >= d ,  p<=pmax]\n",
    "obj=cvx.Minimize(f_ecn)\n",
    "Model = cvx.Problem(obj,res)\n",
    "Model.solve()\n"
   ]
  },
  {
   "cell_type": "code",
   "execution_count": 59,
   "metadata": {},
   "outputs": [
    {
     "name": "stdout",
     "output_type": "stream",
     "text": [
      "Incremental Cost: 23.000000000000043\n"
     ]
    }
   ],
   "source": [
    "p.value\n",
    "print(\"Incremental Cost:\",res[0].dual_value)\n",
    "#print(res[1].value)"
   ]
  },
  {
   "cell_type": "code",
   "execution_count": 150,
   "metadata": {},
   "outputs": [
    {
     "name": "stdout",
     "output_type": "stream",
     "text": [
      "costo 1040.0\n",
      "Incremental Cost: 22.000000000000064\n",
      "Incremental Cost 1: [0. 0.]\n",
      "Incremental Cost 2: [0. 3.]\n",
      "costo 6575.0\n",
      "Incremental Cost: 29.999999999999716\n",
      "Incremental Cost 1: [0. 0.]\n",
      "Incremental Cost 2: [0. 0.]\n",
      "costo 8116.666666666666\n",
      "Incremental Cost: 31.666666666666288\n",
      "Incremental Cost 1: [0. 0.]\n",
      "Incremental Cost 2: [0. 0.]\n"
     ]
    },
    {
     "name": "stderr",
     "output_type": "stream",
     "text": [
      "c:\\Users\\uer\\anaconda3\\envs\\gurobi\\lib\\site-packages\\cvxpy\\expressions\\expression.py:593: UserWarning: \n",
      "This use of ``*`` has resulted in matrix multiplication.\n",
      "Using ``*`` for matrix multiplication has been deprecated since CVXPY 1.1.\n",
      "    Use ``*`` for matrix-scalar and vector-scalar multiplication.\n",
      "    Use ``@`` for matrix-matrix and matrix-vector multiplication.\n",
      "    Use ``multiply`` for elementwise multiplication.\n",
      "This code path has been hit 158 times so far.\n",
      "\n",
      "  warnings.warn(msg, UserWarning)\n",
      "c:\\Users\\uer\\anaconda3\\envs\\gurobi\\lib\\site-packages\\cvxpy\\expressions\\expression.py:593: UserWarning: \n",
      "This use of ``*`` has resulted in matrix multiplication.\n",
      "Using ``*`` for matrix multiplication has been deprecated since CVXPY 1.1.\n",
      "    Use ``*`` for matrix-scalar and vector-scalar multiplication.\n",
      "    Use ``@`` for matrix-matrix and matrix-vector multiplication.\n",
      "    Use ``multiply`` for elementwise multiplication.\n",
      "This code path has been hit 159 times so far.\n",
      "\n",
      "  warnings.warn(msg, UserWarning)\n",
      "c:\\Users\\uer\\anaconda3\\envs\\gurobi\\lib\\site-packages\\cvxpy\\expressions\\expression.py:593: UserWarning: \n",
      "This use of ``*`` has resulted in matrix multiplication.\n",
      "Using ``*`` for matrix multiplication has been deprecated since CVXPY 1.1.\n",
      "    Use ``*`` for matrix-scalar and vector-scalar multiplication.\n",
      "    Use ``@`` for matrix-matrix and matrix-vector multiplication.\n",
      "    Use ``multiply`` for elementwise multiplication.\n",
      "This code path has been hit 160 times so far.\n",
      "\n",
      "  warnings.warn(msg, UserWarning)\n",
      "c:\\Users\\uer\\anaconda3\\envs\\gurobi\\lib\\site-packages\\cvxpy\\expressions\\expression.py:593: UserWarning: \n",
      "This use of ``*`` has resulted in matrix multiplication.\n",
      "Using ``*`` for matrix multiplication has been deprecated since CVXPY 1.1.\n",
      "    Use ``*`` for matrix-scalar and vector-scalar multiplication.\n",
      "    Use ``@`` for matrix-matrix and matrix-vector multiplication.\n",
      "    Use ``multiply`` for elementwise multiplication.\n",
      "This code path has been hit 161 times so far.\n",
      "\n",
      "  warnings.warn(msg, UserWarning)\n",
      "c:\\Users\\uer\\anaconda3\\envs\\gurobi\\lib\\site-packages\\cvxpy\\expressions\\expression.py:593: UserWarning: \n",
      "This use of ``*`` has resulted in matrix multiplication.\n",
      "Using ``*`` for matrix multiplication has been deprecated since CVXPY 1.1.\n",
      "    Use ``*`` for matrix-scalar and vector-scalar multiplication.\n",
      "    Use ``@`` for matrix-matrix and matrix-vector multiplication.\n",
      "    Use ``multiply`` for elementwise multiplication.\n",
      "This code path has been hit 162 times so far.\n",
      "\n",
      "  warnings.warn(msg, UserWarning)\n",
      "c:\\Users\\uer\\anaconda3\\envs\\gurobi\\lib\\site-packages\\cvxpy\\expressions\\expression.py:593: UserWarning: \n",
      "This use of ``*`` has resulted in matrix multiplication.\n",
      "Using ``*`` for matrix multiplication has been deprecated since CVXPY 1.1.\n",
      "    Use ``*`` for matrix-scalar and vector-scalar multiplication.\n",
      "    Use ``@`` for matrix-matrix and matrix-vector multiplication.\n",
      "    Use ``multiply`` for elementwise multiplication.\n",
      "This code path has been hit 163 times so far.\n",
      "\n",
      "  warnings.warn(msg, UserWarning)\n"
     ]
    },
    {
     "data": {
      "text/plain": [
       "array([233.33333333,  66.66666667])"
      ]
     },
     "execution_count": 150,
     "metadata": {},
     "output_type": "execute_result"
    }
   ],
   "source": [
    "def ed(c,a,pmax,d,pmin):# despacho simple\n",
    "\n",
    "    B= np.diag(b)\n",
    "    n=len(pmax)\n",
    "    p = cvx.Variable(n)\n",
    "    for t in range(n):\n",
    "        f_ecn = (1/2*cvx.quad_form(p,B) +p*a +c[t])\n",
    "\n",
    "        res= [sum(p) >= d,p<=pmax,p>=pmin]\n",
    "    obj=cvx.Minimize(f_ecn)\n",
    "    Model = cvx.Problem(obj,res)\n",
    "    print(\"costo\",Model.solve())\n",
    "    print(\"Incremental Cost:\",res[0].dual_value)\n",
    "    print(\"Incremental Cost 1:\",res[1].dual_value)\n",
    "    print(\"Incremental Cost 2:\",res[2].dual_value)\n",
    "    return(p.value)\n",
    "d=40\n",
    "pmin=[0,0]\n",
    "c=[100,200]\n",
    "a=[20,25]\n",
    "b=[0.05,0.10]\n",
    "pmin = [0,0]\n",
    "pmax = [440,300]\n",
    "ed(c,a,pmax,d,pmin)\n",
    "d=250\n",
    "ed(c,a,pmax,d,pmin)\n",
    "d=300\n",
    "ed(c,a,pmax,d,pmin)\n",
    "\n",
    "    "
   ]
  },
  {
   "cell_type": "code",
   "execution_count": 151,
   "metadata": {},
   "outputs": [
    {
     "name": "stdout",
     "output_type": "stream",
     "text": [
      "costo 19116.666666666668\n",
      "Incremental Cost: 41.66666666666572\n",
      "Incremental Cost 1: [0. 0.]\n",
      "Incremental Cost 2: [0. 0.]\n"
     ]
    },
    {
     "name": "stderr",
     "output_type": "stream",
     "text": [
      "c:\\Users\\uer\\anaconda3\\envs\\gurobi\\lib\\site-packages\\cvxpy\\expressions\\expression.py:593: UserWarning: \n",
      "This use of ``*`` has resulted in matrix multiplication.\n",
      "Using ``*`` for matrix multiplication has been deprecated since CVXPY 1.1.\n",
      "    Use ``*`` for matrix-scalar and vector-scalar multiplication.\n",
      "    Use ``@`` for matrix-matrix and matrix-vector multiplication.\n",
      "    Use ``multiply`` for elementwise multiplication.\n",
      "This code path has been hit 164 times so far.\n",
      "\n",
      "  warnings.warn(msg, UserWarning)\n",
      "c:\\Users\\uer\\anaconda3\\envs\\gurobi\\lib\\site-packages\\cvxpy\\expressions\\expression.py:593: UserWarning: \n",
      "This use of ``*`` has resulted in matrix multiplication.\n",
      "Using ``*`` for matrix multiplication has been deprecated since CVXPY 1.1.\n",
      "    Use ``*`` for matrix-scalar and vector-scalar multiplication.\n",
      "    Use ``@`` for matrix-matrix and matrix-vector multiplication.\n",
      "    Use ``multiply`` for elementwise multiplication.\n",
      "This code path has been hit 165 times so far.\n",
      "\n",
      "  warnings.warn(msg, UserWarning)\n"
     ]
    },
    {
     "data": {
      "text/plain": [
       "array([433.33333333, 166.66666667])"
      ]
     },
     "execution_count": 151,
     "metadata": {},
     "output_type": "execute_result"
    }
   ],
   "source": [
    "d=600\n",
    "ed(c,a,pmax,d,pmin)"
   ]
  },
  {
   "cell_type": "code",
   "execution_count": 141,
   "metadata": {},
   "outputs": [],
   "source": [
    "from lib2to3.pgen2 import pgen\n",
    "\n",
    "\n",
    "ad=[55,50]\n",
    "bd=[-0.2,-0.1]\n",
    "d=[300,350]\n",
    "pmax=[400,300]\n",
    "pdmin=[0,0]\n",
    "pdmax=[300,350]\n",
    "def ed_elastic_D(c,a,pmax,d,ad,bd):# despacho demanda elastica\n",
    "\n",
    "    B= np.diag(b)\n",
    "    Bd= np.diag(bd)\n",
    "    n=len(pmax)\n",
    "    pg = cvx.Variable(n)\n",
    "    pd = cvx.Variable(n)\n",
    "    \n",
    "    for t in range(n):\n",
    "        f_dem= (1/2*cvx.quad_form(pd,Bd) +ad*pd)\n",
    "        f_cop = (1/2*cvx.quad_form(pg,B) +a*pg +c)\n",
    "        res= [sum(pg)-sum(pd)==0 ,pg<=pmax,pd<=d,pd>=pdmin]\n",
    "    obj=cvx.Maximize(f_dem-f_ecn)#social wellfare\n",
    "    Model = cvx.Problem(obj,res)\n",
    "    print(\"costo\",Model.solve())\n",
    "    print(\"Incremental Cost:\",res[0].dual_value)\n",
    "\n",
    "    return(pg.value,pd.value,sum(pd.value))"
   ]
  },
  {
   "cell_type": "code",
   "execution_count": 142,
   "metadata": {},
   "outputs": [
    {
     "name": "stdout",
     "output_type": "stream",
     "text": [
      "costo 25862.500017542887\n",
      "Incremental Cost: -1.1362668960340788e-05\n",
      "[325.56659319 299.43312296] [274.99971498 350.00000117] 624.9997161485634\n"
     ]
    },
    {
     "name": "stderr",
     "output_type": "stream",
     "text": [
      "c:\\Users\\uer\\anaconda3\\envs\\gurobi\\lib\\site-packages\\cvxpy\\expressions\\expression.py:593: UserWarning: \n",
      "This use of ``*`` has resulted in matrix multiplication.\n",
      "Using ``*`` for matrix multiplication has been deprecated since CVXPY 1.1.\n",
      "    Use ``*`` for matrix-scalar and vector-scalar multiplication.\n",
      "    Use ``@`` for matrix-matrix and matrix-vector multiplication.\n",
      "    Use ``multiply`` for elementwise multiplication.\n",
      "This code path has been hit 123 times so far.\n",
      "\n",
      "  warnings.warn(msg, UserWarning)\n",
      "c:\\Users\\uer\\anaconda3\\envs\\gurobi\\lib\\site-packages\\cvxpy\\expressions\\expression.py:593: UserWarning: \n",
      "This use of ``*`` has resulted in matrix multiplication.\n",
      "Using ``*`` for matrix multiplication has been deprecated since CVXPY 1.1.\n",
      "    Use ``*`` for matrix-scalar and vector-scalar multiplication.\n",
      "    Use ``@`` for matrix-matrix and matrix-vector multiplication.\n",
      "    Use ``multiply`` for elementwise multiplication.\n",
      "This code path has been hit 124 times so far.\n",
      "\n",
      "  warnings.warn(msg, UserWarning)\n",
      "c:\\Users\\uer\\anaconda3\\envs\\gurobi\\lib\\site-packages\\cvxpy\\expressions\\expression.py:593: UserWarning: \n",
      "This use of ``*`` has resulted in matrix multiplication.\n",
      "Using ``*`` for matrix multiplication has been deprecated since CVXPY 1.1.\n",
      "    Use ``*`` for matrix-scalar and vector-scalar multiplication.\n",
      "    Use ``@`` for matrix-matrix and matrix-vector multiplication.\n",
      "    Use ``multiply`` for elementwise multiplication.\n",
      "This code path has been hit 125 times so far.\n",
      "\n",
      "  warnings.warn(msg, UserWarning)\n",
      "c:\\Users\\uer\\anaconda3\\envs\\gurobi\\lib\\site-packages\\cvxpy\\expressions\\expression.py:593: UserWarning: \n",
      "This use of ``*`` has resulted in matrix multiplication.\n",
      "Using ``*`` for matrix multiplication has been deprecated since CVXPY 1.1.\n",
      "    Use ``*`` for matrix-scalar and vector-scalar multiplication.\n",
      "    Use ``@`` for matrix-matrix and matrix-vector multiplication.\n",
      "    Use ``multiply`` for elementwise multiplication.\n",
      "This code path has been hit 126 times so far.\n",
      "\n",
      "  warnings.warn(msg, UserWarning)\n"
     ]
    }
   ],
   "source": [
    "a,b,pd=ed_elastic_D(c,a,pmax,d,ad,bd)\n",
    "print(a,b,pd)"
   ]
  },
  {
   "cell_type": "markdown",
   "metadata": {},
   "source": [
    "# Despacho economico con perdidas"
   ]
  },
  {
   "cell_type": "code",
   "execution_count": 152,
   "metadata": {},
   "outputs": [],
   "source": [
    "def LoadFlow1(G):\n",
    "\n",
    "    A = nx.incidence_matrix(G,oriented=True)\n",
    "    Yp = np.diag([G.edges[k][\"y\"] for k in G.edges])# diagonal de la matrix de admitancia\n",
    "    Ybus = A@Yp@A.T\n",
    "    n = G.number_of_nodes()\n",
    "    l=G.number_of_edges()\n",
    "    YN0 = Ybus[1:n,0]\n",
    "    YNN = Ybus[1:n,1:n]\n",
    "    ZNN = np.linalg.inv(YNN)\n",
    "    d = np.array([G.nodes[j][\"d\"] for j in G.nodes])\n",
    "    dN=d[1:n]\n",
    "    sN=np.zeros(n-1)\n",
    "    v0 = 1+0j # voltaje en el nodo slack\n",
    "    vN = np.ones(n-1)*v0\n",
    "    for t in range(10):\n",
    "\n",
    "        vN = ZNN@(np.conj((sN-dN)/vN)-v0*YN0)#fixedpoint \n",
    "        vT = np.hstack([v0,vN])\n",
    "        sT = vT*np.conj(Ybus@vT)\n",
    "        err = np.linalg.norm(sT[1:n]-(sN-dN))\n",
    "    \n",
    "\n",
    "    ST = vT*np.conj(Ybus@vT)\n",
    "    pL1 = sum(ST)\n",
    "    \n",
    "    for (k,m) in G.edges:\n",
    "        Sf1 = Ybus[k,m]*(vT[k]-vT[m])\n",
    "        print(\"flow\",(k,m),np.abs(Sf1))\n",
    "    print(\"Loss\",pL1)\n",
    "    print(\"Load Flow, after 10 iterations the error is\",err)\n",
    "    import pandas as pd\n",
    "    results = pd.DataFrame()\n",
    "    results[\"name\"] = [G.nodes[k][\"name\"] for k in G.nodes]\n",
    "    results[\"vpu\"] = np.abs(vT)\n",
    "    results[\"ang\"] = np.angle(vT)*180/np.pi\n",
    "    results[\"pnode\"] = np.round(ST.real,n)\n",
    "    results[\"qnode\"] = np.round(ST.imag,n)\n",
    "    display(results)\n",
    "    return vT,ST,Ybus\n"
   ]
  },
  {
   "cell_type": "code",
   "execution_count": null,
   "metadata": {},
   "outputs": [],
   "source": [
    "def red(nodos,lineas):\n",
    "    G = nx.DiGraph()"
   ]
  },
  {
   "cell_type": "code",
   "execution_count": 154,
   "metadata": {},
   "outputs": [
    {
     "data": {
      "image/png": "[encoded data removed]",
      "text/plain": [
       "<Figure size 432x288 with 1 Axes>"
      ]
     },
     "metadata": {},
     "output_type": "display_data"
    }
   ],
   "source": [
    "G = nx.DiGraph()\n",
    "\n",
    "G.add_node(0,name=\"0\",smax=400,d=0)\n",
    "G.add_node(1,name=\"1\",smax=300,d=0)\n",
    "G.add_node(2,name=\"2\",smax=0,d=250)\n",
    "\n",
    "G.add_edge(0,1,y=1/(0.02+0.1j))\n",
    "G.add_edge(0,2,y=1/(0.02+0.1j))\n",
    "G.add_edge(1,2,y=1/(0.02+0.1j))\n",
    "nx.draw(G,with_labels=True,pos=nx.spectral_layout(G))"
   ]
  },
  {
   "cell_type": "code",
   "execution_count": 155,
   "metadata": {},
   "outputs": [
    {
     "name": "stderr",
     "output_type": "stream",
     "text": [
      "C:\\Users\\uer\\AppData\\Local\\Temp\\ipykernel_3896\\2109060952.py:3: FutureWarning: incidence_matrix will return a scipy.sparse array instead of a matrix in Networkx 3.0.\n",
      "  A = nx.incidence_matrix(G,oriented=True)\n"
     ]
    },
    {
     "name": "stdout",
     "output_type": "stream",
     "text": [
      "flow (0, 1) 3.386960399374912\n",
      "flow (0, 2) 6.773920798749824\n",
      "flow (1, 2) 3.386960399374912\n",
      "Loss (1.3765800896320632+6.88290044816032j)\n",
      "Load Flow, after 10 iterations the error is 258.8511495182426\n"
     ]
    },
    {
     "data": {
      "text/html": [
       "<div>\n",
       "<style scoped>\n",
       "    .dataframe tbody tr th:only-of-type {\n",
       "        vertical-align: middle;\n",
       "    }\n",
       "\n",
       "    .dataframe tbody tr th {\n",
       "        vertical-align: top;\n",
       "    }\n",
       "\n",
       "    .dataframe thead th {\n",
       "        text-align: right;\n",
       "    }\n",
       "</style>\n",
       "<table border=\"1\" class=\"dataframe\">\n",
       "  <thead>\n",
       "    <tr style=\"text-align: right;\">\n",
       "      <th></th>\n",
       "      <th>name</th>\n",
       "      <th>vpu</th>\n",
       "      <th>ang</th>\n",
       "      <th>pnode</th>\n",
       "      <th>qnode</th>\n",
       "    </tr>\n",
       "  </thead>\n",
       "  <tbody>\n",
       "    <tr>\n",
       "      <th>0</th>\n",
       "      <td>0</td>\n",
       "      <td>1.000000</td>\n",
       "      <td>0.000000</td>\n",
       "      <td>-7.475</td>\n",
       "      <td>6.883</td>\n",
       "    </tr>\n",
       "    <tr>\n",
       "      <th>1</th>\n",
       "      <td>1</td>\n",
       "      <td>0.871840</td>\n",
       "      <td>19.779965</td>\n",
       "      <td>-0.000</td>\n",
       "      <td>-0.000</td>\n",
       "    </tr>\n",
       "    <tr>\n",
       "      <th>2</th>\n",
       "      <td>2</td>\n",
       "      <td>0.871101</td>\n",
       "      <td>42.640186</td>\n",
       "      <td>8.851</td>\n",
       "      <td>0.000</td>\n",
       "    </tr>\n",
       "  </tbody>\n",
       "</table>\n",
       "</div>"
      ],
      "text/plain": [
       "  name       vpu        ang  pnode  qnode\n",
       "0    0  1.000000   0.000000 -7.475  6.883\n",
       "1    1  0.871840  19.779965 -0.000 -0.000\n",
       "2    2  0.871101  42.640186  8.851  0.000"
      ]
     },
     "metadata": {},
     "output_type": "display_data"
    },
    {
     "data": {
      "text/plain": [
       "(array([1.        +0.j        , 0.82040045+0.29503832j,\n",
       "        0.6408009 +0.59007663j]),\n",
       " array([-7.47456943e+00+6.88290045e+00j, -7.28661973e-16-2.62046666e-16j,\n",
       "         8.85114952e+00+2.66453526e-15j]),\n",
       " array([[ 3.84615385-19.23076923j, -1.92307692 +9.61538462j,\n",
       "         -1.92307692 +9.61538462j],\n",
       "        [-1.92307692 +9.61538462j,  3.84615385-19.23076923j,\n",
       "         -1.92307692 +9.61538462j],\n",
       "        [-1.92307692 +9.61538462j, -1.92307692 +9.61538462j,\n",
       "          3.84615385-19.23076923j]]))"
      ]
     },
     "execution_count": 155,
     "metadata": {},
     "output_type": "execute_result"
    }
   ],
   "source": [
    "LoadFlow1(G)"
   ]
  },
  {
   "cell_type": "code",
   "execution_count": 176,
   "metadata": {},
   "outputs": [
    {
     "name": "stdout",
     "output_type": "stream",
     "text": [
      "((0, 1), (0, 2), (1, 2))\n"
     ]
    }
   ],
   "source": [
    "Omega=[]\n",
    "for (k,m) in G.edges:\n",
    "    Omega.append((k,m))\n",
    "Omega=tuple(Omega)\n",
    "print(Omega)"
   ]
  },
  {
   "cell_type": "code",
   "execution_count": 157,
   "metadata": {},
   "outputs": [
    {
     "name": "stdout",
     "output_type": "stream",
     "text": [
      "costo 6375.003691599173\n",
      "Incremental Cost: [-4.16333634e-15 -4.16333634e-15  3.00000407e+01]\n",
      "Incremental Cost 1: [  0.           0.         291.02275138]\n",
      "Incremental Cost 2: [0.00000000e+00 1.28309488e-15 2.61022733e+02]\n"
     ]
    },
    {
     "name": "stderr",
     "output_type": "stream",
     "text": [
      "c:\\Users\\uer\\anaconda3\\envs\\gurobi\\lib\\site-packages\\cvxpy\\expressions\\expression.py:593: UserWarning: \n",
      "This use of ``*`` has resulted in matrix multiplication.\n",
      "Using ``*`` for matrix multiplication has been deprecated since CVXPY 1.1.\n",
      "    Use ``*`` for matrix-scalar and vector-scalar multiplication.\n",
      "    Use ``@`` for matrix-matrix and matrix-vector multiplication.\n",
      "    Use ``multiply`` for elementwise multiplication.\n",
      "This code path has been hit 166 times so far.\n",
      "\n",
      "  warnings.warn(msg, UserWarning)\n",
      "c:\\Users\\uer\\anaconda3\\envs\\gurobi\\lib\\site-packages\\cvxpy\\expressions\\expression.py:593: UserWarning: \n",
      "This use of ``*`` has resulted in matrix multiplication.\n",
      "Using ``*`` for matrix multiplication has been deprecated since CVXPY 1.1.\n",
      "    Use ``*`` for matrix-scalar and vector-scalar multiplication.\n",
      "    Use ``@`` for matrix-matrix and matrix-vector multiplication.\n",
      "    Use ``multiply`` for elementwise multiplication.\n",
      "This code path has been hit 167 times so far.\n",
      "\n",
      "  warnings.warn(msg, UserWarning)\n",
      "c:\\Users\\uer\\anaconda3\\envs\\gurobi\\lib\\site-packages\\cvxpy\\expressions\\expression.py:593: UserWarning: \n",
      "This use of ``*`` has resulted in matrix multiplication.\n",
      "Using ``*`` for matrix multiplication has been deprecated since CVXPY 1.1.\n",
      "    Use ``*`` for matrix-scalar and vector-scalar multiplication.\n",
      "    Use ``@`` for matrix-matrix and matrix-vector multiplication.\n",
      "    Use ``multiply`` for elementwise multiplication.\n",
      "This code path has been hit 168 times so far.\n",
      "\n",
      "  warnings.warn(msg, UserWarning)\n"
     ]
    },
    {
     "data": {
      "text/plain": [
       "array([ 2.00000053e+02,  5.00000698e+01, -1.84247615e-05])"
      ]
     },
     "execution_count": 157,
     "metadata": {},
     "output_type": "execute_result"
    }
   ],
   "source": [
    "c=[100,200,0]\n",
    "#c = np.array([c])\n",
    "a=[20,25,0]\n",
    "b=[0.05,0.10,0]\n",
    "#pmin = [0,0]\n",
    "pmin=[0,0,0]\n",
    "ed(c,a,pmax,d,pmin)"
   ]
  },
  {
   "cell_type": "code",
   "execution_count": 228,
   "metadata": {},
   "outputs": [
    {
     "data": {
      "text/plain": [
       "[0, 1]"
      ]
     },
     "execution_count": 228,
     "metadata": {},
     "output_type": "execute_result"
    }
   ],
   "source": [
    "pmax = list([G.nodes[j][\"smax\"] for j in G.nodes])\n",
    "Lambda\n",
    "l=[]\n",
    "for i in pmax:\n",
    "    if i !=0:\n",
    "        l.append(pmax.index(i))\n",
    "l"
   ]
  },
  {
   "cell_type": "code",
   "execution_count": 239,
   "metadata": {},
   "outputs": [],
   "source": [
    "pmax = list([G.nodes[j][\"smax\"] for j in G.nodes])"
   ]
  },
  {
   "cell_type": "code",
   "execution_count": 250,
   "metadata": {},
   "outputs": [
    {
     "data": {
      "text/plain": [
       "[400, 300]"
      ]
     },
     "execution_count": 250,
     "metadata": {},
     "output_type": "execute_result"
    }
   ],
   "source": [
    "pmax = list([G.nodes[j][\"smax\"] for j in G.nodes])\n",
    "pmax\n",
    "pmax=pmax[:2]\n",
    "pmax"
   ]
  },
  {
   "cell_type": "code",
   "execution_count": 263,
   "metadata": {},
   "outputs": [],
   "source": [
    "def ed_pl(G,ng,snom,a,b,c,smax,d):\n",
    "    \n",
    "    nn=len(G.nodes)\n",
    "    nl = len(G.edges)\n",
    "    B= np.diag(b)\n",
    "    smax = nl*[smax] #flujo max por lineas \n",
    "    pmax = list([G.nodes[j][\"smax\"] for j in G.nodes])\n",
    "    d1 = list([G.nodes[j][\"d\"] for j in G.nodes])\n",
    "    Lambda=[]\n",
    "    for i in  pmax:\n",
    "        if i !=0:\n",
    "            Lambda.append(pmax.index(i))\n",
    "    Lambda=tuple(Lambda)\n",
    "    pmax=pmax[:ng]\n",
    "    s = cvx.Variable(nl) # power flows\n",
    "    Omega=[]\n",
    "    for (k,m) in G.edges:\n",
    "        Omega.append((k,m))\n",
    "    Omega=tuple(Omega)\n",
    "    EqB = nn*[0] # equation of balance of energy\n",
    "    for j in range(nl):\n",
    "        k = Omega[j][0]\n",
    "        m = Omega[j][1]\n",
    "        EqB[k] += s[j] # flow in departing from k\n",
    "        EqB[m] += -s[j] # flow arriving to k\n",
    "    for k in range(ng):\n",
    "        n1 = Lambda[k]\n",
    "        EqB[n1] += -p[k]\n",
    "    res = [p>=pmin, p<=pmax, s<=smax, -s<=smax]\n",
    "    for k in range(nn):\n",
    "        res += [EqB[k] + d[k] ==0]\n",
    "    for t in range(ng):\n",
    "        obj = (1/2*cvx.quad_form(p,B) +p*a +c[t])\n",
    "    \n",
    "    x = nl*[0.1]\n",
    "    th = cvx.Variable(nn) # nodal angles\n",
    "    res += [th[0] == 0] # angle reference\n",
    "    for j in range(nl):\n",
    "        k = Omega[j][0]\n",
    "        m = Omega[j][1]\n",
    "        res += [x[j]*s[j] == snom*(th[k]-th[m])] # aproximacion \n",
    "    ModelLPF = cvx.Problem(cvx.Minimize(obj),res)\n",
    "    ModelLPF.solve()\n",
    "    print(\"Generation:\",(p.value))\n",
    "    print(\"Flows:\",(s.value))\n",
    "    print(\"th:\",(th.value))\n",
    "    print(\"costo\",ModelLPF.solve())\n",
    "    print(\"Incremental Cost:\",res[5].dual_value)"
   ]
  },
  {
   "cell_type": "code",
   "execution_count": 264,
   "metadata": {},
   "outputs": [
    {
     "name": "stdout",
     "output_type": "stream",
     "text": [
      "Generation: [200.  50.]\n",
      "Flows: [ 50. 150. 100.]\n",
      "th: [-7.47137348e-21 -2.50000000e-02 -7.50000000e-02]\n",
      "costo 6575.0\n",
      "Incremental Cost: 30.000000000000128\n"
     ]
    },
    {
     "name": "stderr",
     "output_type": "stream",
     "text": [
      "c:\\Users\\uer\\anaconda3\\envs\\gurobi\\lib\\site-packages\\cvxpy\\expressions\\expression.py:593: UserWarning: \n",
      "This use of ``*`` has resulted in matrix multiplication.\n",
      "Using ``*`` for matrix multiplication has been deprecated since CVXPY 1.1.\n",
      "    Use ``*`` for matrix-scalar and vector-scalar multiplication.\n",
      "    Use ``@`` for matrix-matrix and matrix-vector multiplication.\n",
      "    Use ``multiply`` for elementwise multiplication.\n",
      "This code path has been hit 239 times so far.\n",
      "\n",
      "  warnings.warn(msg, UserWarning)\n",
      "c:\\Users\\uer\\anaconda3\\envs\\gurobi\\lib\\site-packages\\cvxpy\\expressions\\expression.py:593: UserWarning: \n",
      "This use of ``*`` has resulted in matrix multiplication.\n",
      "Using ``*`` for matrix multiplication has been deprecated since CVXPY 1.1.\n",
      "    Use ``*`` for matrix-scalar and vector-scalar multiplication.\n",
      "    Use ``@`` for matrix-matrix and matrix-vector multiplication.\n",
      "    Use ``multiply`` for elementwise multiplication.\n",
      "This code path has been hit 240 times so far.\n",
      "\n",
      "  warnings.warn(msg, UserWarning)\n"
     ]
    }
   ],
   "source": [
    "a=[20,25]\n",
    "b=[0.05,0.10]\n",
    "c=[100,200]\n",
    "ng=2\n",
    "snom=200\n",
    "smax = 400\n",
    "d=[0,0,250]\n",
    "ed_pl(G,ng,snom,a,b,c,smax,d)"
   ]
  },
  {
   "cell_type": "code",
   "execution_count": 246,
   "metadata": {},
   "outputs": [
    {
     "name": "stdout",
     "output_type": "stream",
     "text": [
      "400\n"
     ]
    },
    {
     "ename": "ValueError",
     "evalue": "400 is not in list",
     "output_type": "error",
     "traceback": [
      "\u001b[1;31m---------------------------------------------------------------------------\u001b[0m",
      "\u001b[1;31mValueError\u001b[0m                                Traceback (most recent call last)",
      "\u001b[1;32mc:\\Users\\uer\\Documents\\GitHub\\tesis\\tesis\\ed.ipynb Celda 21\u001b[0m in \u001b[0;36m<cell line: 3>\u001b[1;34m()\u001b[0m\n\u001b[0;32m      <a href='vscode-notebook-cell:/c%3A/Users/uer/Documents/GitHub/tesis/tesis/ed.ipynb#X40sZmlsZQ%3D%3D?line=3'>4</a>\u001b[0m     \u001b[39mprint\u001b[39m(i)\n\u001b[0;32m      <a href='vscode-notebook-cell:/c%3A/Users/uer/Documents/GitHub/tesis/tesis/ed.ipynb#X40sZmlsZQ%3D%3D?line=4'>5</a>\u001b[0m     \u001b[39mif\u001b[39;00m i \u001b[39m!=\u001b[39m\u001b[39m0\u001b[39m:\n\u001b[1;32m----> <a href='vscode-notebook-cell:/c%3A/Users/uer/Documents/GitHub/tesis/tesis/ed.ipynb#X40sZmlsZQ%3D%3D?line=5'>6</a>\u001b[0m         Lambda\u001b[39m.\u001b[39mappend(Lambda\u001b[39m.\u001b[39;49mindex(i))\n\u001b[0;32m      <a href='vscode-notebook-cell:/c%3A/Users/uer/Documents/GitHub/tesis/tesis/ed.ipynb#X40sZmlsZQ%3D%3D?line=6'>7</a>\u001b[0m Lambda\u001b[39m=\u001b[39m\u001b[39mtuple\u001b[39m(Lambda)\n\u001b[0;32m      <a href='vscode-notebook-cell:/c%3A/Users/uer/Documents/GitHub/tesis/tesis/ed.ipynb#X40sZmlsZQ%3D%3D?line=7'>8</a>\u001b[0m \u001b[39mprint\u001b[39m(Lambda)\n",
      "\u001b[1;31mValueError\u001b[0m: 400 is not in list"
     ]
    }
   ],
   "source": [
    "pmax = [400,300,0]\n",
    "Lambda=[]\n",
    "for i in  pmax:\n",
    "    print(i)\n",
    "    if i !=0:\n",
    "        Lambda.append(Lambda.index(i))\n",
    "Lambda=tuple(Lambda)\n",
    "print(Lambda)"
   ]
  },
  {
   "cell_type": "code",
   "execution_count": 244,
   "metadata": {},
   "outputs": [
    {
     "ename": "ValueError",
     "evalue": "400 is not in list",
     "output_type": "error",
     "traceback": [
      "\u001b[1;31m---------------------------------------------------------------------------\u001b[0m",
      "\u001b[1;31mValueError\u001b[0m                                Traceback (most recent call last)",
      "\u001b[1;32mc:\\Users\\uer\\Documents\\GitHub\\tesis\\tesis\\ed.ipynb Celda 21\u001b[0m in \u001b[0;36m<cell line: 10>\u001b[1;34m()\u001b[0m\n\u001b[0;32m     <a href='vscode-notebook-cell:/c%3A/Users/uer/Documents/GitHub/tesis/tesis/ed.ipynb#X24sZmlsZQ%3D%3D?line=9'>10</a>\u001b[0m \u001b[39mfor\u001b[39;00m i \u001b[39min\u001b[39;00m  pmax:\n\u001b[0;32m     <a href='vscode-notebook-cell:/c%3A/Users/uer/Documents/GitHub/tesis/tesis/ed.ipynb#X24sZmlsZQ%3D%3D?line=10'>11</a>\u001b[0m     \u001b[39mif\u001b[39;00m i \u001b[39m!=\u001b[39m\u001b[39m0\u001b[39m:\n\u001b[1;32m---> <a href='vscode-notebook-cell:/c%3A/Users/uer/Documents/GitHub/tesis/tesis/ed.ipynb#X24sZmlsZQ%3D%3D?line=11'>12</a>\u001b[0m         Lambda\u001b[39m.\u001b[39mappend(Lambda\u001b[39m.\u001b[39;49mindex(i))\n\u001b[0;32m     <a href='vscode-notebook-cell:/c%3A/Users/uer/Documents/GitHub/tesis/tesis/ed.ipynb#X24sZmlsZQ%3D%3D?line=12'>13</a>\u001b[0m Lambda\u001b[39m=\u001b[39m\u001b[39mtuple\u001b[39m(Lambda)\n\u001b[0;32m     <a href='vscode-notebook-cell:/c%3A/Users/uer/Documents/GitHub/tesis/tesis/ed.ipynb#X24sZmlsZQ%3D%3D?line=13'>14</a>\u001b[0m \u001b[39mprint\u001b[39m(Lambda)\n",
      "\u001b[1;31mValueError\u001b[0m: 400 is not in list"
     ]
    }
   ],
   "source": [
    "ng = 2 # number of generators\n",
    "nl = 3 # number of lines\n",
    "nn = 3 # number of nodes\n",
    "pmax = [400,300,0]\n",
    "smax = nl*[400]\n",
    "\n",
    "pmin=[0,0]\n",
    "d = [0,0,250] # demand\n",
    "Lambda=[]\n",
    "for i in  pmax:\n",
    "    if i !=0:\n",
    "        Lambda.append(Lambda.index(i))\n",
    "Lambda=tuple(Lambda)\n",
    "print(Lambda)\n",
    "Omega = ((0, 1), (0, 2), (1, 2))\n",
    "c=[100,200]\n",
    "\n",
    "#c = np.array([c])\n",
    "a=[20,25]\n",
    "b=[0.05,0.10]\n",
    "B= np.diag(b)\n",
    "c=[100,200]\n",
    "# grid\n",
    "s = cvx.Variable(nl) # power flows\n",
    "p= cvx.Variable(ng)\n",
    "EqB = nn*[0] # equation of balance of energy\n",
    "for j in range(nl):\n",
    "    k = Omega[j][0]\n",
    "    m = Omega[j][1]\n",
    "    EqB[k] += s[j] # flow in departing from k\n",
    "    EqB[m] += -s[j] # flow arriving to k\n",
    "for k in range(ng):\n",
    "    n1 = Lambda[k]\n",
    "    EqB[n1] += -p[k]\n",
    "res = [p>=pmin, p<=pmax, s<=smax, -s<=smax]\n",
    "for k in range(nn):\n",
    "    res += [EqB[k] + d[k] ==0]\n",
    "for t in range(ng):\n",
    "    obj = (1/2*cvx.quad_form(p,B) +p*a +c[t])\n",
    "\n",
    "\n",
    "snom = 200\n",
    "x = nl*[0.05]\n",
    "th = cvx.Variable(nn) # nodal angles\n",
    "res += [th[0] == 0] # angle reference\n",
    "for j in range(nl):\n",
    "    k = Omega[j][0]\n",
    "    m = Omega[j][1]\n",
    "    res += [x[j]*s[j] == snom*(th[k]-th[m])] # aproximacion \n",
    "ModelLPF = cvx.Problem(cvx.Minimize(obj),res)\n",
    "ModelLPF.solve()\n",
    "print(\"Generation:\",(p.value))\n",
    "print(\"Flows:\",(s.value))\n",
    "print(\"th:\",(th.value))\n",
    "print(\"costo\",ModelLPF.solve())\n",
    "print(\"Incremental Cost:\",res[5].dual_value)\n",
    "\n"
   ]
  },
  {
   "cell_type": "code",
   "execution_count": 198,
   "metadata": {},
   "outputs": [
    {
     "name": "stderr",
     "output_type": "stream",
     "text": [
      "c:\\Users\\uer\\anaconda3\\envs\\gurobi\\lib\\site-packages\\cvxpy\\expressions\\expression.py:593: UserWarning: \n",
      "This use of ``*`` has resulted in matrix multiplication.\n",
      "Using ``*`` for matrix multiplication has been deprecated since CVXPY 1.1.\n",
      "    Use ``*`` for matrix-scalar and vector-scalar multiplication.\n",
      "    Use ``@`` for matrix-matrix and matrix-vector multiplication.\n",
      "    Use ``multiply`` for elementwise multiplication.\n",
      "This code path has been hit 187 times so far.\n",
      "\n",
      "  warnings.warn(msg, UserWarning)\n"
     ]
    },
    {
     "name": "stdout",
     "output_type": "stream",
     "text": [
      "Generation: [ 94. 100. 178. 188. 315. 325.]\n",
      "Flows: [ 133.  133. -129.   57. -300. -234.   66.  186. -157.]\n",
      "th: [-7.04059227e-20 -2.66206897e-02  3.33793103e-02  2.58275862e-02\n",
      " -1.13448276e-02  2.01379310e-02]\n"
     ]
    }
   ],
   "source": [
    "ng = 6 # number of generators\n",
    "nl = 9 # number of lines\n",
    "nn = 6 # number of nodes\n",
    "smax = nl*[300]\n",
    "d = [0,800,0,0,400,0] # demand\n",
    "Lambda = (0,0,2,2,3,5) # generators location\n",
    "Omega = ((0, 1),(0,1),(0,3),(0,4),(1,2),(1,5),(2,5),(3,4),(4,5))\n",
    "# grid\n",
    "pmin = [10,10,35,35,125,130]\n",
    "pmax = [125,150,210,225,315,325]\n",
    "a = np.diag([0.30494,0.21174,0.07092,0.05606,0.03598,0.04222])\n",
    "b = [38.5390,46.1591,38.3055,40.3965,38.2704,36.3278]\n",
    "alpha = np.diag([0.00838,0.00838,0.01366,0.01366,0.00922,0.00922])\n",
    "beta = [0.32767,0.32767,-0.54551,-0.54551,-0.51116,-0.51116]\n",
    "\n",
    "p = cvx.Variable(6)\n",
    "\n",
    "s = cvx.Variable(nl) # power flows\n",
    "EqB = nn*[0] # equation of balance of energy\n",
    "for j in range(nl):\n",
    "    k = Omega[j][0]\n",
    "    m = Omega[j][1]\n",
    "    EqB[k] += s[j] # flow in departing from k\n",
    "    EqB[m] += -s[j] # flow arriving to k\n",
    "for k in range(ng):\n",
    "    n1 = Lambda[k]\n",
    "    EqB[n1] += -p[k]\n",
    "res = [p>=pmin, p<=pmax, s<=smax, -s<=smax]\n",
    "for k in range(nn):\n",
    "    res += [EqB[k] + d[k] ==0]\n",
    "    \n",
    "obj = 1/2*cvx.quad_form(p,a)+b*p\n",
    "\n",
    "\n",
    "snom = 100\n",
    "x = nl*[0.02]\n",
    "th = cvx.Variable(nn) # nodal angles\n",
    "res += [th[0] == 0] # angle reference\n",
    "for j in range(nl):\n",
    "    k = Omega[j][0]\n",
    "    m = Omega[j][1]\n",
    "    res += [x[j]*s[j] == snom*(th[k]-th[m])]\n",
    "ModelLPF = cvx.Problem(cvx.Minimize(obj),res)\n",
    "ModelLPF.solve()\n",
    "print(\"Generation:\",np.round(p.value))\n",
    "print(\"Flows:\",np.round(s.value))\n",
    "print(\"th:\",(th.value))\n"
   ]
  },
  {
   "cell_type": "code",
   "execution_count": 164,
   "metadata": {},
   "outputs": [
    {
     "data": {
      "text/plain": [
       "tuple"
      ]
     },
     "execution_count": 164,
     "metadata": {},
     "output_type": "execute_result"
    }
   ],
   "source": [
    "type(Omega)"
   ]
  },
  {
   "cell_type": "code",
   "execution_count": null,
   "metadata": {},
   "outputs": [],
   "source": []
  }
 ],
 "metadata": {
  "kernelspec": {
   "display_name": "Python 3.8.13 ('gurobi')",
   "language": "python",
   "name": "python3"
  },
  "language_info": {
   "codemirror_mode": {
    "name": "ipython",
    "version": 3
   },
   "file_extension": ".py",
   "mimetype": "text/x-python",
   "name": "python",
   "nbconvert_exporter": "python",
   "pygments_lexer": "ipython3",
   "version": "3.8.13"
  },
  "orig_nbformat": 4,
  "vscode": {
   "interpreter": {
    "hash": "03bbc52f8cfc3f4795b3cc046eb4ce8648711f2bcfc925e4f713cbd4fef920a7"
   }
  }
 },
 "nbformat": 4,
 "nbformat_minor": 2
}
