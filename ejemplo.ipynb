{
 "cells": [
  {
   "cell_type": "markdown",
   "metadata": {},
   "source": [
    "𝑓0(𝑝0) = 0.31/2 𝑝_0^2 + 38𝑝0\n",
    "\n",
    "𝑓1(𝑝1) = 0.22/2 𝑝1^2 + 46𝑝1"
   ]
  },
  {
   "cell_type": "code",
   "execution_count": 3,
   "metadata": {},
   "outputs": [],
   "source": [
    "import numpy as np\n",
    "import numpy as np\n",
    "import pandas as pd\n",
    "from gurobipy import *"
   ]
  },
  {
   "cell_type": "code",
   "execution_count": 2,
   "metadata": {},
   "outputs": [
    {
     "name": "stdout",
     "output_type": "stream",
     "text": [
      "[ 98.11320755 101.88679245  68.41509434]\n"
     ]
    }
   ],
   "source": [
    "A = [[0.31,0,-1],[0,0.22,-1],[1,1,0]]\n",
    "b = [-38,-46,200]\n",
    "x = np.linalg.solve(A,b)\n",
    "print(x)"
   ]
  },
  {
   "cell_type": "code",
   "execution_count": 6,
   "metadata": {},
   "outputs": [],
   "source": [
    "ngen=6\n",
    "pmin = [10,10,35,35,125,130]\n",
    "pmax = [125,150,210,225,315,325]\n",
    "alfa=[0.30494,0.21174,0.07092, 0.05606, 0.03598, 0.04222]\n",
    "beta=[38.5390,46.1591,38.3055, 40.3965,38.2704, 36.3278]\n",
    "ak=[ 0.00838 ,0.00838 , 0.01366,  0.01366, 0.00922, 0.00922  ]\n",
    "bk=[  0.32767,  0.32767,-0.54551, -0.54551,-0.51116, -0.51116]\n",
    "\n",
    "d=1200#MW\n",
    "\n"
   ]
  },
  {
   "cell_type": "code",
   "execution_count": 4,
   "metadata": {},
   "outputs": [
    {
     "name": "stdout",
     "output_type": "stream",
     "text": [
      "Set parameter Username\n",
      "Academic license - for non-commercial use only - expires 2023-06-12\n"
     ]
    }
   ],
   "source": [
    "m1=Model(\"despacho economico\")"
   ]
  },
  {
   "cell_type": "code",
   "execution_count": 7,
   "metadata": {},
   "outputs": [],
   "source": [
    "Pgen= m1.addVars(ngen,vtype=GRB.CONTINUOUS, name=\"Pgen\")"
   ]
  },
  {
   "cell_type": "code",
   "execution_count": 19,
   "metadata": {},
   "outputs": [
    {
     "data": {
      "text/plain": [
       "[]"
      ]
     },
     "execution_count": 19,
     "metadata": {},
     "output_type": "execute_result"
    }
   ],
   "source": [
    "m1.getVars()"
   ]
  },
  {
   "cell_type": "code",
   "execution_count": 9,
   "metadata": {},
   "outputs": [
    {
     "data": {
      "text/plain": [
       "<gurobi.Constr *Awaiting Model Update*>"
      ]
     },
     "execution_count": 9,
     "metadata": {},
     "output_type": "execute_result"
    }
   ],
   "source": [
    "m1.addConstr(quicksum(Pgen[i] for i in Pgen)>=d)"
   ]
  },
  {
   "cell_type": "code",
   "execution_count": 32,
   "metadata": {},
   "outputs": [],
   "source": [
    "m1.setObjective(quicksum(alfa[i]*Pgen[i]*Pgen[i] + beta[i]*Pgen[i] for i in range(ngen)), GRB.MINIMIZE)"
   ]
  },
  {
   "cell_type": "code",
   "execution_count": 25,
   "metadata": {},
   "outputs": [
    {
     "data": {
      "text/plain": [
       "{0: <gurobi.Constr *Awaiting Model Update*>,\n",
       " 1: <gurobi.Constr *Awaiting Model Update*>,\n",
       " 2: <gurobi.Constr *Awaiting Model Update*>,\n",
       " 3: <gurobi.Constr *Awaiting Model Update*>,\n",
       " 4: <gurobi.Constr *Awaiting Model Update*>,\n",
       " 5: <gurobi.Constr *Awaiting Model Update*>}"
      ]
     },
     "execution_count": 25,
     "metadata": {},
     "output_type": "execute_result"
    }
   ],
   "source": [
    "m1.addConstrs(Pgen[i] >= pmin[i] for i in range(ngen))\n"
   ]
  },
  {
   "cell_type": "code",
   "execution_count": 26,
   "metadata": {},
   "outputs": [
    {
     "data": {
      "text/plain": [
       "{0: <gurobi.Constr *Awaiting Model Update*>,\n",
       " 1: <gurobi.Constr *Awaiting Model Update*>,\n",
       " 2: <gurobi.Constr *Awaiting Model Update*>,\n",
       " 3: <gurobi.Constr *Awaiting Model Update*>,\n",
       " 4: <gurobi.Constr *Awaiting Model Update*>,\n",
       " 5: <gurobi.Constr *Awaiting Model Update*>}"
      ]
     },
     "execution_count": 26,
     "metadata": {},
     "output_type": "execute_result"
    }
   ],
   "source": [
    "m1.addConstrs(Pgen[i] <= pmax[i] for i in range(ngen))"
   ]
  },
  {
   "cell_type": "code",
   "execution_count": 33,
   "metadata": {},
   "outputs": [
    {
     "name": "stdout",
     "output_type": "stream",
     "text": [
      "Gurobi Optimizer version 9.5.2 build v9.5.2rc0 (win64)\n",
      "Thread count: 4 physical cores, 8 logical processors, using up to 8 threads\n",
      "Optimize a model with 13 rows, 6 columns and 18 nonzeros\n",
      "Model fingerprint: 0x330668f8\n",
      "Model has 6 quadratic objective terms\n",
      "Coefficient statistics:\n",
      "  Matrix range     [1e+00, 1e+00]\n",
      "  Objective range  [4e+01, 5e+01]\n",
      "  QObjective range [7e-02, 6e-01]\n",
      "  Bounds range     [0e+00, 0e+00]\n",
      "  RHS range        [1e+01, 1e+03]\n",
      "Presolve removed 12 rows and 0 columns\n",
      "Presolve time: 0.01s\n",
      "Presolved: 1 rows, 6 columns, 6 nonzeros\n",
      "Presolved model has 6 quadratic objective terms\n",
      "Ordering time: 0.00s\n",
      "\n",
      "Barrier statistics:\n",
      " AA' NZ     : 0.000e+00\n",
      " Factor NZ  : 1.000e+00\n",
      " Factor Ops : 1.000e+00 (less than 1 second per iteration)\n",
      " Threads    : 1\n",
      "\n",
      "                  Objective                Residual\n",
      "Iter       Primal          Dual         Primal    Dual     Compl     Time\n",
      "   0   2.05266234e+06 -2.12598646e+06  9.83e+02 6.10e+02  1.05e+06     0s\n",
      "   1   1.39069281e+05 -4.80475783e+05  9.67e+01 2.98e+01  8.74e+04     0s\n",
      "   2   6.81058251e+04 -6.93293452e+04  0.00e+00 2.98e-05  1.06e+04     0s\n",
      "   3   6.51267995e+04  5.75315733e+04  0.00e+00 1.00e-06  5.84e+02     0s\n",
      "   4   6.24169327e+04  6.19518960e+04  0.00e+00 1.01e-12  3.58e+01     0s\n",
      "   5   6.22946336e+04  6.22873540e+04  0.00e+00 1.42e-14  5.60e-01     0s\n",
      "   6   6.22943459e+04  6.22943386e+04  0.00e+00 1.42e-14  5.61e-04     0s\n",
      "   7   6.22943456e+04  6.22943456e+04  0.00e+00 0.00e+00  5.61e-07     0s\n",
      "   8   6.22943456e+04  6.22943456e+04  0.00e+00 7.11e-15  5.62e-10     0s\n",
      "\n",
      "Barrier solved model in 8 iterations and 0.02 seconds (0.00 work units)\n",
      "Optimal objective 6.22943456e+04\n",
      "\n"
     ]
    }
   ],
   "source": [
    "m1.optimize()"
   ]
  },
  {
   "cell_type": "code",
   "execution_count": 34,
   "metadata": {},
   "outputs": [
    {
     "data": {
      "text/plain": [
       "[<gurobi.Var Pgen[0] (value 58.60019741428022)>,\n",
       " <gurobi.Var Pgen[1] (value 66.39980258574326)>,\n",
       " <gurobi.Var Pgen[2] (value 209.99999999998923)>,\n",
       " <gurobi.Var Pgen[3] (value 224.9999999999943)>,\n",
       " <gurobi.Var Pgen[4] (value 314.9999999999975)>,\n",
       " <gurobi.Var Pgen[5] (value 324.99999999999704)>]"
      ]
     },
     "execution_count": 34,
     "metadata": {},
     "output_type": "execute_result"
    }
   ],
   "source": [
    "m1.getVars()"
   ]
  },
  {
   "cell_type": "code",
   "execution_count": 8,
   "metadata": {},
   "outputs": [
    {
     "name": "stdout",
     "output_type": "stream",
     "text": [
      "[ 65.97429744  59.02570256 210.         225.         315.\n",
      " 325.        ]\n",
      "Incremental Cost: 58.6572022605852\n"
     ]
    },
    {
     "name": "stderr",
     "output_type": "stream",
     "text": [
      "c:\\Users\\cs.saenz10\\.conda\\envs\\gurobi\\lib\\site-packages\\cvxpy\\expressions\\expression.py:593: UserWarning: \n",
      "This use of ``*`` has resulted in matrix multiplication.\n",
      "Using ``*`` for matrix multiplication has been deprecated since CVXPY 1.1.\n",
      "    Use ``*`` for matrix-scalar and vector-scalar multiplication.\n",
      "    Use ``@`` for matrix-matrix and matrix-vector multiplication.\n",
      "    Use ``multiply`` for elementwise multiplication.\n",
      "This code path has been hit 1 times so far.\n",
      "\n",
      "  warnings.warn(msg, UserWarning)\n"
     ]
    }
   ],
   "source": [
    "import numpy as np\n",
    "import cvxpy as cvx\n",
    "pmin = [10,10,35,35,125,130]\n",
    "pmax = [125,150,210,225,315,325]\n",
    "a = np.diag([0.30494,0.21174,0.07092,0.05606,0.03598,0.04222])\n",
    "b = [38.5390,46.1591,38.3055,40.3965,38.2704,36.3278]\n",
    "d = 1200\n",
    "p = cvx.Variable(6)\n",
    "obj = cvx.Minimize(1/2*cvx.quad_form(p,a)+b*p)\n",
    "res = [sum(p) >= d , p>=pmin, p<=pmax]\n",
    "Model = cvx.Problem(obj,res)\n",
    "Model.solve()\n",
    "print(p.value)\n",
    "print(\"Incremental Cost:\",res[0].dual_value)\n"
   ]
  },
  {
   "cell_type": "markdown",
   "metadata": {},
   "source": [
    "Despacho ambiental"
   ]
  },
  {
   "cell_type": "code",
   "execution_count": 38,
   "metadata": {},
   "outputs": [
    {
     "ename": "TypeError",
     "evalue": "'Problem' object is not callable",
     "output_type": "error",
     "traceback": [
      "\u001b[1;31m---------------------------------------------------------------------------\u001b[0m",
      "\u001b[1;31mTypeError\u001b[0m                                 Traceback (most recent call last)",
      "\u001b[1;32mc:\\Users\\cs.saenz10\\Documents\\tesis\\ejemplo.ipynb Celda 16\u001b[0m in \u001b[0;36m<cell line: 1>\u001b[1;34m()\u001b[0m\n\u001b[1;32m----> <a href='vscode-notebook-cell:/c%3A/Users/cs.saenz10/Documents/tesis/ejemplo.ipynb#X24sZmlsZQ%3D%3D?line=0'>1</a>\u001b[0m m2 \u001b[39m=\u001b[39m Model(\u001b[39m\"\u001b[39;49m\u001b[39mdespacho env\u001b[39;49m\u001b[39m\"\u001b[39;49m)\n",
      "\u001b[1;31mTypeError\u001b[0m: 'Problem' object is not callable"
     ]
    }
   ],
   "source": [
    "m2 = Model(\"despacho env\")"
   ]
  },
  {
   "cell_type": "code",
   "execution_count": null,
   "metadata": {},
   "outputs": [],
   "source": []
  }
 ],
 "metadata": {
  "kernelspec": {
   "display_name": "Python 3.9.12 ('gurobi')",
   "language": "python",
   "name": "python3"
  },
  "language_info": {
   "codemirror_mode": {
    "name": "ipython",
    "version": 3
   },
   "file_extension": ".py",
   "mimetype": "text/x-python",
   "name": "python",
   "nbconvert_exporter": "python",
   "pygments_lexer": "ipython3",
   "version": "3.9.12"
  },
  "orig_nbformat": 4,
  "vscode": {
   "interpreter": {
    "hash": "4b61e63bbe89ade645af8089248eeae19c575a1e6f5a179d4a698ecce2fee66b"
   }
  }
 },
 "nbformat": 4,
 "nbformat_minor": 2
}
