{
 "cells": [
  {
   "cell_type": "code",
   "execution_count": 1,
   "metadata": {},
   "outputs": [],
   "source": [
    "import pypsa\n",
    "import numpy as np\n",
    "import matplotlib.pyplot as plt\n",
    "import cartopy.crs as ccrs\n",
    "from pypsa.plot import add_legend_circles"
   ]
  },
  {
   "cell_type": "code",
   "execution_count": 2,
   "metadata": {},
   "outputs": [],
   "source": [
    "import pandas as pd"
   ]
  },
  {
   "cell_type": "code",
   "execution_count": 3,
   "metadata": {},
   "outputs": [],
   "source": [
    "network = pypsa.Network()\n",
    "network.set_snapshots(pd.date_range(\"2016-01-01 00:00\", \"2016-01-01 03:00\", freq=\"H\"))\n",
    "\n",
    "network.add(\"Bus\", \"0\", carrier=\"AC\")\n",
    "network.add(\"Bus\", \"0 gas\", carrier=\"gas\")\n",
    "\n",
    "network.add(\"Carrier\", \"wind\")\n",
    "network.add(\"Carrier\", \"gas\", co2_emissions=0.2)\n",
    "\n",
    "network.add(\"GlobalConstraint\", \"co2_limit\", sense=\"<=\", constant=0.0)\n",
    "\n",
    "network.add(\n",
    "    \"Generator\",\n",
    "    \"wind turbine\",\n",
    "    bus=\"0\",\n",
    "    carrier=\"wind\",\n",
    "    p_nom_extendable=True,\n",
    "    p_max_pu=[0.0, 0.2, 0.7, 0.4],\n",
    "    capital_cost=1000,\n",
    ")\n",
    "\n",
    "network.add(\"Load\", \"load\", bus=\"0\", p_set=5.0)\n",
    "\n",
    "network.add(\n",
    "    \"Link\",\n",
    "    \"P2G\",\n",
    "    bus0=\"0\",\n",
    "    bus1=\"0 gas\",\n",
    "    efficiency=0.6,\n",
    "    capital_cost=1000,\n",
    "    p_nom_extendable=True,\n",
    ")\n",
    "\n",
    "network.add(\n",
    "    \"Link\",\n",
    "    \"generator\",\n",
    "    bus0=\"0 gas\",\n",
    "    bus1=\"0\",\n",
    "    efficiency=0.468,\n",
    "    capital_cost=400,\n",
    "    p_nom_extendable=True,\n",
    ")\n",
    "\n",
    "network.add(\"Store\", \"gas depot\", bus=\"0 gas\", e_cyclic=True, e_nom_extendable=True)"
   ]
  },
  {
   "cell_type": "code",
   "execution_count": 4,
   "metadata": {},
   "outputs": [
    {
     "data": {
      "text/html": [
       "<div>\n",
       "<style scoped>\n",
       "    .dataframe tbody tr th:only-of-type {\n",
       "        vertical-align: middle;\n",
       "    }\n",
       "\n",
       "    .dataframe tbody tr th {\n",
       "        vertical-align: top;\n",
       "    }\n",
       "\n",
       "    .dataframe thead th {\n",
       "        text-align: right;\n",
       "    }\n",
       "</style>\n",
       "<table border=\"1\" class=\"dataframe\">\n",
       "  <thead>\n",
       "    <tr style=\"text-align: right;\">\n",
       "      <th>attribute</th>\n",
       "      <th>bus</th>\n",
       "      <th>control</th>\n",
       "      <th>type</th>\n",
       "      <th>p_nom</th>\n",
       "      <th>p_nom_extendable</th>\n",
       "      <th>p_nom_min</th>\n",
       "      <th>p_nom_max</th>\n",
       "      <th>p_min_pu</th>\n",
       "      <th>p_max_pu</th>\n",
       "      <th>p_set</th>\n",
       "      <th>...</th>\n",
       "      <th>shut_down_cost</th>\n",
       "      <th>min_up_time</th>\n",
       "      <th>min_down_time</th>\n",
       "      <th>up_time_before</th>\n",
       "      <th>down_time_before</th>\n",
       "      <th>ramp_limit_up</th>\n",
       "      <th>ramp_limit_down</th>\n",
       "      <th>ramp_limit_start_up</th>\n",
       "      <th>ramp_limit_shut_down</th>\n",
       "      <th>p_nom_opt</th>\n",
       "    </tr>\n",
       "    <tr>\n",
       "      <th>Generator</th>\n",
       "      <th></th>\n",
       "      <th></th>\n",
       "      <th></th>\n",
       "      <th></th>\n",
       "      <th></th>\n",
       "      <th></th>\n",
       "      <th></th>\n",
       "      <th></th>\n",
       "      <th></th>\n",
       "      <th></th>\n",
       "      <th></th>\n",
       "      <th></th>\n",
       "      <th></th>\n",
       "      <th></th>\n",
       "      <th></th>\n",
       "      <th></th>\n",
       "      <th></th>\n",
       "      <th></th>\n",
       "      <th></th>\n",
       "      <th></th>\n",
       "      <th></th>\n",
       "    </tr>\n",
       "  </thead>\n",
       "  <tbody>\n",
       "    <tr>\n",
       "      <th>wind turbine</th>\n",
       "      <td>0</td>\n",
       "      <td>PQ</td>\n",
       "      <td></td>\n",
       "      <td>0.0</td>\n",
       "      <td>True</td>\n",
       "      <td>0.0</td>\n",
       "      <td>inf</td>\n",
       "      <td>0.0</td>\n",
       "      <td>1.0</td>\n",
       "      <td>0.0</td>\n",
       "      <td>...</td>\n",
       "      <td>0.0</td>\n",
       "      <td>0</td>\n",
       "      <td>0</td>\n",
       "      <td>1</td>\n",
       "      <td>0</td>\n",
       "      <td>NaN</td>\n",
       "      <td>NaN</td>\n",
       "      <td>1.0</td>\n",
       "      <td>1.0</td>\n",
       "      <td>0.0</td>\n",
       "    </tr>\n",
       "  </tbody>\n",
       "</table>\n",
       "<p>1 rows × 30 columns</p>\n",
       "</div>"
      ],
      "text/plain": [
       "attribute    bus control type  p_nom  p_nom_extendable  p_nom_min  p_nom_max  \\\n",
       "Generator                                                                      \n",
       "wind turbine   0      PQ         0.0              True        0.0        inf   \n",
       "\n",
       "attribute     p_min_pu  p_max_pu  p_set  ...  shut_down_cost  min_up_time  \\\n",
       "Generator                                ...                                \n",
       "wind turbine       0.0       1.0    0.0  ...             0.0            0   \n",
       "\n",
       "attribute    min_down_time  up_time_before  down_time_before  ramp_limit_up  \\\n",
       "Generator                                                                     \n",
       "wind turbine             0               1                 0            NaN   \n",
       "\n",
       "attribute     ramp_limit_down  ramp_limit_start_up  ramp_limit_shut_down  \\\n",
       "Generator                                                                  \n",
       "wind turbine              NaN                  1.0                   1.0   \n",
       "\n",
       "attribute     p_nom_opt  \n",
       "Generator                \n",
       "wind turbine        0.0  \n",
       "\n",
       "[1 rows x 30 columns]"
      ]
     },
     "execution_count": 4,
     "metadata": {},
     "output_type": "execute_result"
    }
   ],
   "source": [
    "network.generators\n"
   ]
  },
  {
   "cell_type": "code",
   "execution_count": 5,
   "metadata": {},
   "outputs": [
    {
     "name": "stderr",
     "output_type": "stream",
     "text": [
      "WARNING:pypsa.plot:Cartopy needs to be installed to use `geomap=True`.\n",
      "c:\\Users\\carlo\\anaconda3\\envs\\tesis1\\lib\\site-packages\\pypsa\\plot.py:217: UserWarning: Attempting to set identical bottom == top == 0.0 results in singular transformations; automatically expanding.\n",
      "  ax.axis(boundaries)\n"
     ]
    },
    {
     "data": {
      "text/plain": [
       "(<matplotlib.collections.PatchCollection at 0x26a942c35e0>,\n",
       " <matplotlib.collections.LineCollection at 0x26a942c3dc0>)"
      ]
     },
     "execution_count": 5,
     "metadata": {},
     "output_type": "execute_result"
    },
    {
     "data": {
      "image/png": "[encoded data removed]",
      "text/plain": [
       "<Figure size 432x288 with 1 Axes>"
      ]
     },
     "metadata": {
      "needs_background": "light"
     },
     "output_type": "display_data"
    }
   ],
   "source": [
    "network.plot()"
   ]
  },
  {
   "cell_type": "code",
   "execution_count": 8,
   "metadata": {},
   "outputs": [
    {
     "name": "stderr",
     "output_type": "stream",
     "text": [
      "WARNING:pypsa.components:Solving optimisation problem with pyomo.In PyPSA version 0.21 the default will change to ``n.lopf(pyomo=False)``.Explicitly set ``n.lopf(pyomo=True)`` to retain current behaviour.\n",
      "INFO:pypsa.opf:Performed preliminary steps\n",
      "INFO:pypsa.opf:Building pyomo model using `kirchhoff` formulation\n"
     ]
    },
    {
     "ename": "AttributeError",
     "evalue": "_index",
     "output_type": "error",
     "traceback": [
      "\u001b[1;31m---------------------------------------------------------------------------\u001b[0m",
      "\u001b[1;31mAttributeError\u001b[0m                            Traceback (most recent call last)",
      "\u001b[1;32mc:\\Users\\carlo\\OneDrive\\Documentos\\github\\tesis\\ejemplo1.ipynb Celda 6\u001b[0m in \u001b[0;36m<cell line: 1>\u001b[1;34m()\u001b[0m\n\u001b[1;32m----> <a href='vscode-notebook-cell:/c%3A/Users/carlo/OneDrive/Documentos/github/tesis/ejemplo1.ipynb#W5sZmlsZQ%3D%3D?line=0'>1</a>\u001b[0m network\u001b[39m.\u001b[39;49mlopf(network\u001b[39m.\u001b[39;49msnapshots, pyomo\u001b[39m=\u001b[39;49m\u001b[39mTrue\u001b[39;49;00m)\n\u001b[0;32m      <a href='vscode-notebook-cell:/c%3A/Users/carlo/OneDrive/Documentos/github/tesis/ejemplo1.ipynb#W5sZmlsZQ%3D%3D?line=1'>2</a>\u001b[0m network\u001b[39m.\u001b[39mobjective\n",
      "File \u001b[1;32mc:\\Users\\carlo\\anaconda3\\envs\\tesis1\\lib\\site-packages\\pypsa\\components.py:750\u001b[0m, in \u001b[0;36mNetwork.lopf\u001b[1;34m(self, snapshots, pyomo, solver_name, solver_options, solver_logfile, formulation, keep_files, extra_functionality, multi_investment_periods, **kwargs)\u001b[0m\n\u001b[0;32m    744\u001b[0m \u001b[39mif\u001b[39;00m pyomo:\n\u001b[0;32m    745\u001b[0m     logger\u001b[39m.\u001b[39mwarning(\n\u001b[0;32m    746\u001b[0m         \u001b[39m\"\u001b[39m\u001b[39mSolving optimisation problem with pyomo.\u001b[39m\u001b[39m\"\u001b[39m\n\u001b[0;32m    747\u001b[0m         \u001b[39m\"\u001b[39m\u001b[39mIn PyPSA version 0.21 the default will change to ``n.lopf(pyomo=False)``.\u001b[39m\u001b[39m\"\u001b[39m\n\u001b[0;32m    748\u001b[0m         \u001b[39m\"\u001b[39m\u001b[39mExplicitly set ``n.lopf(pyomo=True)`` to retain current behaviour.\u001b[39m\u001b[39m\"\u001b[39m\n\u001b[0;32m    749\u001b[0m     )\n\u001b[1;32m--> 750\u001b[0m     \u001b[39mreturn\u001b[39;00m network_lopf(\u001b[39mself\u001b[39m, \u001b[39m*\u001b[39m\u001b[39m*\u001b[39margs)\n\u001b[0;32m    751\u001b[0m \u001b[39melse\u001b[39;00m:\n\u001b[0;32m    752\u001b[0m     \u001b[39mreturn\u001b[39;00m network_lopf_lowmem(\u001b[39mself\u001b[39m, \u001b[39m*\u001b[39m\u001b[39m*\u001b[39margs)\n",
      "File \u001b[1;32mc:\\Users\\carlo\\anaconda3\\envs\\tesis1\\lib\\site-packages\\pypsa\\opf.py:2428\u001b[0m, in \u001b[0;36mnetwork_lopf\u001b[1;34m(network, snapshots, solver_name, solver_io, skip_pre, extra_functionality, multi_investment_periods, solver_logfile, solver_options, keep_files, formulation, ptdf_tolerance, free_memory, extra_postprocessing)\u001b[0m\n\u001b[0;32m   2422\u001b[0m     logger\u001b[39m.\u001b[39mwarning(\n\u001b[0;32m   2423\u001b[0m         \u001b[39m\"\u001b[39m\u001b[39mEncountered nonzero ramp limits for links. These are ignored when running the optimization with `pyomo=True`.\u001b[39m\u001b[39m\"\u001b[39m\n\u001b[0;32m   2424\u001b[0m     )\n\u001b[0;32m   2426\u001b[0m snapshots \u001b[39m=\u001b[39m _as_snapshots(network, snapshots)\n\u001b[1;32m-> 2428\u001b[0m network_lopf_build_model(\n\u001b[0;32m   2429\u001b[0m     network,\n\u001b[0;32m   2430\u001b[0m     snapshots,\n\u001b[0;32m   2431\u001b[0m     skip_pre\u001b[39m=\u001b[39;49mskip_pre,\n\u001b[0;32m   2432\u001b[0m     formulation\u001b[39m=\u001b[39;49mformulation,\n\u001b[0;32m   2433\u001b[0m     ptdf_tolerance\u001b[39m=\u001b[39;49mptdf_tolerance,\n\u001b[0;32m   2434\u001b[0m )\n\u001b[0;32m   2436\u001b[0m \u001b[39mif\u001b[39;00m extra_functionality \u001b[39mis\u001b[39;00m \u001b[39mnot\u001b[39;00m \u001b[39mNone\u001b[39;00m:\n\u001b[0;32m   2437\u001b[0m     extra_functionality(network, snapshots)\n",
      "File \u001b[1;32mc:\\Users\\carlo\\anaconda3\\envs\\tesis1\\lib\\site-packages\\pypsa\\opf.py:2195\u001b[0m, in \u001b[0;36mnetwork_lopf_build_model\u001b[1;34m(network, snapshots, skip_pre, formulation, ptdf_tolerance)\u001b[0m\n\u001b[0;32m   2192\u001b[0m \u001b[39melif\u001b[39;00m formulation \u001b[39min\u001b[39;00m [\u001b[39m\"\u001b[39m\u001b[39mptdf\u001b[39m\u001b[39m\"\u001b[39m, \u001b[39m\"\u001b[39m\u001b[39mcycles\u001b[39m\u001b[39m\"\u001b[39m]:\n\u001b[0;32m   2193\u001b[0m     define_sub_network_balance_constraints(network, snapshots)\n\u001b[1;32m-> 2195\u001b[0m define_global_constraints(network, snapshots)\n\u001b[0;32m   2197\u001b[0m define_linear_objective(network, snapshots)\n\u001b[0;32m   2199\u001b[0m \u001b[39m# tidy up auxilliary expressions\u001b[39;00m\n",
      "File \u001b[1;32mc:\\Users\\carlo\\anaconda3\\envs\\tesis1\\lib\\site-packages\\pypsa\\opf.py:1737\u001b[0m, in \u001b[0;36mdefine_global_constraints\u001b[1;34m(network, snapshots)\u001b[0m\n\u001b[0;32m   1730\u001b[0m             c\u001b[39m.\u001b[39mlhs\u001b[39m.\u001b[39mconstant \u001b[39m+\u001b[39m\u001b[39m=\u001b[39m \u001b[39msum\u001b[39m(\n\u001b[0;32m   1731\u001b[0m                 attribute \u001b[39m*\u001b[39m network\u001b[39m.\u001b[39mstores\u001b[39m.\u001b[39mat[store, \u001b[39m\"\u001b[39m\u001b[39me_initial\u001b[39m\u001b[39m\"\u001b[39m]\n\u001b[0;32m   1732\u001b[0m                 \u001b[39mfor\u001b[39;00m store \u001b[39min\u001b[39;00m stores\n\u001b[0;32m   1733\u001b[0m             )\n\u001b[0;32m   1735\u001b[0m         global_constraints[gc] \u001b[39m=\u001b[39m c\n\u001b[1;32m-> 1737\u001b[0m l_constraint(\n\u001b[0;32m   1738\u001b[0m     network\u001b[39m.\u001b[39;49mmodel,\n\u001b[0;32m   1739\u001b[0m     \u001b[39m\"\u001b[39;49m\u001b[39mglobal_constraints\u001b[39;49m\u001b[39m\"\u001b[39;49m,\n\u001b[0;32m   1740\u001b[0m     global_constraints,\n\u001b[0;32m   1741\u001b[0m     \u001b[39mlist\u001b[39;49m(network\u001b[39m.\u001b[39;49mglobal_constraints\u001b[39m.\u001b[39;49mindex),\n\u001b[0;32m   1742\u001b[0m )\n",
      "File \u001b[1;32mc:\\Users\\carlo\\anaconda3\\envs\\tesis1\\lib\\site-packages\\pypsa\\opt.py:219\u001b[0m, in \u001b[0;36ml_constraint\u001b[1;34m(model, name, constraints, *args)\u001b[0m\n\u001b[0;32m    214\u001b[0m \u001b[39melse\u001b[39;00m:\n\u001b[0;32m    215\u001b[0m     \u001b[39mraise\u001b[39;00m \u001b[39mKeyError\u001b[39;00m(\n\u001b[0;32m    216\u001b[0m         \u001b[39m'\u001b[39m\u001b[39m`sense` must be one of \u001b[39m\u001b[39m\"\u001b[39m\u001b[39m==\u001b[39m\u001b[39m\"\u001b[39m\u001b[39m,\u001b[39m\u001b[39m\"\u001b[39m\u001b[39m<=\u001b[39m\u001b[39m\"\u001b[39m\u001b[39m,\u001b[39m\u001b[39m\"\u001b[39m\u001b[39m>=\u001b[39m\u001b[39m\"\u001b[39m\u001b[39m,\u001b[39m\u001b[39m\"\u001b[39m\u001b[39m><\u001b[39m\u001b[39m\"\u001b[39m\u001b[39m; got: \u001b[39m\u001b[39m{}\u001b[39;00m\u001b[39m'\u001b[39m\u001b[39m.\u001b[39mformat(sense)\n\u001b[0;32m    217\u001b[0m     )\n\u001b[1;32m--> 219\u001b[0m v\u001b[39m.\u001b[39m_data[i] \u001b[39m=\u001b[39m _GeneralConstraintData(constr_expr, v)\n",
      "File \u001b[1;32mc:\\Users\\carlo\\anaconda3\\envs\\tesis1\\lib\\site-packages\\pyomo\\core\\base\\constraint.py:299\u001b[0m, in \u001b[0;36m_GeneralConstraintData.__init__\u001b[1;34m(self, expr, component)\u001b[0m\n\u001b[0;32m    297\u001b[0m \u001b[39mself\u001b[39m\u001b[39m.\u001b[39m_expr \u001b[39m=\u001b[39m \u001b[39mNone\u001b[39;00m\n\u001b[0;32m    298\u001b[0m \u001b[39mif\u001b[39;00m expr \u001b[39mis\u001b[39;00m \u001b[39mnot\u001b[39;00m \u001b[39mNone\u001b[39;00m:\n\u001b[1;32m--> 299\u001b[0m     \u001b[39mself\u001b[39;49m\u001b[39m.\u001b[39;49mset_value(expr)\n",
      "File \u001b[1;32mc:\\Users\\carlo\\anaconda3\\envs\\tesis1\\lib\\site-packages\\pyomo\\core\\base\\constraint.py:556\u001b[0m, in \u001b[0;36m_GeneralConstraintData.set_value\u001b[1;34m(self, expr)\u001b[0m\n\u001b[0;32m    541\u001b[0m     \u001b[39mraise\u001b[39;00m \u001b[39mValueError\u001b[39;00m(\n\u001b[0;32m    542\u001b[0m         \u001b[39m\"\u001b[39m\u001b[39mInvalid constraint expression. The constraint \u001b[39m\u001b[39m\"\u001b[39m\n\u001b[0;32m    543\u001b[0m         \u001b[39m\"\u001b[39m\u001b[39mexpression resolved to a trivial Boolean (\u001b[39m\u001b[39m%s\u001b[39;00m\u001b[39m) \u001b[39m\u001b[39m\"\u001b[39m\n\u001b[1;32m   (...)\u001b[0m\n\u001b[0;32m    547\u001b[0m         \u001b[39m%\u001b[39m (expr, \u001b[39m\"\u001b[39m\u001b[39mFeasible\u001b[39m\u001b[39m\"\u001b[39m \u001b[39mif\u001b[39;00m expr \u001b[39melse\u001b[39;00m \u001b[39m\"\u001b[39m\u001b[39mInfeasible\u001b[39m\u001b[39m\"\u001b[39m,\n\u001b[0;32m    548\u001b[0m            expr, \u001b[39mself\u001b[39m\u001b[39m.\u001b[39mname))\n\u001b[0;32m    550\u001b[0m \u001b[39melse\u001b[39;00m:\n\u001b[0;32m    551\u001b[0m     msg \u001b[39m=\u001b[39m (\u001b[39m\"\u001b[39m\u001b[39mConstraint \u001b[39m\u001b[39m'\u001b[39m\u001b[39m%s\u001b[39;00m\u001b[39m'\u001b[39m\u001b[39m does not have a proper \u001b[39m\u001b[39m\"\u001b[39m\n\u001b[0;32m    552\u001b[0m            \u001b[39m\"\u001b[39m\u001b[39mvalue. Found \u001b[39m\u001b[39m'\u001b[39m\u001b[39m%s\u001b[39;00m\u001b[39m'\u001b[39m\u001b[39m\\n\u001b[39;00m\u001b[39mExpecting a tuple or \u001b[39m\u001b[39m\"\u001b[39m\n\u001b[0;32m    553\u001b[0m            \u001b[39m\"\u001b[39m\u001b[39mequation. Examples:\u001b[39m\u001b[39m\"\u001b[39m\n\u001b[0;32m    554\u001b[0m            \u001b[39m\"\u001b[39m\u001b[39m\\n\u001b[39;00m\u001b[39m   sum(model.costs) == model.income\u001b[39m\u001b[39m\"\u001b[39m\n\u001b[0;32m    555\u001b[0m            \u001b[39m\"\u001b[39m\u001b[39m\\n\u001b[39;00m\u001b[39m   (0, model.price[item], 50)\u001b[39m\u001b[39m\"\u001b[39m\n\u001b[1;32m--> 556\u001b[0m            \u001b[39m%\u001b[39m (\u001b[39mself\u001b[39;49m\u001b[39m.\u001b[39;49mname, \u001b[39mstr\u001b[39m(expr)))\n\u001b[0;32m    557\u001b[0m     \u001b[39mraise\u001b[39;00m \u001b[39mValueError\u001b[39;00m(msg)\n\u001b[0;32m    558\u001b[0m \u001b[39m#\u001b[39;00m\n\u001b[0;32m    559\u001b[0m \u001b[39m# Normalize the incoming expressions, if we can\u001b[39;00m\n\u001b[0;32m    560\u001b[0m \u001b[39m#\u001b[39;00m\n",
      "File \u001b[1;32mc:\\Users\\carlo\\anaconda3\\envs\\tesis1\\lib\\site-packages\\pyomo\\core\\base\\component.py:316\u001b[0m, in \u001b[0;36m_ComponentBase.name\u001b[1;34m(self)\u001b[0m\n\u001b[0;32m    313\u001b[0m \u001b[39m@property\u001b[39m\n\u001b[0;32m    314\u001b[0m \u001b[39mdef\u001b[39;00m \u001b[39mname\u001b[39m(\u001b[39mself\u001b[39m):\n\u001b[0;32m    315\u001b[0m     \u001b[39m\"\"\"Get the fully qualifed component name.\"\"\"\u001b[39;00m\n\u001b[1;32m--> 316\u001b[0m     \u001b[39mreturn\u001b[39;00m \u001b[39mself\u001b[39;49m\u001b[39m.\u001b[39;49mgetname(fully_qualified\u001b[39m=\u001b[39;49m\u001b[39mTrue\u001b[39;49;00m)\n",
      "File \u001b[1;32mc:\\Users\\carlo\\anaconda3\\envs\\tesis1\\lib\\site-packages\\pyomo\\core\\base\\component.py:965\u001b[0m, in \u001b[0;36mComponentData.getname\u001b[1;34m(self, fully_qualified, name_buffer, relative_to)\u001b[0m\n\u001b[0;32m    959\u001b[0m         \u001b[39mreturn\u001b[39;00m name_buffer[\u001b[39mid\u001b[39m(\u001b[39mself\u001b[39m)]\n\u001b[0;32m    960\u001b[0m \u001b[39melse\u001b[39;00m:\n\u001b[0;32m    961\u001b[0m     \u001b[39m#\u001b[39;00m\n\u001b[0;32m    962\u001b[0m     \u001b[39m# No buffer, we can do what we are going to do all the time after we\u001b[39;00m\n\u001b[0;32m    963\u001b[0m     \u001b[39m# deprecate the buffer.\u001b[39;00m\n\u001b[0;32m    964\u001b[0m     \u001b[39m#\u001b[39;00m\n\u001b[1;32m--> 965\u001b[0m     \u001b[39mreturn\u001b[39;00m base \u001b[39m+\u001b[39m index_repr(\u001b[39mself\u001b[39;49m\u001b[39m.\u001b[39;49mindex())\n\u001b[0;32m    966\u001b[0m \u001b[39m#\u001b[39;00m\n\u001b[0;32m    967\u001b[0m \u001b[39mraise\u001b[39;00m \u001b[39mRuntimeError\u001b[39;00m(\u001b[39m\"\u001b[39m\u001b[39mFatal error: cannot find the component data in \u001b[39m\u001b[39m\"\u001b[39m\n\u001b[0;32m    968\u001b[0m                    \u001b[39m\"\u001b[39m\u001b[39mthe owning component\u001b[39m\u001b[39m'\u001b[39m\u001b[39ms _data dictionary.\u001b[39m\u001b[39m\"\u001b[39m)\n",
      "File \u001b[1;32mc:\\Users\\carlo\\anaconda3\\envs\\tesis1\\lib\\site-packages\\pyomo\\core\\base\\component.py:891\u001b[0m, in \u001b[0;36mComponentData.index\u001b[1;34m(self)\u001b[0m\n\u001b[0;32m    882\u001b[0m \u001b[39m\"\"\"\u001b[39;00m\n\u001b[0;32m    883\u001b[0m \u001b[39mReturns the index of this ComponentData instance relative\u001b[39;00m\n\u001b[0;32m    884\u001b[0m \u001b[39mto the parent component index set. None is returned if\u001b[39;00m\n\u001b[1;32m   (...)\u001b[0m\n\u001b[0;32m    887\u001b[0m \u001b[39mto the parent component's index set.\u001b[39;00m\n\u001b[0;32m    888\u001b[0m \u001b[39m\"\"\"\u001b[39;00m\n\u001b[0;32m    889\u001b[0m parent \u001b[39m=\u001b[39m \u001b[39mself\u001b[39m\u001b[39m.\u001b[39mparent_component()\n\u001b[0;32m    890\u001b[0m \u001b[39mif\u001b[39;00m ( parent \u001b[39mis\u001b[39;00m \u001b[39mnot\u001b[39;00m \u001b[39mNone\u001b[39;00m \u001b[39mand\u001b[39;00m\n\u001b[1;32m--> 891\u001b[0m      \u001b[39mself\u001b[39;49m\u001b[39m.\u001b[39;49m_index \u001b[39mis\u001b[39;00m \u001b[39mnot\u001b[39;00m NOTSET \u001b[39mand\u001b[39;00m\n\u001b[0;32m    892\u001b[0m      parent[\u001b[39mself\u001b[39m\u001b[39m.\u001b[39m_index] \u001b[39mis\u001b[39;00m \u001b[39mnot\u001b[39;00m \u001b[39mself\u001b[39m ):\n\u001b[0;32m    893\u001b[0m     \u001b[39m# This error message is a bit goofy, but we can't call self.name\u001b[39;00m\n\u001b[0;32m    894\u001b[0m     \u001b[39m# here--it's an infinite loop!\u001b[39;00m\n\u001b[0;32m    895\u001b[0m     \u001b[39mraise\u001b[39;00m DeveloperError(\n\u001b[0;32m    896\u001b[0m         \u001b[39m\"\u001b[39m\u001b[39mThe \u001b[39m\u001b[39m'\u001b[39m\u001b[39m_data\u001b[39m\u001b[39m'\u001b[39m\u001b[39m dictionary and \u001b[39m\u001b[39m'\u001b[39m\u001b[39m_index\u001b[39m\u001b[39m'\u001b[39m\u001b[39m attribute are out of \u001b[39m\u001b[39m\"\u001b[39m\n\u001b[0;32m    897\u001b[0m         \u001b[39m\"\u001b[39m\u001b[39msync for indexed \u001b[39m\u001b[39m%s\u001b[39;00m\u001b[39m \u001b[39m\u001b[39m'\u001b[39m\u001b[39m%s\u001b[39;00m\u001b[39m'\u001b[39m\u001b[39m: The \u001b[39m\u001b[39m%s\u001b[39;00m\u001b[39m entry in the \u001b[39m\u001b[39m'\u001b[39m\u001b[39m_data\u001b[39m\u001b[39m'\u001b[39m\u001b[39m \u001b[39m\u001b[39m\"\u001b[39m\n\u001b[0;32m    898\u001b[0m         \u001b[39m\"\u001b[39m\u001b[39mdictionary does not map back to this component data object.\u001b[39m\u001b[39m\"\u001b[39m\n\u001b[0;32m    899\u001b[0m         \u001b[39m%\u001b[39m (parent\u001b[39m.\u001b[39mctype\u001b[39m.\u001b[39m\u001b[39m__name__\u001b[39m, parent\u001b[39m.\u001b[39mname, \u001b[39mself\u001b[39m\u001b[39m.\u001b[39m_index))\n\u001b[0;32m    900\u001b[0m \u001b[39mreturn\u001b[39;00m \u001b[39mself\u001b[39m\u001b[39m.\u001b[39m_index\n",
      "\u001b[1;31mAttributeError\u001b[0m: _index"
     ]
    }
   ],
   "source": [
    "\n",
    "network.lopf(network.snapshots, pyomo=True)\n",
    "network.objective"
   ]
  },
  {
   "cell_type": "code",
   "execution_count": 9,
   "metadata": {},
   "outputs": [
    {
     "data": {
      "text/html": [
       "<div>\n",
       "<style scoped>\n",
       "    .dataframe tbody tr th:only-of-type {\n",
       "        vertical-align: middle;\n",
       "    }\n",
       "\n",
       "    .dataframe tbody tr th {\n",
       "        vertical-align: top;\n",
       "    }\n",
       "\n",
       "    .dataframe thead th {\n",
       "        text-align: right;\n",
       "    }\n",
       "</style>\n",
       "<table border=\"1\" class=\"dataframe\">\n",
       "  <thead>\n",
       "    <tr style=\"text-align: right;\">\n",
       "      <th>Load</th>\n",
       "    </tr>\n",
       "    <tr>\n",
       "      <th>snapshot</th>\n",
       "    </tr>\n",
       "  </thead>\n",
       "  <tbody>\n",
       "    <tr>\n",
       "      <th>2016-01-01 00:00:00</th>\n",
       "    </tr>\n",
       "    <tr>\n",
       "      <th>2016-01-01 01:00:00</th>\n",
       "    </tr>\n",
       "    <tr>\n",
       "      <th>2016-01-01 02:00:00</th>\n",
       "    </tr>\n",
       "    <tr>\n",
       "      <th>2016-01-01 03:00:00</th>\n",
       "    </tr>\n",
       "  </tbody>\n",
       "</table>\n",
       "</div>"
      ],
      "text/plain": [
       "Empty DataFrame\n",
       "Columns: []\n",
       "Index: [2016-01-01 00:00:00, 2016-01-01 01:00:00, 2016-01-01 02:00:00, 2016-01-01 03:00:00]"
      ]
     },
     "execution_count": 9,
     "metadata": {},
     "output_type": "execute_result"
    }
   ],
   "source": [
    "network.loads_t.p"
   ]
  },
  {
   "cell_type": "code",
   "execution_count": 10,
   "metadata": {},
   "outputs": [
    {
     "data": {
      "text/plain": [
       "Link\n",
       "P2G          0.0\n",
       "generator    0.0\n",
       "Name: p_nom_opt, dtype: float64"
      ]
     },
     "execution_count": 10,
     "metadata": {},
     "output_type": "execute_result"
    }
   ],
   "source": [
    "network.links.p_nom_opt"
   ]
  },
  {
   "cell_type": "code",
   "execution_count": 11,
   "metadata": {},
   "outputs": [
    {
     "data": {
      "text/plain": [
       "attribute\n",
       "bus                     0 gas\n",
       "type                         \n",
       "carrier                   gas\n",
       "e_nom                     0.0\n",
       "e_nom_extendable         True\n",
       "e_nom_min                 0.0\n",
       "e_nom_max                 inf\n",
       "e_min_pu                  0.0\n",
       "e_max_pu                  1.0\n",
       "e_initial                 0.0\n",
       "e_initial_per_period    False\n",
       "e_cyclic                 True\n",
       "e_cyclic_per_period      True\n",
       "p_set                     0.0\n",
       "q_set                     0.0\n",
       "sign                      1.0\n",
       "marginal_cost             0.0\n",
       "capital_cost              0.0\n",
       "standing_loss             0.0\n",
       "build_year                  0\n",
       "lifetime                  inf\n",
       "e_nom_opt                 0.0\n",
       "Name: gas depot, dtype: object"
      ]
     },
     "execution_count": 11,
     "metadata": {},
     "output_type": "execute_result"
    }
   ],
   "source": [
    "network.stores.loc[\"gas depot\"]"
   ]
  },
  {
   "cell_type": "code",
   "execution_count": null,
   "metadata": {},
   "outputs": [],
   "source": []
  }
 ],
 "metadata": {
  "kernelspec": {
   "display_name": "Python 3.9.13 ('tesis1')",
   "language": "python",
   "name": "python3"
  },
  "language_info": {
   "codemirror_mode": {
    "name": "ipython",
    "version": 3
   },
   "file_extension": ".py",
   "mimetype": "text/x-python",
   "name": "python",
   "nbconvert_exporter": "python",
   "pygments_lexer": "ipython3",
   "version": "3.9.13"
  },
  "orig_nbformat": 4,
  "vscode": {
   "interpreter": {
    "hash": "19c2d8edea65b586e97a88f8d20f3b86048fecbce4b07fc0b6fa97cbfaa86a4d"
   }
  }
 },
 "nbformat": 4,
 "nbformat_minor": 2
}
