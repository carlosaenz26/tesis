{
 "cells": [
  {
   "cell_type": "code",
   "execution_count": 1,
   "metadata": {},
   "outputs": [],
   "source": [
    "import numpy as np\n",
    "import pandas as pd\n",
    "from gurobipy import *"
   ]
  },
  {
   "cell_type": "code",
   "execution_count": 40,
   "metadata": {},
   "outputs": [],
   "source": [
    "import gurobipy as gp"
   ]
  },
  {
   "cell_type": "code",
   "execution_count": 97,
   "metadata": {},
   "outputs": [],
   "source": [
    "periodo=[0,1,2,3,4]\n",
    "tipo=[0,1,2]\n",
    "\n",
    "ngent=[(t,p)for t in tipo for p in  periodo]\n",
    "output=[(t,p)for t in tipo for p in  periodo ]\n",
    "nstart=[(t,p)for t in tipo for p in  periodo ]"
   ]
  },
  {
   "cell_type": "code",
   "execution_count": 33,
   "metadata": {},
   "outputs": [],
   "source": [
    "#dispon={0:12,1:10,2:5}\n",
    "dispon=[12,10,5]\n",
    "#minoutP={0:850,1:1250,2:1500}\n",
    "minoutP=[850,1250,1500]\n",
    "#maxoutp={0:2000,1:1750,2:4000}\n",
    "maxoutp=[2000,1750,4000]\n",
    "#coston={0:1000,1:2600,2:3000}\n",
    "coston=[1000,2600,3000]\n",
    "#startcos={0:2000,1:1000,2:500}\n",
    "startcos=[2000,1000,500]\n",
    "demanda=[15000,30000,25000,40000,27000]\n",
    "#costabvmin=[0:2,1:1.3,2:3]\n",
    "ntypes = 3\n",
    "nperiods = 5\n",
    "maxstart0 = 5"
   ]
  },
  {
   "cell_type": "code",
   "execution_count": 34,
   "metadata": {},
   "outputs": [],
   "source": [
    "m1=Model(\"eje1Gp2\")\n"
   ]
  },
  {
   "cell_type": "code",
   "execution_count": 71,
   "metadata": {},
   "outputs": [],
   "source": [
    "gen= m1.addVars(ngent,vtype=GRB.INTEGER, name=\"gen\")\n",
    "out= m1.addVars(output,vtype=GRB.CONTINUOUS, name=\"out\")\n",
    "start= m1.addVars(nstart,vtype=GRB.INTEGER, name=\"start\") #cuantos gen empiezan\n"
   ]
  },
  {
   "cell_type": "code",
   "execution_count": 47,
   "metadata": {},
   "outputs": [],
   "source": [
    "on=gp.quicksum(coston[t]*gen[t,p] for t in tipo for p in  periodo)\n",
    "extra=gp.quicksum(coston[t]*(out[t,p]-demanda[p] ) for t in tipo for p in  periodo)\n",
    "startup=gp.quicksum(startcos[t]*start[t,p] for t in tipo for p in  periodo)"
   ]
  },
  {
   "cell_type": "code",
   "execution_count": 48,
   "metadata": {},
   "outputs": [],
   "source": [
    "m1.setObjective(on+extra+startup, GRB.MINIMIZE)"
   ]
  },
  {
   "cell_type": "code",
   "execution_count": null,
   "metadata": {},
   "outputs": [],
   "source": [
    "m1.addConstrs(gen[t,p]<=dispon[t] for t in tipo for p in  periodo)\n",
    "m1.addConstrs(quicksum(out[t,p]for t in tipo for p in  periodo)>=demanda[p] for p in  periodo)\n",
    "\n"
   ]
  },
  {
   "cell_type": "code",
   "execution_count": null,
   "metadata": {},
   "outputs": [],
   "source": [
    "m1.addConstrs(out[t,p]>=minoutP[t]*gen[t,p] for t in tipo for p in  periodo)\n",
    "m1.addConstrs(out[t,p]<=maxoutp[t]*gen[t,p] for t in tipo for p in  periodo)"
   ]
  },
  {
   "cell_type": "markdown",
   "metadata": {},
   "source": [
    "reserva"
   ]
  },
  {
   "cell_type": "code",
   "execution_count": 56,
   "metadata": {},
   "outputs": [],
   "source": [
    "startup0=m1.addConstrs(quicksum(maxoutp[t]*gen[t,p]for t in tipo for p in  periodo)>=1.15*demanda[p] for p in  periodo)"
   ]
  },
  {
   "cell_type": "code",
   "execution_count": 81,
   "metadata": {},
   "outputs": [],
   "source": [
    "startup1=m1.addConstrs((gen[t,p]<=gen[t,p]+start[t,p] for t in tipo for p in  periodo[1:]))"
   ]
  }
 ],
 "metadata": {
  "kernelspec": {
   "display_name": "Python 3.8.13 ('gurobi')",
   "language": "python",
   "name": "python3"
  },
  "language_info": {
   "codemirror_mode": {
    "name": "ipython",
    "version": 3
   },
   "file_extension": ".py",
   "mimetype": "text/x-python",
   "name": "python",
   "nbconvert_exporter": "python",
   "pygments_lexer": "ipython3",
   "version": "3.8.13"
  },
  "orig_nbformat": 4,
  "vscode": {
   "interpreter": {
    "hash": "03bbc52f8cfc3f4795b3cc046eb4ce8648711f2bcfc925e4f713cbd4fef920a7"
   }
  }
 },
 "nbformat": 4,
 "nbformat_minor": 2
}
