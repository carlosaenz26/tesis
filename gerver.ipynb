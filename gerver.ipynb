{
 "cells": [
  {
   "cell_type": "code",
   "execution_count": 2,
   "metadata": {},
   "outputs": [],
   "source": [
    "\n",
    "import numpy as np\n",
    "import networkx as nx"
   ]
  },
  {
   "cell_type": "code",
   "execution_count": 3,
   "metadata": {},
   "outputs": [],
   "source": [
    "G = nx.DiGraph()"
   ]
  },
  {
   "cell_type": "code",
   "execution_count": 53,
   "metadata": {},
   "outputs": [],
   "source": [
    "G = nx.DiGraph()\n",
    "G.add_node(0,name=\"slack\",smax=50,d=80)\n",
    "G.add_node(1,name=\"2\",smax=0,d=240)\n",
    "G.add_node(2,name=\"3\",smax=165,d=40)\n",
    "G.add_node(3,name=\"4\",smax=0,d=160)\n",
    "G.add_node(4,name=\"5\",smax=0,d=240)\n"
   ]
  },
  {
   "cell_type": "code",
   "execution_count": 54,
   "metadata": {},
   "outputs": [],
   "source": [
    "G.add_edge(0,1,y=1/(0.1+0.40j),dist=40, cap=100)\n",
    "G.add_edge(0,3,y=1/(0.15+0.60j),dist=60, cap=80)\n",
    "G.add_edge(0,4,y=1/(0.05+0.20j),dist=20, cap=100)\n",
    "G.add_edge(1,2,y=1/(0.05+0.20j),dist=20, cap=100)\n",
    "G.add_edge(1,3,y=1/(0.1+0.40j),dist=40, cap=100)\n",
    "G.add_edge(2,4,y=1/(0.05+0.20j),dist=20, cap=100)"
   ]
  },
  {
   "cell_type": "code",
   "execution_count": 51,
   "metadata": {},
   "outputs": [],
   "source": [
    "G.clear()"
   ]
  },
  {
   "cell_type": "code",
   "execution_count": 135,
   "metadata": {},
   "outputs": [
    {
     "data": {
      "image/png": "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",
      "text/plain": [
       "<Figure size 432x288 with 1 Axes>"
      ]
     },
     "metadata": {},
     "output_type": "display_data"
    }
   ],
   "source": [
    "nx.draw(G,with_labels=True,pos=nx.spectral_layout(G))"
   ]
  },
  {
   "cell_type": "code",
<<<<<<< HEAD
   "execution_count": 14,
   "metadata": {},
   "outputs": [
    {
     "data": {
      "text/plain": [
       "[(1, 2), (1, 4), (1, 5), (2, 3), (2, 4), (3, 5)]"
      ]
     },
     "execution_count": 14,
     "metadata": {},
     "output_type": "execute_result"
    }
   ],
   "source": [
    "list(G.nodes)\n",
    "list(G.edges)"
   ]
  },
  {
   "cell_type": "code",
   "execution_count": 9,
=======
   "execution_count": 56,
>>>>>>> 283112f3a184f2ee91a1bbe7ac467cd9b31c9762
   "metadata": {},
   "outputs": [
    {
     "name": "stdout",
     "output_type": "stream",
     "text": [
      "[[ 2.15686275-8.62745098j -0.58823529+2.35294118j  0.        +0.j\n",
      "  -0.39215686+1.56862745j -1.17647059+4.70588235j]\n",
      " [-0.58823529+2.35294118j  2.35294118-9.41176471j -1.17647059+4.70588235j\n",
      "  -0.58823529+2.35294118j  0.        +0.j        ]\n",
      " [ 0.        +0.j         -1.17647059+4.70588235j  2.35294118-9.41176471j\n",
      "   0.        +0.j         -1.17647059+4.70588235j]\n",
      " [-0.39215686+1.56862745j -0.58823529+2.35294118j  0.        +0.j\n",
      "   0.98039216-3.92156863j  0.        +0.j        ]\n",
      " [-1.17647059+4.70588235j  0.        +0.j         -1.17647059+4.70588235j\n",
      "   0.        +0.j          2.35294118-9.41176471j]]\n",
      "[ 4.41641339e+00 -6.11490025e-16  2.79743534e+00  1.96078431e+00\n",
      "  1.02144538e+00]\n"
     ]
    },
    {
     "name": "stderr",
     "output_type": "stream",
     "text": [
      "C:\\Users\\uer\\AppData\\Local\\Temp\\ipykernel_16300\\2963923999.py:1: FutureWarning: incidence_matrix will return a scipy.sparse array instead of a matrix in Networkx 3.0.\n",
      "  A = nx.incidence_matrix(G,oriented=True)\n"
     ]
    }
   ],
   "source": [
    "A = nx.incidence_matrix(G,oriented=True)\n",
    "Yp = np.diag([G.edges[k][\"y\"] for k in G.edges])# diagonal de la matrix de admitancia\n",
    "Ybus = A@Yp@A.T\n",
    "print(Ybus)\n",
    "print(np.linalg.eigvals(Ybus.real))"
   ]
  },
  {
   "cell_type": "code",
<<<<<<< HEAD
   "execution_count": 10,
   "metadata": {},
   "outputs": [
    {
     "ename": "NameError",
     "evalue": "name 'Ybus' is not defined",
     "output_type": "error",
     "traceback": [
      "\u001b[1;31m---------------------------------------------------------------------------\u001b[0m",
      "\u001b[1;31mNameError\u001b[0m                                 Traceback (most recent call last)",
      "\u001b[1;32mc:\\Users\\cs.saenz10\\Documents\\tesis\\gerver.ipynb Celda 7\u001b[0m in \u001b[0;36m<cell line: 2>\u001b[1;34m()\u001b[0m\n\u001b[0;32m      <a href='vscode-notebook-cell:/c%3A/Users/cs.saenz10/Documents/tesis/gerver.ipynb#W6sZmlsZQ%3D%3D?line=0'>1</a>\u001b[0m n \u001b[39m=\u001b[39m G\u001b[39m.\u001b[39mnumber_of_nodes()\n\u001b[1;32m----> <a href='vscode-notebook-cell:/c%3A/Users/cs.saenz10/Documents/tesis/gerver.ipynb#W6sZmlsZQ%3D%3D?line=1'>2</a>\u001b[0m YN0 \u001b[39m=\u001b[39m Ybus[\u001b[39m1\u001b[39m:n,\u001b[39m0\u001b[39m]\n\u001b[0;32m      <a href='vscode-notebook-cell:/c%3A/Users/cs.saenz10/Documents/tesis/gerver.ipynb#W6sZmlsZQ%3D%3D?line=2'>3</a>\u001b[0m YNN \u001b[39m=\u001b[39m Ybus[\u001b[39m1\u001b[39m:n,\u001b[39m1\u001b[39m:n]\n\u001b[0;32m      <a href='vscode-notebook-cell:/c%3A/Users/cs.saenz10/Documents/tesis/gerver.ipynb#W6sZmlsZQ%3D%3D?line=3'>4</a>\u001b[0m ZNN \u001b[39m=\u001b[39m np\u001b[39m.\u001b[39mlinalg\u001b[39m.\u001b[39minv(YNN)\n",
      "\u001b[1;31mNameError\u001b[0m: name 'Ybus' is not defined"
=======
   "execution_count": 58,
   "metadata": {},
   "outputs": [
    {
     "name": "stdout",
     "output_type": "stream",
     "text": [
      "[-0.58823529+2.35294118j  0.        +0.j         -0.39215686+1.56862745j\n",
      " -1.17647059+4.70588235j]\n",
      "[[ 2.35294118-9.41176471j -1.17647059+4.70588235j -0.58823529+2.35294118j\n",
      "   0.        +0.j        ]\n",
      " [-1.17647059+4.70588235j  2.35294118-9.41176471j  0.        +0.j\n",
      "  -1.17647059+4.70588235j]\n",
      " [-0.58823529+2.35294118j  0.        +0.j          0.98039216-3.92156863j\n",
      "   0.        +0.j        ]\n",
      " [ 0.        +0.j         -1.17647059+4.70588235j  0.        +0.j\n",
      "   2.35294118-9.41176471j]]\n"
>>>>>>> 283112f3a184f2ee91a1bbe7ac467cd9b31c9762
     ]
    }
   ],
   "source": [
    "n = G.number_of_nodes()\n",
<<<<<<< HEAD
    "YN0 = Ybus[1:n,0]\n",
    "YNN = Ybus[1:n,1:n]\n",
    "ZNN = np.linalg.inv(YNN)\n",
    "d = np.array([G.nodes[k][\"d\"] for k in G.nodes])\n",
=======
    "l=G.number_of_edges()\n",
    "YN0 = Ybus[1:n,0]\n",
    "YNN = Ybus[1:n,1:n]\n",
    "ZNN = np.linalg.inv(YNN)\n",
    "d = np.array([G.nodes[j][\"d\"] for j in G.nodes])\n",
>>>>>>> 283112f3a184f2ee91a1bbe7ac467cd9b31c9762
    "print(YN0)\n",
    "print(YNN)"
   ]
  },
  {
   "cell_type": "code",
<<<<<<< HEAD
   "execution_count": 11,
   "metadata": {},
   "outputs": [],
   "source": [
    "def LoadFlow(sN,dN):\n",
    "    v0 = 1+0j\n",
    "    vN = np.ones(n-1)*v0\n",
    "    for t in range(10):\n",
    "        vN = ZNN@(np.conj((sN-dN)/vN)-v0*YN0)\n",
    "        vT = np.hstack([v0,vN]);\n",
    "        sT = vT*np.conj(Ybus@vT)\n",
    "        err = np.linalg.norm(sT[1:n]-(sN-dN))\n",
    "    print(\"Load Flow, after 10 iterations the error is\",err)\n",
    "    return vT"
=======
   "execution_count": 121,
   "metadata": {},
   "outputs": [],
   "source": [
    "def LoadFlow1(G):\n",
    "\n",
    "    A = nx.incidence_matrix(G,oriented=True)\n",
    "    Yp = np.diag([G.edges[k][\"y\"] for k in G.edges])# diagonal de la matrix de admitancia\n",
    "    Ybus = A@Yp@A.T\n",
    "    n = G.number_of_nodes()\n",
    "    l=G.number_of_edges()\n",
    "    YN0 = Ybus[1:n,0]\n",
    "    YNN = Ybus[1:n,1:n]\n",
    "    ZNN = np.linalg.inv(YNN)\n",
    "    d = np.array([G.nodes[j][\"d\"] for j in G.nodes])\n",
    "    dN=d[1:n]\n",
    "    sN=np.zeros(n-1)\n",
    "    v0 = 1+0j # voltaje en el nodo slack\n",
    "    vN = np.ones(n-1)*v0\n",
    "    for t in range(10):\n",
    "\n",
    "        vN = ZNN@(np.conj((sN-dN)/vN)-v0*YN0)#fixedpoint \n",
    "        vT = np.hstack([v0,vN])\n",
    "        sT = vT*np.conj(Ybus@vT)\n",
    "        err = np.linalg.norm(sT[1:n]-(sN-dN))\n",
    "    \n",
    "\n",
    "    ST = vT*np.conj(Ybus@vT)\n",
    "    pL1 = sum(ST)\n",
    "    \n",
    "    for (k,m) in G.edges:\n",
    "        Sf1 = Ybus[k,m]*(vT[k]-vT[m])\n",
    "        print(\"flow\",(k,m),np.abs(Sf1))\n",
    "    print(\"Loss\",pL1)\n",
    "    print(\"Load Flow, after 10 iterations the error is\",err)\n",
    "    import pandas as pd\n",
    "    results = pd.DataFrame()\n",
    "    results[\"name\"] = [G.nodes[k][\"name\"] for k in G.nodes]\n",
    "    results[\"vpu\"] = np.abs(vT)\n",
    "    results[\"ang\"] = np.angle(vT)*180/np.pi\n",
    "    results[\"pnode\"] = np.round(ST.real,n)\n",
    "    results[\"qnode\"] = np.round(ST.imag,n)\n",
    "    display(results)\n",
    "    return vT,ST,Ybus\n",
    "\n"
>>>>>>> 283112f3a184f2ee91a1bbe7ac467cd9b31c9762
   ]
  },
  {
   "cell_type": "code",
<<<<<<< HEAD
   "execution_count": 12,
   "metadata": {},
   "outputs": [
    {
     "ename": "NameError",
     "evalue": "name 'd' is not defined",
     "output_type": "error",
     "traceback": [
      "\u001b[1;31m---------------------------------------------------------------------------\u001b[0m",
      "\u001b[1;31mNameError\u001b[0m                                 Traceback (most recent call last)",
      "\u001b[1;32mc:\\Users\\cs.saenz10\\Documents\\tesis\\gerver.ipynb Celda 9\u001b[0m in \u001b[0;36m<cell line: 1>\u001b[1;34m()\u001b[0m\n\u001b[1;32m----> <a href='vscode-notebook-cell:/c%3A/Users/cs.saenz10/Documents/tesis/gerver.ipynb#X11sZmlsZQ%3D%3D?line=0'>1</a>\u001b[0m VT \u001b[39m=\u001b[39m LoadFlow(np\u001b[39m.\u001b[39mzeros(n\u001b[39m-\u001b[39m\u001b[39m1\u001b[39m),d[\u001b[39m1\u001b[39m:n])\n\u001b[0;32m      <a href='vscode-notebook-cell:/c%3A/Users/cs.saenz10/Documents/tesis/gerver.ipynb#X11sZmlsZQ%3D%3D?line=1'>2</a>\u001b[0m ST \u001b[39m=\u001b[39m VT\u001b[39m*\u001b[39mnp\u001b[39m.\u001b[39mconj(Ybus\u001b[39m@VT\u001b[39m)\n\u001b[0;32m      <a href='vscode-notebook-cell:/c%3A/Users/cs.saenz10/Documents/tesis/gerver.ipynb#X11sZmlsZQ%3D%3D?line=2'>3</a>\u001b[0m pL \u001b[39m=\u001b[39m \u001b[39msum\u001b[39m(ST)\n",
      "\u001b[1;31mNameError\u001b[0m: name 'd' is not defined"
     ]
=======
   "execution_count": 86,
   "metadata": {},
   "outputs": [],
   "source": [
    "def LoadFlow(sN,dN):\n",
    "\n",
    "    v0 = 1+0j # voltaje en el nodo slack\n",
    "    vN = np.ones(n-1)*v0\n",
    "    for t in range(10):\n",
    "    #a=1\n",
    "    #while a>err:\n",
    "        vN = ZNN@(np.conj((sN-dN)/vN)-v0*YN0)#fixedpoint \n",
    "        vT = np.hstack([v0,vN]);\n",
    "        sT = vT*np.conj(Ybus@vT)\n",
    "        err = np.linalg.norm(sT[1:n]-(sN-dN))\n",
    "    print(\"Load Flow, after 10 iterations the error is\",err)\n",
    "    return vT\n"
   ]
  },
  {
   "cell_type": "code",
   "execution_count": 99,
   "metadata": {},
   "outputs": [
    {
     "name": "stdout",
     "output_type": "stream",
     "text": [
      "Load Flow, after 10 iterations the error is 379.3221650149573\n",
      "Loss (0.31261647422533145+1.2504658969013265j)\n",
      "flow (0, 1) 0.99517133497581\n",
      "flow (0, 3) 0.6645247856874726\n",
      "flow (0, 4) 1.6950134621850095\n",
      "flow (1, 2) 0.086182408494983\n",
      "flow (1, 3) 0.029969110730732933\n",
      "flow (2, 4) 0.2540149611621822\n"
     ]
    },
    {
     "data": {
      "text/html": [
       "<div>\n",
       "<style scoped>\n",
       "    .dataframe tbody tr th:only-of-type {\n",
       "        vertical-align: middle;\n",
       "    }\n",
       "\n",
       "    .dataframe tbody tr th {\n",
       "        vertical-align: top;\n",
       "    }\n",
       "\n",
       "    .dataframe thead th {\n",
       "        text-align: right;\n",
       "    }\n",
       "</style>\n",
       "<table border=\"1\" class=\"dataframe\">\n",
       "  <thead>\n",
       "    <tr style=\"text-align: right;\">\n",
       "      <th></th>\n",
       "      <th>name</th>\n",
       "      <th>vpu</th>\n",
       "      <th>ang</th>\n",
       "      <th>pnode</th>\n",
       "      <th>qnode</th>\n",
       "    </tr>\n",
       "  </thead>\n",
       "  <tbody>\n",
       "    <tr>\n",
       "      <th>0</th>\n",
       "      <td>slack</td>\n",
       "      <td>1.000000</td>\n",
       "      <td>0.000000</td>\n",
       "      <td>-3.17658</td>\n",
       "      <td>1.06791</td>\n",
       "    </tr>\n",
       "    <tr>\n",
       "      <th>1</th>\n",
       "      <td>2</td>\n",
       "      <td>1.062973</td>\n",
       "      <td>22.680218</td>\n",
       "      <td>1.10357</td>\n",
       "      <td>0.15519</td>\n",
       "    </tr>\n",
       "    <tr>\n",
       "      <th>2</th>\n",
       "      <td>3</td>\n",
       "      <td>1.046147</td>\n",
       "      <td>22.370257</td>\n",
       "      <td>0.20130</td>\n",
       "      <td>0.01357</td>\n",
       "    </tr>\n",
       "    <tr>\n",
       "      <th>3</th>\n",
       "      <td>4</td>\n",
       "      <td>1.074747</td>\n",
       "      <td>22.479226</td>\n",
       "      <td>0.70614</td>\n",
       "      <td>0.12511</td>\n",
       "    </tr>\n",
       "    <tr>\n",
       "      <th>4</th>\n",
       "      <td>5</td>\n",
       "      <td>1.018054</td>\n",
       "      <td>19.916512</td>\n",
       "      <td>1.47819</td>\n",
       "      <td>-0.11132</td>\n",
       "    </tr>\n",
       "  </tbody>\n",
       "</table>\n",
       "</div>"
      ],
      "text/plain": [
       "    name       vpu        ang    pnode    qnode\n",
       "0  slack  1.000000   0.000000 -3.17658  1.06791\n",
       "1      2  1.062973  22.680218  1.10357  0.15519\n",
       "2      3  1.046147  22.370257  0.20130  0.01357\n",
       "3      4  1.074747  22.479226  0.70614  0.12511\n",
       "4      5  1.018054  19.916512  1.47819 -0.11132"
      ]
     },
     "execution_count": 99,
     "metadata": {},
     "output_type": "execute_result"
>>>>>>> 283112f3a184f2ee91a1bbe7ac467cd9b31c9762
    }
   ],
   "source": [
    "VT = LoadFlow(np.zeros(n-1),d[1:n])\n",
    "ST = VT*np.conj(Ybus@VT)\n",
    "pL = sum(ST)\n",
    "print(\"Loss\",pL)\n",
<<<<<<< HEAD
    "for (k,m) in G.edges:\n",
    "    Sf = Ybus[k,m]*(VT[k]-VT[m])\n",
    "    print(\"flow\",(k,m),np.abs(Sf))"
=======
    "\n",
    "for (k,m) in G.edges:\n",
    "    \n",
    "    Sf = Ybus[k,m]*(VT[k]-VT[m])\n",
    "    print(\"flow\",(k,m),np.abs(Sf))\n",
    "    \n",
    "import pandas as pd\n",
    "results = pd.DataFrame()\n",
    "results[\"name\"] = [G.nodes[k][\"name\"] for k in G.nodes]\n",
    "results[\"vpu\"] = np.abs(VT)\n",
    "results[\"ang\"] = np.angle(VT)*180/np.pi\n",
    "results[\"pnode\"] = np.round(ST.real,n)\n",
    "results[\"qnode\"] = np.round(ST.imag,n)\n",
    "results.head(n)\n"
   ]
  },
  {
   "cell_type": "code",
   "execution_count": null,
   "metadata": {},
   "outputs": [],
   "source": [
    "import cvxpy as cvx\n",
    "smax = np.array([G.nodes[k][\"smax\"] for k in G.nodes])\n",
    "d = np.array([G.nodes[k][\"d\"] for k in G.nodes])\n",
    "v = cvx.Variable(n,complex=True)\n",
    "s = cvx.Variable(n,complex=True)\n",
    "W = cvx.Variable((n,n),complex=True)#?\n",
    "obj = cvx.Minimize(cvx.quad_form(cvx.real(v),Ybus.real)+cvx.quad_form(cvx.imag(v),Ybus.real))\n",
    "res = [v[0] == 1.0]\n",
    "M = Ybus@W\n",
    "for k in G.nodes:\n",
    "    res += [cvx.conj(s[k]-d[k]) == M[k,k]]\n",
    "    res += [cvx.abs(v[k]-1) <= 0.05]\n",
    "    res += [cvx.abs(s[k]) <= smax[k]]\n",
    "    for m in G.nodes:\n",
    "        res += [W[m,k] == cvx.conj(v[k])+v[m]-1]\n",
    "#for (k,m) in G.edges:\n",
    "    #res += [cvx.abs(Ybus[k,m]*(v[k]-v[m])) <= G.edges[(k,m)][\"thlim\"]] restriccion del limite termico \n",
    "OPF = cvx.Problem(obj,res)\n",
    "#OPF.solve(\"GUROBI\")\n",
    "OPF.solve()\n",
    "print(\"pL\",obj.value,OPF.status)"
   ]
  },
  {
   "cell_type": "code",
   "execution_count": null,
   "metadata": {},
   "outputs": [],
   "source": [
    "VT = LoadFlow(s.value[1:n],d[1:n])\n",
    "ST = VT*np.conj(Ybus@VT)\n",
    "pL = sum(ST)\n",
    "print(\"Loss\",pL)"
   ]
  },
  {
   "cell_type": "code",
   "execution_count": 92,
   "metadata": {},
   "outputs": [],
   "source": [
    "def LinearOPF(u):\n",
    "    v = cvx.Variable(n,complex=True)\n",
    "    s = cvx.Variable(n,complex=True)\n",
    "    W = cvx.Variable((n,n),complex=True)\n",
    "    obj = cvx.Minimize(cvx.quad_form(cvx.real(v),Ybus.real)+\n",
    "    cvx.quad_form(cvx.imag(v),Ybus.real))\n",
    "    M = Ybus@W\n",
    "    res = [v[0] == 1.0]\n",
    "    for k in range(n):\n",
    "        res += [cvx.conj(s[k]-d[k]) == M[k,k]]\n",
    "        res += [cvx.abs(s[k]) <= smax[k]]\n",
    "        for m in range(n):\n",
    "            res += [W[m,k] == cvx.conj(v[k])*u[m]+\n",
    "            np.conj(u[k])*v[m]\n",
    "            -np.conj(u[k])*u[m]]\n",
    "    OPF = cvx.Problem(obj,res)\n",
    "    OPF.solve()\n",
    "    print(\"pL\",obj.value,OPF.status)\n",
    "    return s.value"
   ]
  },
  {
   "cell_type": "code",
   "execution_count": 93,
   "metadata": {},
   "outputs": [
    {
     "name": "stdout",
     "output_type": "stream",
     "text": [
      "pL None infeasible\n"
     ]
    },
    {
     "ename": "TypeError",
     "evalue": "'NoneType' object is not subscriptable",
     "output_type": "error",
     "traceback": [
      "\u001b[1;31m---------------------------------------------------------------------------\u001b[0m",
      "\u001b[1;31mTypeError\u001b[0m                                 Traceback (most recent call last)",
      "\u001b[1;32mc:\\Users\\uer\\Documents\\GitHub\\tesis\\tesis\\gerver.ipynb Celda 14\u001b[0m in \u001b[0;36m<cell line: 2>\u001b[1;34m()\u001b[0m\n\u001b[0;32m      <a href='vscode-notebook-cell:/c%3A/Users/uer/Documents/GitHub/tesis/tesis/gerver.ipynb#X33sZmlsZQ%3D%3D?line=1'>2</a>\u001b[0m \u001b[39mfor\u001b[39;00m t \u001b[39min\u001b[39;00m \u001b[39mrange\u001b[39m(\u001b[39m3\u001b[39m):\n\u001b[0;32m      <a href='vscode-notebook-cell:/c%3A/Users/uer/Documents/GitHub/tesis/tesis/gerver.ipynb#X33sZmlsZQ%3D%3D?line=2'>3</a>\u001b[0m     ST \u001b[39m=\u001b[39m LinearOPF(VT)\n\u001b[1;32m----> <a href='vscode-notebook-cell:/c%3A/Users/uer/Documents/GitHub/tesis/tesis/gerver.ipynb#X33sZmlsZQ%3D%3D?line=3'>4</a>\u001b[0m     VT \u001b[39m=\u001b[39m LoadFlow(ST[\u001b[39m1\u001b[39;49m:n],d[\u001b[39m1\u001b[39m:n])\n\u001b[0;32m      <a href='vscode-notebook-cell:/c%3A/Users/uer/Documents/GitHub/tesis/tesis/gerver.ipynb#X33sZmlsZQ%3D%3D?line=4'>5</a>\u001b[0m     \u001b[39mprint\u001b[39m(\u001b[39m\"\u001b[39m\u001b[39mLoss\u001b[39m\u001b[39m\"\u001b[39m,\u001b[39msum\u001b[39m(VT\u001b[39m*\u001b[39mnp\u001b[39m.\u001b[39mconj(Ybus\u001b[39m@VT\u001b[39m)))\n",
      "\u001b[1;31mTypeError\u001b[0m: 'NoneType' object is not subscriptable"
     ]
    }
   ],
   "source": [
    "VT = np.ones(n)*(1.0+0.0j)\n",
    "for t in range(3):\n",
    "    ST = LinearOPF(VT)\n",
    "    VT = LoadFlow(ST[1:n],d[1:n])\n",
    "    print(\"Loss\",sum(VT*np.conj(Ybus@VT)))"
   ]
  },
  {
   "cell_type": "markdown",
   "metadata": {},
   "source": [
    "# GARVER MODIFICADO"
   ]
  },
  {
   "cell_type": "code",
   "execution_count": 94,
   "metadata": {},
   "outputs": [],
   "source": [
    "G1 = nx.DiGraph()\n",
    "G1.add_node(0,name=\"slack\",smax=50,d=80)\n",
    "G1.add_node(1,name=\"2\",smax=0,d=240)\n",
    "G1.add_node(2,name=\"3\",smax=165,d=40)\n",
    "G1.add_node(3,name=\"4\",smax=0,d=160)\n",
    "G1.add_node(4,name=\"5\",smax=0,d=240)\n",
    "G1.add_node(5,name=\"6\",smax=545,d=0)\n",
    "\n",
    "G1.add_edge(0,1,y=1/(0.1+0.40j),dist=40, cap=100)\n",
    "G1.add_edge(0,3,y=1/(0.15+0.60j),dist=60, cap=80)\n",
    "G1.add_edge(0,4,y=1/(0.05+0.20j),dist=20, cap=100)\n",
    "G1.add_edge(1,2,y=1/(0.05+0.20j),dist=20, cap=100)\n",
    "G1.add_edge(1,3,y=1/(0.1+0.40j),dist=40, cap=100)\n",
    "G1.add_edge(2,4,y=1/(0.05+0.20j),dist=20, cap=100)\n",
    "\n",
    "G1.add_edge(2,5,y=1/(0.12+0.48j),dist=48, cap=100)\n",
    "\n",
    "G1.add_edge(3,4,y=1/(0.16+0.63j),dist=63, cap=75)\n",
    "G1.add_edge(3,5,y=1/(0.08+0.30j),dist=30, cap=100)\n",
    "G1.add_edge(4,5,y=1/(0.15+0.61j),dist=61, cap=78)\n"
   ]
  },
  {
   "cell_type": "code",
   "execution_count": 96,
   "metadata": {},
   "outputs": [
    {
     "data": {
      "image/png": "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",
      "text/plain": [
       "<Figure size 432x288 with 1 Axes>"
      ]
     },
     "metadata": {},
     "output_type": "display_data"
    }
   ],
   "source": [
    "nx.draw(G1,with_labels=True,pos=nx.spectral_layout(G1))"
   ]
  },
  {
   "cell_type": "code",
   "execution_count": 114,
   "metadata": {},
   "outputs": [
    {
     "name": "stdout",
     "output_type": "stream",
     "text": [
      "flow (0, 1) 0.9863516609955169\n",
      "flow (0, 3) 0.6436913992728918\n",
      "flow (0, 4) 1.6991155251105836\n",
      "flow (1, 2) 0.058265382601734646\n",
      "flow (1, 3) 0.022029901915304677\n",
      "flow (2, 4) 0.22299985787468787\n",
      "flow (2, 5) 0.01936736511383546\n",
      "flow (3, 4) 0.07456102325000996\n",
      "flow (3, 5) 0.03882562020412156\n",
      "flow (4, 5) 0.05800382465951153\n",
      "Loss (0.30805391977594687+1.2321635815029661j)\n",
      "Load Flow, after 10 iterations the error is 379.29334611651785\n"
     ]
    },
    {
     "name": "stderr",
     "output_type": "stream",
     "text": [
      "C:\\Users\\uer\\AppData\\Local\\Temp\\ipykernel_16300\\427216990.py:3: FutureWarning: incidence_matrix will return a scipy.sparse array instead of a matrix in Networkx 3.0.\n",
      "  A = nx.incidence_matrix(G,oriented=True)\n"
     ]
    },
    {
     "data": {
      "text/html": [
       "<div>\n",
       "<style scoped>\n",
       "    .dataframe tbody tr th:only-of-type {\n",
       "        vertical-align: middle;\n",
       "    }\n",
       "\n",
       "    .dataframe tbody tr th {\n",
       "        vertical-align: top;\n",
       "    }\n",
       "\n",
       "    .dataframe thead th {\n",
       "        text-align: right;\n",
       "    }\n",
       "</style>\n",
       "<table border=\"1\" class=\"dataframe\">\n",
       "  <thead>\n",
       "    <tr style=\"text-align: right;\">\n",
       "      <th></th>\n",
       "      <th>name</th>\n",
       "      <th>vpu</th>\n",
       "      <th>ang</th>\n",
       "      <th>pnode</th>\n",
       "      <th>qnode</th>\n",
       "    </tr>\n",
       "  </thead>\n",
       "  <tbody>\n",
       "    <tr>\n",
       "      <th>0</th>\n",
       "      <td>slack</td>\n",
       "      <td>1.000000</td>\n",
       "      <td>0.000000</td>\n",
       "      <td>-3.153007</td>\n",
       "      <td>1.067688</td>\n",
       "    </tr>\n",
       "    <tr>\n",
       "      <th>1</th>\n",
       "      <td>2</td>\n",
       "      <td>1.054567</td>\n",
       "      <td>22.632047</td>\n",
       "      <td>1.110621</td>\n",
       "      <td>0.128391</td>\n",
       "    </tr>\n",
       "    <tr>\n",
       "      <th>2</th>\n",
       "      <td>3</td>\n",
       "      <td>1.046164</td>\n",
       "      <td>22.163875</td>\n",
       "      <td>0.196974</td>\n",
       "      <td>0.013069</td>\n",
       "    </tr>\n",
       "    <tr>\n",
       "      <th>3</th>\n",
       "      <td>4</td>\n",
       "      <td>1.049026</td>\n",
       "      <td>22.239970</td>\n",
       "      <td>0.768012</td>\n",
       "      <td>0.065941</td>\n",
       "    </tr>\n",
       "    <tr>\n",
       "      <th>4</th>\n",
       "      <td>5</td>\n",
       "      <td>1.028059</td>\n",
       "      <td>19.829088</td>\n",
       "      <td>1.385454</td>\n",
       "      <td>-0.042925</td>\n",
       "    </tr>\n",
       "    <tr>\n",
       "      <th>5</th>\n",
       "      <td>6</td>\n",
       "      <td>1.043029</td>\n",
       "      <td>21.667203</td>\n",
       "      <td>0.000000</td>\n",
       "      <td>0.000000</td>\n",
       "    </tr>\n",
       "  </tbody>\n",
       "</table>\n",
       "</div>"
      ],
      "text/plain": [
       "    name       vpu        ang     pnode     qnode\n",
       "0  slack  1.000000   0.000000 -3.153007  1.067688\n",
       "1      2  1.054567  22.632047  1.110621  0.128391\n",
       "2      3  1.046164  22.163875  0.196974  0.013069\n",
       "3      4  1.049026  22.239970  0.768012  0.065941\n",
       "4      5  1.028059  19.829088  1.385454 -0.042925\n",
       "5      6  1.043029  21.667203  0.000000  0.000000"
      ]
     },
     "metadata": {},
     "output_type": "display_data"
    }
   ],
   "source": [
    "VT1,ST1 = LoadFlow1(G1)"
   ]
  },
  {
   "cell_type": "code",
   "execution_count": null,
   "metadata": {},
   "outputs": [],
   "source": [
    "def LinearOPF(u):\n",
    "    v = cvx.Variable(n,complex=True)\n",
    "    s = cvx.Variable(n,complex=True)\n",
    "    W = cvx.Variable((n,n),complex=True)\n",
    "    obj = cvx.Minimize(cvx.quad_form(cvx.real(v),Ybus.real)+\n",
    "    cvx.quad_form(cvx.imag(v),Ybus.real))\n",
    "    M = Ybus@W\n",
    "    res = [v[0] == 1.0]\n",
    "    for k in range(n):\n",
    "        res += [cvx.conj(s[k]-d[k]) == M[k,k]]\n",
    "        res += [cvx.abs(s[k]) <= smax[k]]\n",
    "        for m in range(n):\n",
    "            res += [W[m,k] == cvx.conj(v[k])*u[m]+\n",
    "            np.conj(u[k])*v[m]\n",
    "            -np.conj(u[k])*u[m]]\n",
    "    OPF = cvx.Problem(obj,res)\n",
    "    OPF.solve()\n",
    "    print(\"pL\",obj.value,OPF.status)\n",
    "    return s.value"
   ]
  },
  {
   "cell_type": "code",
   "execution_count": 115,
   "metadata": {},
   "outputs": [
    {
     "name": "stdout",
     "output_type": "stream",
     "text": [
      "pL None infeasible\n"
     ]
    }
   ],
   "source": [
    "\n",
    "LinearOPF(VT1)"
   ]
  },
  {
   "cell_type": "code",
   "execution_count": 129,
   "metadata": {},
   "outputs": [],
   "source": [
    "def opf(G):\n",
    "    VT1,ST1,Ybus = LoadFlow1(G)\n",
    "    \n",
    "    smax = np.array([G.nodes[k][\"smax\"] for k in G.nodes])\n",
    "    d = np.array([G.nodes[k][\"d\"] for k in G.nodes])\n",
    "    print(n)\n",
    "    v = cvx.Variable(n,complex=True)\n",
    "    s = cvx.Variable(n,complex=True)\n",
    "    W = cvx.Variable((n,n),complex=True)#?\n",
    "    obj = cvx.Minimize(cvx.quad_form(cvx.real(v),Ybus.real)+cvx.quad_form(cvx.imag(v),Ybus.real))\n",
    "    res = [v[0] == 1.0]\n",
    "    M = Ybus@W\n",
    "    for k in G.nodes:\n",
    "        res += [cvx.conj(s[k]-d[k]) == M[k,k]]\n",
    "        res += [cvx.abs(v[k]-1) <= 0.05]\n",
    "        res += [cvx.abs(s[k]) <= smax[k]]\n",
    "    for m in G.nodes:\n",
    "        res += [W[m,k] == cvx.conj(v[k])+v[m]-1]\n",
    "    OPF = cvx.Problem(obj,res)\n",
    "    OPF.solve(\"GUROBI\")\n",
    "    #OPF.solve()\n",
    "    print(\"pL\",obj.value,OPF.status)\n",
    "    return s.value"
   ]
  },
  {
   "cell_type": "code",
   "execution_count": 130,
   "metadata": {},
   "outputs": [
    {
     "name": "stdout",
     "output_type": "stream",
     "text": [
      "flow (0, 1) 0.9863516609955169\n",
      "flow (0, 3) 0.6436913992728918\n",
      "flow (0, 4) 1.6991155251105836\n",
      "flow (1, 2) 0.058265382601734646\n",
      "flow (1, 3) 0.022029901915304677\n",
      "flow (2, 4) 0.22299985787468787\n",
      "flow (2, 5) 0.01936736511383546\n",
      "flow (3, 4) 0.07456102325000996\n",
      "flow (3, 5) 0.03882562020412156\n",
      "flow (4, 5) 0.05800382465951153\n",
      "Loss (0.30805391977594687+1.2321635815029661j)\n",
      "Load Flow, after 10 iterations the error is 379.29334611651785\n"
     ]
    },
    {
     "name": "stderr",
     "output_type": "stream",
     "text": [
      "C:\\Users\\uer\\AppData\\Local\\Temp\\ipykernel_16300\\1446288634.py:3: FutureWarning: incidence_matrix will return a scipy.sparse array instead of a matrix in Networkx 3.0.\n",
      "  A = nx.incidence_matrix(G,oriented=True)\n"
     ]
    },
    {
     "data": {
      "text/html": [
       "<div>\n",
       "<style scoped>\n",
       "    .dataframe tbody tr th:only-of-type {\n",
       "        vertical-align: middle;\n",
       "    }\n",
       "\n",
       "    .dataframe tbody tr th {\n",
       "        vertical-align: top;\n",
       "    }\n",
       "\n",
       "    .dataframe thead th {\n",
       "        text-align: right;\n",
       "    }\n",
       "</style>\n",
       "<table border=\"1\" class=\"dataframe\">\n",
       "  <thead>\n",
       "    <tr style=\"text-align: right;\">\n",
       "      <th></th>\n",
       "      <th>name</th>\n",
       "      <th>vpu</th>\n",
       "      <th>ang</th>\n",
       "      <th>pnode</th>\n",
       "      <th>qnode</th>\n",
       "    </tr>\n",
       "  </thead>\n",
       "  <tbody>\n",
       "    <tr>\n",
       "      <th>0</th>\n",
       "      <td>slack</td>\n",
       "      <td>1.000000</td>\n",
       "      <td>0.000000</td>\n",
       "      <td>-3.153007</td>\n",
       "      <td>1.067688</td>\n",
       "    </tr>\n",
       "    <tr>\n",
       "      <th>1</th>\n",
       "      <td>2</td>\n",
       "      <td>1.054567</td>\n",
       "      <td>22.632047</td>\n",
       "      <td>1.110621</td>\n",
       "      <td>0.128391</td>\n",
       "    </tr>\n",
       "    <tr>\n",
       "      <th>2</th>\n",
       "      <td>3</td>\n",
       "      <td>1.046164</td>\n",
       "      <td>22.163875</td>\n",
       "      <td>0.196974</td>\n",
       "      <td>0.013069</td>\n",
       "    </tr>\n",
       "    <tr>\n",
       "      <th>3</th>\n",
       "      <td>4</td>\n",
       "      <td>1.049026</td>\n",
       "      <td>22.239970</td>\n",
       "      <td>0.768012</td>\n",
       "      <td>0.065941</td>\n",
       "    </tr>\n",
       "    <tr>\n",
       "      <th>4</th>\n",
       "      <td>5</td>\n",
       "      <td>1.028059</td>\n",
       "      <td>19.829088</td>\n",
       "      <td>1.385454</td>\n",
       "      <td>-0.042925</td>\n",
       "    </tr>\n",
       "    <tr>\n",
       "      <th>5</th>\n",
       "      <td>6</td>\n",
       "      <td>1.043029</td>\n",
       "      <td>21.667203</td>\n",
       "      <td>0.000000</td>\n",
       "      <td>0.000000</td>\n",
       "    </tr>\n",
       "  </tbody>\n",
       "</table>\n",
       "</div>"
      ],
      "text/plain": [
       "    name       vpu        ang     pnode     qnode\n",
       "0  slack  1.000000   0.000000 -3.153007  1.067688\n",
       "1      2  1.054567  22.632047  1.110621  0.128391\n",
       "2      3  1.046164  22.163875  0.196974  0.013069\n",
       "3      4  1.049026  22.239970  0.768012  0.065941\n",
       "4      5  1.028059  19.829088  1.385454 -0.042925\n",
       "5      6  1.043029  21.667203  0.000000  0.000000"
      ]
     },
     "metadata": {},
     "output_type": "display_data"
    },
    {
     "name": "stdout",
     "output_type": "stream",
     "text": [
      "5\n"
     ]
    },
    {
     "ename": "Exception",
     "evalue": "Invalid dimensions for arguments.",
     "output_type": "error",
     "traceback": [
      "\u001b[1;31m---------------------------------------------------------------------------\u001b[0m",
      "\u001b[1;31mException\u001b[0m                                 Traceback (most recent call last)",
      "\u001b[1;32mc:\\Users\\uer\\Documents\\GitHub\\tesis\\tesis\\gerver.ipynb Celda 23\u001b[0m in \u001b[0;36m<cell line: 1>\u001b[1;34m()\u001b[0m\n\u001b[1;32m----> <a href='vscode-notebook-cell:/c%3A/Users/uer/Documents/GitHub/tesis/tesis/gerver.ipynb#X44sZmlsZQ%3D%3D?line=0'>1</a>\u001b[0m opf(G1)\n",
      "\u001b[1;32mc:\\Users\\uer\\Documents\\GitHub\\tesis\\tesis\\gerver.ipynb Celda 23\u001b[0m in \u001b[0;36mopf\u001b[1;34m(G)\u001b[0m\n\u001b[0;32m      <a href='vscode-notebook-cell:/c%3A/Users/uer/Documents/GitHub/tesis/tesis/gerver.ipynb#X44sZmlsZQ%3D%3D?line=7'>8</a>\u001b[0m s \u001b[39m=\u001b[39m cvx\u001b[39m.\u001b[39mVariable(n,\u001b[39mcomplex\u001b[39m\u001b[39m=\u001b[39m\u001b[39mTrue\u001b[39;00m)\n\u001b[0;32m      <a href='vscode-notebook-cell:/c%3A/Users/uer/Documents/GitHub/tesis/tesis/gerver.ipynb#X44sZmlsZQ%3D%3D?line=8'>9</a>\u001b[0m W \u001b[39m=\u001b[39m cvx\u001b[39m.\u001b[39mVariable((n,n),\u001b[39mcomplex\u001b[39m\u001b[39m=\u001b[39m\u001b[39mTrue\u001b[39;00m)\u001b[39m#?\u001b[39;00m\n\u001b[1;32m---> <a href='vscode-notebook-cell:/c%3A/Users/uer/Documents/GitHub/tesis/tesis/gerver.ipynb#X44sZmlsZQ%3D%3D?line=9'>10</a>\u001b[0m obj \u001b[39m=\u001b[39m cvx\u001b[39m.\u001b[39mMinimize(cvx\u001b[39m.\u001b[39;49mquad_form(cvx\u001b[39m.\u001b[39;49mreal(v),Ybus\u001b[39m.\u001b[39;49mreal)\u001b[39m+\u001b[39mcvx\u001b[39m.\u001b[39mquad_form(cvx\u001b[39m.\u001b[39mimag(v),Ybus\u001b[39m.\u001b[39mreal))\n\u001b[0;32m     <a href='vscode-notebook-cell:/c%3A/Users/uer/Documents/GitHub/tesis/tesis/gerver.ipynb#X44sZmlsZQ%3D%3D?line=10'>11</a>\u001b[0m res \u001b[39m=\u001b[39m [v[\u001b[39m0\u001b[39m] \u001b[39m==\u001b[39m \u001b[39m1.0\u001b[39m]\n\u001b[0;32m     <a href='vscode-notebook-cell:/c%3A/Users/uer/Documents/GitHub/tesis/tesis/gerver.ipynb#X44sZmlsZQ%3D%3D?line=11'>12</a>\u001b[0m M \u001b[39m=\u001b[39m Ybus\u001b[39m@W\u001b[39m\n",
      "File \u001b[1;32mc:\\Users\\uer\\anaconda3\\envs\\gurobi\\lib\\site-packages\\cvxpy\\atoms\\quad_form.py:225\u001b[0m, in \u001b[0;36mquad_form\u001b[1;34m(x, P)\u001b[0m\n\u001b[0;32m    223\u001b[0m \u001b[39m# Check dimensions.\u001b[39;00m\n\u001b[0;32m    224\u001b[0m \u001b[39mif\u001b[39;00m \u001b[39mnot\u001b[39;00m P\u001b[39m.\u001b[39mndim \u001b[39m==\u001b[39m \u001b[39m2\u001b[39m \u001b[39mor\u001b[39;00m P\u001b[39m.\u001b[39mshape[\u001b[39m0\u001b[39m] \u001b[39m!=\u001b[39m P\u001b[39m.\u001b[39mshape[\u001b[39m1\u001b[39m] \u001b[39mor\u001b[39;00m \u001b[39mmax\u001b[39m(x\u001b[39m.\u001b[39mshape, (\u001b[39m1\u001b[39m,))[\u001b[39m0\u001b[39m] \u001b[39m!=\u001b[39m P\u001b[39m.\u001b[39mshape[\u001b[39m0\u001b[39m]:\n\u001b[1;32m--> 225\u001b[0m     \u001b[39mraise\u001b[39;00m \u001b[39mException\u001b[39;00m(\u001b[39m\"\u001b[39m\u001b[39mInvalid dimensions for arguments.\u001b[39m\u001b[39m\"\u001b[39m)\n\u001b[0;32m    226\u001b[0m \u001b[39mif\u001b[39;00m x\u001b[39m.\u001b[39mis_constant():\n\u001b[0;32m    227\u001b[0m     \u001b[39mreturn\u001b[39;00m x\u001b[39m.\u001b[39mH \u001b[39m@\u001b[39m P \u001b[39m@\u001b[39m x\n",
      "\u001b[1;31mException\u001b[0m: Invalid dimensions for arguments."
     ]
    }
   ],
   "source": [
    "opf(G1)"
   ]
  },
  {
   "cell_type": "code",
   "execution_count": null,
   "metadata": {},
   "outputs": [],
   "source": [
    "import cvxpy as cvx\n",
    "smax = np.array([G1.nodes[k][\"smax\"] for k in G1.nodes])\n",
    "d = np.array([G1.nodes[k][\"d\"] for k in G1.nodes])\n",
    "v = cvx.Variable(n1,complex=True)\n",
    "s = cvx.Variable(n1,complex=True)\n",
    "W = cvx.Variable((n1,n1),complex=True)#?\n",
    "obj = cvx.Minimize(cvx.quad_form(cvx.real(v),Ybus.real)+cvx.quad_form(cvx.imag(v),Ybus.real))\n",
    "res = [v[0] == 1.0]\n",
    "M = Ybus@W\n",
    "for k in G.nodes:\n",
    "    res += [cvx.conj(s[k]-d[k]) == M[k,k]]\n",
    "    res += [cvx.abs(v[k]-1) <= 0.05]\n",
    "    res += [cvx.abs(s[k]) <= smax[k]]\n",
    "    for m in G.nodes:\n",
    "        res += [W[m,k] == cvx.conj(v[k])+v[m]-1]\n",
    "#for (k,m) in G.edges:\n",
    "    #res += [cvx.abs(Ybus[k,m]*(v[k]-v[m])) <= G.edges[(k,m)][\"thlim\"]] restriccion del limite termico \n",
    "OPF = cvx.Problem(obj,res)\n",
    "#OPF.solve(\"GUROBI\")\n",
    "OPF.solve()\n",
    "print(\"pL\",obj.value,OPF.status)"
   ]
  },
  {
   "cell_type": "markdown",
   "metadata": {},
   "source": [
    "Despacho economico \n"
   ]
  },
  {
   "cell_type": "code",
   "execution_count": 180,
   "metadata": {},
   "outputs": [
    {
     "name": "stdout",
     "output_type": "stream",
     "text": [
      "[114.  76.]\n",
      "Incremental Cost: 288.5000000000009\n"
     ]
    },
    {
     "name": "stderr",
     "output_type": "stream",
     "text": [
      "c:\\Users\\uer\\anaconda3\\envs\\gurobi\\lib\\site-packages\\cvxpy\\expressions\\expression.py:593: UserWarning: \n",
      "This use of ``*`` has resulted in matrix multiplication.\n",
      "Using ``*`` for matrix multiplication has been deprecated since CVXPY 1.1.\n",
      "    Use ``*`` for matrix-scalar and vector-scalar multiplication.\n",
      "    Use ``@`` for matrix-matrix and matrix-vector multiplication.\n",
      "    Use ``multiply`` for elementwise multiplication.\n",
      "This code path has been hit 13 times so far.\n",
      "\n",
      "  warnings.warn(msg, UserWarning)\n"
     ]
    }
   ],
   "source": [
    "import numpy as np\n",
    "import cvxpy as cvx\n",
    "pmin = [0,0]\n",
    "pmax = [150,120]\n",
    "a = np.diag([2,3])# costo cuadratico\n",
    "b = [60.5,60.5] #costo marginal \n",
    "d = 190 #demanda \n",
    "p = cvx.Variable(2)\n",
    "obj = cvx.Minimize(1/2*cvx.quad_form(p,a)+b*p)#funcion obj\n",
    "res = [sum(p) >= d , p>=pmin, p<=pmax]\n",
    "Model = cvx.Problem(obj,res)\n",
    "Model.solve()\n",
    "print(p.value)\n",
    "print(\"Incremental Cost:\",res[0].dual_value)"
   ]
  },
  {
   "cell_type": "code",
   "execution_count": 183,
   "metadata": {},
   "outputs": [
    {
     "data": {
      "text/plain": [
       "Inequality(Constant(CONSTANT, NONNEGATIVE, ()))"
      ]
     },
     "execution_count": 183,
     "metadata": {},
     "output_type": "execute_result"
    }
   ],
   "source": [
    "res[0]"
   ]
  },
  {
   "cell_type": "code",
   "execution_count": 169,
   "metadata": {},
   "outputs": [],
   "source": [
    "\n"
   ]
  },
  {
   "cell_type": "code",
   "execution_count": 165,
   "metadata": {},
   "outputs": [
    {
     "data": {
      "text/plain": [
       "0"
      ]
     },
     "execution_count": 165,
     "metadata": {},
     "output_type": "execute_result"
    }
   ],
   "source": [
    "EqB[0]"
   ]
  },
  {
   "cell_type": "code",
   "execution_count": 184,
   "metadata": {},
   "outputs": [
    {
     "name": "stdout",
     "output_type": "stream",
     "text": [
      "Generation: [114.  76.]\n",
      "Flows: [ 31.  35.  28. -34.   5.  32.]\n",
      "Incremental Cost: 288.5000000000007\n",
      "Incremental Cost: 288.5000000000001\n"
     ]
    },
    {
     "name": "stderr",
     "output_type": "stream",
     "text": [
      "c:\\Users\\uer\\anaconda3\\envs\\gurobi\\lib\\site-packages\\cvxpy\\expressions\\expression.py:593: UserWarning: \n",
      "This use of ``*`` has resulted in matrix multiplication.\n",
      "Using ``*`` for matrix multiplication has been deprecated since CVXPY 1.1.\n",
      "    Use ``*`` for matrix-scalar and vector-scalar multiplication.\n",
      "    Use ``@`` for matrix-matrix and matrix-vector multiplication.\n",
      "    Use ``multiply`` for elementwise multiplication.\n",
      "This code path has been hit 14 times so far.\n",
      "\n",
      "  warnings.warn(msg, UserWarning)\n"
     ]
    }
   ],
   "source": [
    "ng = 2 # number of generators\n",
    "nl = len(G.edges) # number of lines\n",
    "nn = len(G.nodes) # number of nodes\n",
    "smax = []\n",
    "for (k,m) in G.edges:\n",
    "    smax.append(G.edges[(k,m)][\"cap\"])\n",
    "d = [20,60,10,40,60] # demand\n",
    "Lambda = (0,2) # generators location\n",
    "Omega = ((0, 1), (0, 3) ,(0, 4), (1, 2) ,(1, 3), (2, 4) ,(2, 5), (3, 4) ,(3, 5) ,(4, 5))\n",
    "# grid\n",
    "s = cvx.Variable(nl) # power flows\n",
    "EqB = nn*[0] # equation of balance of energy\n",
    "for j in range(nl):\n",
    "    k = Omega[j][0]\n",
    "    m = Omega[j][1]\n",
    "    EqB[k] += s[j] # flow in departing from k\n",
    "    EqB[m] += -s[j] # flow arriving to k\n",
    "for k in range(ng):#generadores\n",
    "    n1 = Lambda[k]\n",
    "    EqB[n1] += -p[k]\n",
    "res = [p>=pmin, p<=pmax, s<=smax, -s<=smax]# restricion balance enrgia \n",
    "for k in range(nn):\n",
    "    res += [EqB[k] + d[k] ==0]# restriccion balance generacion\n",
    "obj = 1/2*cvx.quad_form(p,a)+b*p\n",
    "Model = cvx.Problem(cvx.Minimize(obj),res)\n",
    "Model.solve()\n",
    "print(\"Generation:\",np.round(p.value))\n",
    "print(\"Flows:\",np.round(s.value))\n",
    "print(\"Incremental Cost:\",res[4].dual_value)\n",
    "print(\"Incremental Cost:\",res[5].dual_value)\n"
   ]
  },
  {
   "cell_type": "code",
   "execution_count": 185,
   "metadata": {},
   "outputs": [
    {
     "name": "stderr",
     "output_type": "stream",
     "text": [
      "c:\\Users\\uer\\anaconda3\\envs\\gurobi\\lib\\site-packages\\cvxpy\\problems\\problem.py:1337: UserWarning: Solution may be inaccurate. Try another solver, adjusting the solver settings, or solve with verbose=True for more information.\n",
      "  warnings.warn(\n"
     ]
    },
    {
     "data": {
      "text/plain": [
       "33154.99999999991"
      ]
     },
     "execution_count": 185,
     "metadata": {},
     "output_type": "execute_result"
    }
   ],
   "source": [
    "snom = 100\n",
    "x = nl*[0.02]\n",
    "th = cvx.Variable(nn) # nodal angles\n",
    "res += [th[0] == 0] # angle reference\n",
    "for j in range(nl):\n",
    "    k = Omega[j][0]\n",
    "    m = Omega[j][1]\n",
    "    res += [x[j]*s[j] == snom*(th[k]-th[m])]\n",
    "ModelLPF = cvx.Problem(cvx.Minimize(obj),res)\n",
    "ModelLPF.solve()"
>>>>>>> 283112f3a184f2ee91a1bbe7ac467cd9b31c9762
   ]
  },
  {
   "cell_type": "code",
   "execution_count": null,
   "metadata": {},
   "outputs": [],
   "source": []
  }
 ],
 "metadata": {
  "kernelspec": {
   "display_name": "Python 3.8.13 ('gurobi')",
   "language": "python",
   "name": "python3"
  },
  "language_info": {
   "codemirror_mode": {
    "name": "ipython",
    "version": 3
   },
   "file_extension": ".py",
   "mimetype": "text/x-python",
   "name": "python",
   "nbconvert_exporter": "python",
   "pygments_lexer": "ipython3",
   "version": "3.8.13"
  },
  "orig_nbformat": 4,
  "vscode": {
   "interpreter": {
    "hash": "03bbc52f8cfc3f4795b3cc046eb4ce8648711f2bcfc925e4f713cbd4fef920a7"
   }
  }
 },
 "nbformat": 4,
 "nbformat_minor": 2
}
