{
 "cells": [
  {
   "cell_type": "code",
   "execution_count": 1,
   "metadata": {},
   "outputs": [],
   "source": [
    "\n",
    "import numpy as np\n",
    "import networkx as nx"
   ]
  },
  {
   "cell_type": "code",
   "execution_count": 2,
   "metadata": {},
   "outputs": [],
   "source": [
    "G = nx.DiGraph()"
   ]
  },
  {
   "cell_type": "code",
   "execution_count": 4,
   "metadata": {},
   "outputs": [],
   "source": [
    "G.add_node(1,name=\"slack\",smax=50,d=80)\n",
    "G.add_node(2,name=\"2\",smax=0,d=240)\n",
    "G.add_node(3,name=\"3\",smax=165,d=40)\n",
    "G.add_node(4,name=\"4\",smax=0,d=160)\n",
    "G.add_node(5,name=\"5\",smax=0,d=240)\n"
   ]
  },
  {
   "cell_type": "code",
   "execution_count": 5,
   "metadata": {},
   "outputs": [],
   "source": [
    "G.add_edge(1,2,y=1/(0.1+0.40j),dist=40, cap=100)\n",
    "G.add_edge(1,4,y=1/(0.15+0.60j),dist=60, cap=80)\n",
    "G.add_edge(1,5,y=1/(0.05+0.20j),dist=20, cap=100)\n",
    "G.add_edge(2,3,y=1/(0.05+0.20j),dist=20, cap=100)\n",
    "G.add_edge(2,4,y=1/(0.1+0.40j),dist=40, cap=100)\n",
    "G.add_edge(3,5,y=1/(0.05+0.20j),dist=20, cap=100)"
   ]
  },
  {
   "cell_type": "code",
   "execution_count": 6,
   "metadata": {},
   "outputs": [
    {
     "data": {
      "image/png": "[encoded data removed]",
      "text/plain": [
       "<Figure size 432x288 with 1 Axes>"
      ]
     },
     "metadata": {},
     "output_type": "display_data"
    }
   ],
   "source": [
    "nx.draw(G,with_labels=True,pos=nx.spectral_layout(G))"
   ]
  },
  {
   "cell_type": "code",
   "execution_count": 14,
   "metadata": {},
   "outputs": [
    {
     "data": {
      "text/plain": [
       "[(1, 2), (1, 4), (1, 5), (2, 3), (2, 4), (3, 5)]"
      ]
     },
     "execution_count": 14,
     "metadata": {},
     "output_type": "execute_result"
    }
   ],
   "source": [
    "list(G.nodes)\n",
    "list(G.edges)"
   ]
  },
  {
   "cell_type": "code",
   "execution_count": 9,
   "metadata": {},
   "outputs": [
    {
     "ename": "AttributeError",
     "evalue": "module 'scipy.sparse' has no attribute 'lil_array'",
     "output_type": "error",
     "traceback": [
      "\u001b[1;31m---------------------------------------------------------------------------\u001b[0m",
      "\u001b[1;31mAttributeError\u001b[0m                            Traceback (most recent call last)",
      "\u001b[1;32mc:\\Users\\cs.saenz10\\Documents\\tesis\\gerver.ipynb Celda 6\u001b[0m in \u001b[0;36m<cell line: 1>\u001b[1;34m()\u001b[0m\n\u001b[1;32m----> <a href='vscode-notebook-cell:/c%3A/Users/cs.saenz10/Documents/tesis/gerver.ipynb#W5sZmlsZQ%3D%3D?line=0'>1</a>\u001b[0m A \u001b[39m=\u001b[39m nx\u001b[39m.\u001b[39;49mincidence_matrix(G,oriented\u001b[39m=\u001b[39;49m\u001b[39mTrue\u001b[39;49;00m)\n\u001b[0;32m      <a href='vscode-notebook-cell:/c%3A/Users/cs.saenz10/Documents/tesis/gerver.ipynb#W5sZmlsZQ%3D%3D?line=1'>2</a>\u001b[0m Yp \u001b[39m=\u001b[39m np\u001b[39m.\u001b[39mdiag([G\u001b[39m.\u001b[39medges[k][\u001b[39m\"\u001b[39m\u001b[39my\u001b[39m\u001b[39m\"\u001b[39m] \u001b[39mfor\u001b[39;00m k \u001b[39min\u001b[39;00m G\u001b[39m.\u001b[39medges])\n\u001b[0;32m      <a href='vscode-notebook-cell:/c%3A/Users/cs.saenz10/Documents/tesis/gerver.ipynb#W5sZmlsZQ%3D%3D?line=2'>3</a>\u001b[0m Ybus \u001b[39m=\u001b[39m A\u001b[39m@Yp\u001b[39m\u001b[39m@A\u001b[39m\u001b[39m.\u001b[39mT\n",
      "File \u001b[1;32mc:\\Users\\cs.saenz10\\.conda\\envs\\gurobi\\lib\\site-packages\\networkx\\linalg\\graphmatrix.py:69\u001b[0m, in \u001b[0;36mincidence_matrix\u001b[1;34m(G, nodelist, edgelist, oriented, weight)\u001b[0m\n\u001b[0;32m     67\u001b[0m     \u001b[39melse\u001b[39;00m:\n\u001b[0;32m     68\u001b[0m         edgelist \u001b[39m=\u001b[39m \u001b[39mlist\u001b[39m(G\u001b[39m.\u001b[39medges())\n\u001b[1;32m---> 69\u001b[0m A \u001b[39m=\u001b[39m sp\u001b[39m.\u001b[39;49msparse\u001b[39m.\u001b[39;49mlil_array((\u001b[39mlen\u001b[39m(nodelist), \u001b[39mlen\u001b[39m(edgelist)))\n\u001b[0;32m     70\u001b[0m node_index \u001b[39m=\u001b[39m {node: i \u001b[39mfor\u001b[39;00m i, node \u001b[39min\u001b[39;00m \u001b[39menumerate\u001b[39m(nodelist)}\n\u001b[0;32m     71\u001b[0m \u001b[39mfor\u001b[39;00m ei, e \u001b[39min\u001b[39;00m \u001b[39menumerate\u001b[39m(edgelist):\n",
      "\u001b[1;31mAttributeError\u001b[0m: module 'scipy.sparse' has no attribute 'lil_array'"
     ]
    }
   ],
   "source": [
    "A = nx.incidence_matrix(G,oriented=True)\n",
    "Yp = np.diag([G.edges[k][\"y\"] for k in G.edges])\n",
    "Ybus = A@Yp@A.T\n",
    "print(Ybus)\n",
    "print(np.linalg.eigvals(Ybus.real))"
   ]
  },
  {
   "cell_type": "code",
   "execution_count": 10,
   "metadata": {},
   "outputs": [
    {
     "ename": "NameError",
     "evalue": "name 'Ybus' is not defined",
     "output_type": "error",
     "traceback": [
      "\u001b[1;31m---------------------------------------------------------------------------\u001b[0m",
      "\u001b[1;31mNameError\u001b[0m                                 Traceback (most recent call last)",
      "\u001b[1;32mc:\\Users\\cs.saenz10\\Documents\\tesis\\gerver.ipynb Celda 7\u001b[0m in \u001b[0;36m<cell line: 2>\u001b[1;34m()\u001b[0m\n\u001b[0;32m      <a href='vscode-notebook-cell:/c%3A/Users/cs.saenz10/Documents/tesis/gerver.ipynb#W6sZmlsZQ%3D%3D?line=0'>1</a>\u001b[0m n \u001b[39m=\u001b[39m G\u001b[39m.\u001b[39mnumber_of_nodes()\n\u001b[1;32m----> <a href='vscode-notebook-cell:/c%3A/Users/cs.saenz10/Documents/tesis/gerver.ipynb#W6sZmlsZQ%3D%3D?line=1'>2</a>\u001b[0m YN0 \u001b[39m=\u001b[39m Ybus[\u001b[39m1\u001b[39m:n,\u001b[39m0\u001b[39m]\n\u001b[0;32m      <a href='vscode-notebook-cell:/c%3A/Users/cs.saenz10/Documents/tesis/gerver.ipynb#W6sZmlsZQ%3D%3D?line=2'>3</a>\u001b[0m YNN \u001b[39m=\u001b[39m Ybus[\u001b[39m1\u001b[39m:n,\u001b[39m1\u001b[39m:n]\n\u001b[0;32m      <a href='vscode-notebook-cell:/c%3A/Users/cs.saenz10/Documents/tesis/gerver.ipynb#W6sZmlsZQ%3D%3D?line=3'>4</a>\u001b[0m ZNN \u001b[39m=\u001b[39m np\u001b[39m.\u001b[39mlinalg\u001b[39m.\u001b[39minv(YNN)\n",
      "\u001b[1;31mNameError\u001b[0m: name 'Ybus' is not defined"
     ]
    }
   ],
   "source": [
    "n = G.number_of_nodes()\n",
    "YN0 = Ybus[1:n,0]\n",
    "YNN = Ybus[1:n,1:n]\n",
    "ZNN = np.linalg.inv(YNN)\n",
    "d = np.array([G.nodes[k][\"d\"] for k in G.nodes])\n",
    "print(YN0)\n",
    "print(YNN)"
   ]
  },
  {
   "cell_type": "code",
   "execution_count": 11,
   "metadata": {},
   "outputs": [],
   "source": [
    "def LoadFlow(sN,dN):\n",
    "    v0 = 1+0j\n",
    "    vN = np.ones(n-1)*v0\n",
    "    for t in range(10):\n",
    "        vN = ZNN@(np.conj((sN-dN)/vN)-v0*YN0)\n",
    "        vT = np.hstack([v0,vN]);\n",
    "        sT = vT*np.conj(Ybus@vT)\n",
    "        err = np.linalg.norm(sT[1:n]-(sN-dN))\n",
    "    print(\"Load Flow, after 10 iterations the error is\",err)\n",
    "    return vT"
   ]
  },
  {
   "cell_type": "code",
   "execution_count": 12,
   "metadata": {},
   "outputs": [
    {
     "ename": "NameError",
     "evalue": "name 'd' is not defined",
     "output_type": "error",
     "traceback": [
      "\u001b[1;31m---------------------------------------------------------------------------\u001b[0m",
      "\u001b[1;31mNameError\u001b[0m                                 Traceback (most recent call last)",
      "\u001b[1;32mc:\\Users\\cs.saenz10\\Documents\\tesis\\gerver.ipynb Celda 9\u001b[0m in \u001b[0;36m<cell line: 1>\u001b[1;34m()\u001b[0m\n\u001b[1;32m----> <a href='vscode-notebook-cell:/c%3A/Users/cs.saenz10/Documents/tesis/gerver.ipynb#X11sZmlsZQ%3D%3D?line=0'>1</a>\u001b[0m VT \u001b[39m=\u001b[39m LoadFlow(np\u001b[39m.\u001b[39mzeros(n\u001b[39m-\u001b[39m\u001b[39m1\u001b[39m),d[\u001b[39m1\u001b[39m:n])\n\u001b[0;32m      <a href='vscode-notebook-cell:/c%3A/Users/cs.saenz10/Documents/tesis/gerver.ipynb#X11sZmlsZQ%3D%3D?line=1'>2</a>\u001b[0m ST \u001b[39m=\u001b[39m VT\u001b[39m*\u001b[39mnp\u001b[39m.\u001b[39mconj(Ybus\u001b[39m@VT\u001b[39m)\n\u001b[0;32m      <a href='vscode-notebook-cell:/c%3A/Users/cs.saenz10/Documents/tesis/gerver.ipynb#X11sZmlsZQ%3D%3D?line=2'>3</a>\u001b[0m pL \u001b[39m=\u001b[39m \u001b[39msum\u001b[39m(ST)\n",
      "\u001b[1;31mNameError\u001b[0m: name 'd' is not defined"
     ]
    }
   ],
   "source": [
    "VT = LoadFlow(np.zeros(n-1),d[1:n])\n",
    "ST = VT*np.conj(Ybus@VT)\n",
    "pL = sum(ST)\n",
    "print(\"Loss\",pL)\n",
    "for (k,m) in G.edges:\n",
    "    Sf = Ybus[k,m]*(VT[k]-VT[m])\n",
    "    print(\"flow\",(k,m),np.abs(Sf))"
   ]
  },
  {
   "cell_type": "code",
   "execution_count": null,
   "metadata": {},
   "outputs": [],
   "source": []
  }
 ],
 "metadata": {
  "kernelspec": {
   "display_name": "Python 3.9.12 ('gurobi')",
   "language": "python",
   "name": "python3"
  },
  "language_info": {
   "codemirror_mode": {
    "name": "ipython",
    "version": 3
   },
   "file_extension": ".py",
   "mimetype": "text/x-python",
   "name": "python",
   "nbconvert_exporter": "python",
   "pygments_lexer": "ipython3",
   "version": "3.9.12"
  },
  "orig_nbformat": 4,
  "vscode": {
   "interpreter": {
    "hash": "4b61e63bbe89ade645af8089248eeae19c575a1e6f5a179d4a698ecce2fee66b"
   }
  }
 },
 "nbformat": 4,
 "nbformat_minor": 2
}
