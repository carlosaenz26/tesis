{
 "cells": [
  {
   "cell_type": "code",
   "execution_count": 1,
   "metadata": {},
   "outputs": [],
   "source": [
    "import numpy as np\n",
    "import pandas as pd\n",
    "import gurobipy as gp\n",
    "from gurobipy import GRB\n",
    "from gurobipy import *"
   ]
  },
  {
   "cell_type": "code",
   "execution_count": 2,
   "metadata": {},
   "outputs": [],
   "source": [
    "ntypes = 2\n",
    "generators = [1,1]\n",
    "bus=[1,2]\n",
    "demand = 400\n",
    "sbase=100\n",
    "x12=0.2\n",
    "p12max=1.5\n",
    "pmin=[ 28,90]\n",
    "pmax=[206,284]\n",
    "g1cost = [ 3, 20, 100]\n",
    "g2cost=[4.05, 18.07, 98.87]\n",
    "\n"
   ]
  },
  {
   "cell_type": "code",
   "execution_count": 4,
   "metadata": {},
   "outputs": [],
   "source": [
    "model = gp.Model('PowerFlow')\n",
    "#ngen = model.addVars(ntypes, nperiods, vtype=GRB.INTEGER, name=\"ngen\")\n",
    "pgen = model.addVars(generators, vtype=GRB.CONTINUOUS, name=\"pgen\")\n",
    "delta= model.addVars( bus, vtype=GRB.CONTINUOUS, name=\"angulo\" )\n",
    "trans=model.addVars( generators, vtype=GRB.CONTINUOUS, name=\"transmitido\" )\n",
    "of = model.addVars(generators, vtype=GRB.CONTINUOUS, name=\"genoutput\")"
   ]
  },
  {
   "cell_type": "code",
   "execution_count": 8,
   "metadata": {},
   "outputs": [
    {
     "ename": "TypeError",
     "evalue": "list indices must be integers or slices, not type",
     "output_type": "error",
     "traceback": [
      "\u001b[1;31m---------------------------------------------------------------------------\u001b[0m",
      "\u001b[1;31mTypeError\u001b[0m                                 Traceback (most recent call last)",
      "\u001b[1;32mc:\\Users\\uer\\Documents\\GitHub\\tesis\\tesis\\opfdc.ipynb Celda 4\u001b[0m in \u001b[0;36m<cell line: 1>\u001b[1;34m()\u001b[0m\n\u001b[1;32m----> <a href='vscode-notebook-cell:/c%3A/Users/uer/Documents/GitHub/tesis/tesis/opfdc.ipynb#ch0000003?line=0'>1</a>\u001b[0m numgen \u001b[39m=\u001b[39m model\u001b[39m.\u001b[39maddConstrs(pgen[i] \u001b[39mfor\u001b[39;00m i \u001b[39min\u001b[39;00m generators \u001b[39m<\u001b[39m\u001b[39m=\u001b[39m generators[\u001b[39mtype\u001b[39;49m]\n\u001b[0;32m      <a href='vscode-notebook-cell:/c%3A/Users/uer/Documents/GitHub/tesis/tesis/opfdc.ipynb#ch0000003?line=1'>2</a>\u001b[0m                          \u001b[39mfor\u001b[39;00m i \u001b[39min\u001b[39;00m \u001b[39mrange\u001b[39m(\u001b[39mlen\u001b[39m(generators)) )\n",
      "\u001b[1;31mTypeError\u001b[0m: list indices must be integers or slices, not type"
     ]
    }
   ],
   "source": [
    "numgen = model.addConstrs(pgen[i] for i in generators <= generators[type]\n",
    "                         for i in range(len(generators)) )\n",
    "                        "
   ]
  },
  {
   "cell_type": "code",
   "execution_count": 6,
   "metadata": {},
   "outputs": [
    {
     "ename": "KeyError",
     "evalue": "'Missing constraint index'",
     "output_type": "error",
     "traceback": [
      "\u001b[1;31m---------------------------------------------------------------------------\u001b[0m",
      "\u001b[1;31mAttributeError\u001b[0m                            Traceback (most recent call last)",
      "File \u001b[1;32msrc\\gurobipy\\model.pxi:3536\u001b[0m, in \u001b[0;36mgurobipy.Model.addConstrs\u001b[1;34m()\u001b[0m\n",
      "File \u001b[1;32msrc\\gurobipy\\model.pxi:223\u001b[0m, in \u001b[0;36mgurobipy.Model.__genexpr_key\u001b[1;34m()\u001b[0m\n",
      "\u001b[1;31mAttributeError\u001b[0m: 'TempConstr' object has no attribute 'gi_frame'",
      "\nDuring handling of the above exception, another exception occurred:\n",
      "\u001b[1;31mKeyError\u001b[0m                                  Traceback (most recent call last)",
      "\u001b[1;32mc:\\Users\\uer\\Documents\\GitHub\\tesis\\tesis\\opfdc.ipynb Celda 5\u001b[0m in \u001b[0;36m<cell line: 1>\u001b[1;34m()\u001b[0m\n\u001b[1;32m----> <a href='vscode-notebook-cell:/c%3A/Users/uer/Documents/GitHub/tesis/tesis/opfdc.ipynb#ch0000004?line=0'>1</a>\u001b[0m of \u001b[39m=\u001b[39m model\u001b[39m.\u001b[39;49maddConstrs(gp\u001b[39m.\u001b[39;49mquicksum(generators[\u001b[39mtype\u001b[39;49m] \u001b[39mfor\u001b[39;49;00m \u001b[39mtype\u001b[39;49m \u001b[39min\u001b[39;49;00m \u001b[39mrange\u001b[39;49m(\u001b[39mlen\u001b[39;49m(generators))) \u001b[39m>\u001b[39;49m\u001b[39m=\u001b[39;49m demand )\n",
      "File \u001b[1;32msrc\\gurobipy\\model.pxi:3538\u001b[0m, in \u001b[0;36mgurobipy.Model.addConstrs\u001b[1;34m()\u001b[0m\n",
      "\u001b[1;31mKeyError\u001b[0m: 'Missing constraint index'"
     ]
    }
   ],
   "source": [
    "of = model.addConstrs(gp.quicksum(generators[type] for type in range(len(generators))) >= demand )"
   ]
  },
  {
   "cell_type": "code",
   "execution_count": 5,
   "metadata": {},
   "outputs": [
    {
     "ename": "KeyError",
     "evalue": "0",
     "output_type": "error",
     "traceback": [
      "\u001b[1;31m---------------------------------------------------------------------------\u001b[0m",
      "\u001b[1;31mKeyError\u001b[0m                                  Traceback (most recent call last)",
      "\u001b[1;32mc:\\Users\\uer\\Documents\\GitHub\\tesis\\tesis\\opfdc.ipynb Celda 6\u001b[0m in \u001b[0;36m<cell line: 1>\u001b[1;34m()\u001b[0m\n\u001b[1;32m----> <a href='vscode-notebook-cell:/c%3A/Users/uer/Documents/GitHub/tesis/tesis/opfdc.ipynb#ch0000006?line=0'>1</a>\u001b[0m pg1\u001b[39m=\u001b[39mmodel\u001b[39m.\u001b[39maddConstrs(trans\u001b[39m=\u001b[39mdelta[\u001b[39m1\u001b[39m]\u001b[39m-\u001b[39mdelta[\u001b[39m0\u001b[39;49m]\u001b[39m/\u001b[39mx12)\n",
      "\u001b[1;31mKeyError\u001b[0m: 0"
     ]
    }
   ],
   "source": [
    "pg1=model.addConstrs(trans=delta[1]-delta[0]/x12)"
   ]
  },
  {
   "cell_type": "code",
   "execution_count": null,
   "metadata": {},
   "outputs": [],
   "source": [
    "trans = model.addConstrs(gp.quicksum(generators[type] for type in range(len(generators))) >= demand)"
   ]
  }
 ],
 "metadata": {
  "kernelspec": {
   "display_name": "Python 3.9.13 64-bit (windows store)",
   "language": "python",
   "name": "python3"
  },
  "language_info": {
   "codemirror_mode": {
    "name": "ipython",
    "version": 3
   },
   "file_extension": ".py",
   "mimetype": "text/x-python",
   "name": "python",
   "nbconvert_exporter": "python",
   "pygments_lexer": "ipython3",
   "version": "3.9.13"
  },
  "orig_nbformat": 4,
  "vscode": {
   "interpreter": {
    "hash": "5ebe4724cbe8c8fa5d92bc694940ef78ad3cf5db2e516a1450d5360b0aa6f4e1"
   }
  }
 },
 "nbformat": 4,
 "nbformat_minor": 2
}
