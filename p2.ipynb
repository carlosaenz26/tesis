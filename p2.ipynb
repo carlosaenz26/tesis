{
 "cells": [
  {
   "cell_type": "code",
   "execution_count": 2,
   "metadata": {},
   "outputs": [],
   "source": [
    "from gurobipy import *\n"
   ]
  },
  {
   "cell_type": "code",
   "execution_count": 10,
   "metadata": {},
   "outputs": [
    {
     "data": {
      "text/plain": [
       "[(1, 1), (1, 2), (2, 1), (2, 2), (3, 1), (3, 2)]"
      ]
     },
     "execution_count": 10,
     "metadata": {},
     "output_type": "execute_result"
    }
   ],
   "source": [
    "arcos"
   ]
  },
  {
   "cell_type": "code",
   "execution_count": 3,
   "metadata": {},
   "outputs": [],
   "source": [
    "maquinas=[1,2]\n",
    "partes=[1,2,3]\n",
    "arcos=[(j,i) for i in partes for j in maquinas]\n",
    "tiempos={(1,1):0.02,(1,2):0.03,(1,3):0.05,(2,1):0.05,(2,2):0.02,(2,3):0.04}\n",
    "utilidad={1:300,2:250,3:200}"
   ]
  },
  {
   "cell_type": "code",
   "execution_count": 4,
   "metadata": {},
   "outputs": [
    {
     "name": "stdout",
     "output_type": "stream",
     "text": [
      "Set parameter Username\n",
      "Academic license - for non-commercial use only - expires 2023-08-07\n"
     ]
    }
   ],
   "source": [
    "m =Model(\"p2\")"
   ]
  },
  {
   "cell_type": "code",
   "execution_count": 5,
   "metadata": {},
   "outputs": [],
   "source": [
    "x=m.addVars(arcos,vtype=GRB.CONTINUOUS,name=\"x\")\n"
   ]
  },
  {
   "cell_type": "code",
   "execution_count": 6,
   "metadata": {},
   "outputs": [],
   "source": [
    "m.setObjective(quicksum(utilidad[i]*x[i,j] for i in partes for j in maquinas),GRB.MAXIMIZE)"
   ]
  },
  {
   "cell_type": "code",
   "execution_count": 9,
   "metadata": {},
   "outputs": [
    {
     "ename": "KeyError",
     "evalue": "(1, 3)",
     "output_type": "error",
     "traceback": [
      "\u001b[1;31m---------------------------------------------------------------------------\u001b[0m",
      "\u001b[1;31mKeyError\u001b[0m                                  Traceback (most recent call last)",
      "\u001b[1;32mc:\\Users\\uer\\Documents\\GitHub\\tesis\\tesis\\p2.ipynb Celda 6\u001b[0m in \u001b[0;36m<cell line: 1>\u001b[1;34m()\u001b[0m\n\u001b[1;32m----> <a href='vscode-notebook-cell:/c%3A/Users/uer/Documents/GitHub/tesis/tesis/p2.ipynb#W5sZmlsZQ%3D%3D?line=0'>1</a>\u001b[0m m\u001b[39m.\u001b[39;49maddConstrs(quicksum(tiempos[j,i]\u001b[39m*\u001b[39;49mx[j,i] \u001b[39mfor\u001b[39;49;00m i \u001b[39min\u001b[39;49;00m partes)\u001b[39m<\u001b[39;49m\u001b[39m=\u001b[39;49m\u001b[39m40\u001b[39;49m \u001b[39mfor\u001b[39;49;00m j \u001b[39min\u001b[39;49;00m maquinas)\n",
      "File \u001b[1;32msrc\\gurobipy\\model.pxi:3540\u001b[0m, in \u001b[0;36mgurobipy.Model.addConstrs\u001b[1;34m()\u001b[0m\n",
      "\u001b[1;32mc:\\Users\\uer\\Documents\\GitHub\\tesis\\tesis\\p2.ipynb Celda 6\u001b[0m in \u001b[0;36m<genexpr>\u001b[1;34m(.0)\u001b[0m\n\u001b[1;32m----> <a href='vscode-notebook-cell:/c%3A/Users/uer/Documents/GitHub/tesis/tesis/p2.ipynb#W5sZmlsZQ%3D%3D?line=0'>1</a>\u001b[0m m\u001b[39m.\u001b[39maddConstrs(quicksum(tiempos[j,i]\u001b[39m*\u001b[39;49mx[j,i] \u001b[39mfor\u001b[39;49;00m i \u001b[39min\u001b[39;49;00m partes)\u001b[39m<\u001b[39m\u001b[39m=\u001b[39m\u001b[39m40\u001b[39m \u001b[39mfor\u001b[39;00m j \u001b[39min\u001b[39;00m maquinas)\n",
      "File \u001b[1;32msrc\\gurobipy\\gurobi.pxi:3631\u001b[0m, in \u001b[0;36mgurobipy.quicksum\u001b[1;34m()\u001b[0m\n",
      "\u001b[1;32mc:\\Users\\uer\\Documents\\GitHub\\tesis\\tesis\\p2.ipynb Celda 6\u001b[0m in \u001b[0;36m<genexpr>\u001b[1;34m(.0)\u001b[0m\n\u001b[1;32m----> <a href='vscode-notebook-cell:/c%3A/Users/uer/Documents/GitHub/tesis/tesis/p2.ipynb#W5sZmlsZQ%3D%3D?line=0'>1</a>\u001b[0m m\u001b[39m.\u001b[39maddConstrs(quicksum(tiempos[j,i]\u001b[39m*\u001b[39mx[j,i] \u001b[39mfor\u001b[39;00m i \u001b[39min\u001b[39;00m partes)\u001b[39m<\u001b[39m\u001b[39m=\u001b[39m\u001b[39m40\u001b[39m \u001b[39mfor\u001b[39;00m j \u001b[39min\u001b[39;00m maquinas)\n",
      "\u001b[1;31mKeyError\u001b[0m: (1, 3)"
     ]
    }
   ],
   "source": [
    "m.addConstrs(quicksum(tiempos[j,i]*x[j,i] for i in partes)<=40 for j in maquinas)"
   ]
  },
  {
   "cell_type": "code",
   "execution_count": null,
   "metadata": {},
   "outputs": [],
   "source": []
  }
 ],
 "metadata": {
  "kernelspec": {
   "display_name": "Python 3.8.13 ('gurobi')",
   "language": "python",
   "name": "python3"
  },
  "language_info": {
   "codemirror_mode": {
    "name": "ipython",
    "version": 3
   },
   "file_extension": ".py",
   "mimetype": "text/x-python",
   "name": "python",
   "nbconvert_exporter": "python",
   "pygments_lexer": "ipython3",
   "version": "3.8.13"
  },
  "orig_nbformat": 4,
  "vscode": {
   "interpreter": {
    "hash": "03bbc52f8cfc3f4795b3cc046eb4ce8648711f2bcfc925e4f713cbd4fef920a7"
   }
  }
 },
 "nbformat": 4,
 "nbformat_minor": 2
}
