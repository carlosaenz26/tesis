{
 "cells": [
  {
   "cell_type": "code",
   "execution_count": 1,
   "metadata": {},
   "outputs": [
    {
     "name": "stdout",
     "output_type": "stream",
     "text": [
      "(CVXPY) Sep 10 01:57:45 AM: Encountered unexpected exception importing solver SCIP:\n",
      "NotImplementedError(\"PySCIPOpt (SCIP's Python wrapper) is installed and itsversion is 4.2.0. CVXPY only supports PySCIPOpt < 4.0.0.\")\n"
     ]
    },
    {
     "data": {
      "text/plain": [
       "Text(0, 0.5, 'Enviromental')"
      ]
     },
     "execution_count": 1,
     "metadata": {},
     "output_type": "execute_result"
    },
    {
     "data": {
      "image/png": "[encoded data removed]",
      "text/plain": [
       "<Figure size 432x288 with 1 Axes>"
      ]
     },
     "metadata": {
      "needs_background": "light"
     },
     "output_type": "display_data"
    }
   ],
   "source": [
    "import numpy as np\n",
    "import cvxpy as cvx\n",
    "import matplotlib.pyplot as plt\n",
    "pmin = [10,10,35,35,125,130]\n",
    "pmax = [125,150,210,225,315,325]\n",
    "a = np.diag([0.30494,0.21174,0.07092,0.05606,0.03598,0.04222])\n",
    "b = [38.5390,46.1591,38.3055,40.3965,38.2704,36.3278]\n",
    "alpha = np.diag([0.00838,0.00838,0.01366,0.01366,0.00922,0.00922])\n",
    "beta = [0.32767,0.32767,-0.54551,-0.54551,-0.51116,-0.51116]\n",
    "d = 1200\n",
    "\n",
    "def Pareto(xi):\n",
    "    p = cvx.Variable(6)\n",
    "    f_ecn = 1/2*cvx.quad_form(p,a)+b@p\n",
    "    f_env = 1/2*cvx.quad_form(p,alpha)+beta@p\n",
    "    fo = cvx.Minimize(xi*f_ecn+(1-xi)*f_env)\n",
    "    res = [sum(p) >= d , p>=pmin, p<=pmax]\n",
    "    Model = cvx.Problem(fo,res)\n",
    "    Model.solve()\n",
    "    return [f_ecn.value,f_env.value]#print(p.value)]\n",
    "points = 10\n",
    "F_ecn = np.zeros(points)\n",
    "F_env = np.zeros(points)\n",
    "\n",
    "for k in range(points):\n",
    "    xi = 1/(k+1)\n",
    "    F_ecn[k],F_env[k]= Pareto(xi)\n",
    "\n",
    "plt.plot(F_ecn,F_env,marker=\"o\")\n",
    "plt.grid()\n",
    "plt.xlabel(\"Economic\")\n",
    "plt.ylabel(\"Enviromental\")"
   ]
  },
  {
   "cell_type": "code",
   "execution_count": null,
   "metadata": {},
   "outputs": [
    {
     "ename": "",
     "evalue": "",
     "output_type": "error",
     "traceback": [
      "\u001b[1;31mNo se pudo iniciar el Kernel. \n",
      "\u001b[1;31mNo se puede iniciar Kernel 'tesis1 (Python 3.9.13)' porque se agotó el tiempo de espera de la conexión. \n",
      "\u001b[1;31mVea el [registro] de Jupyter (command:jupyter.viewOutput) para obtener más detalles."
     ]
    }
   ],
   "source": [
    "B = [[50, 10, 0, 0, 20, 0],\n",
    "[10, 50, 0, 0, 0, 10],\n",
    "[ 0, 0, 60, 0, 0, 10],\n",
    "[ 0, 0, 0, 350, 20, 0],\n",
    "[20, 0, 0, 20, 370, 40],\n",
    "[ 0, 10, 10, 0, 40, 480]]\n",
    "Bchol = 1E-3*np.linalg.cholesky(B)\n",
    "z = cvx.Variable()\n",
    "res = [sum(p) >= d + z**2, p>=pmin, p <= pmax]\n",
    "res += [cvx.SOC(z,Bchol@p)]\n",
    "ModelLPF = cvx.Problem(cvx.Minimize(obj),res)\n",
    "ModelLPF.solve()\n",
    "print(\"Generation:\",np.round(p.value))\n",
    "print(\"Flows:\",np.round(s.value))"
   ]
  },
  {
   "cell_type": "code",
   "execution_count": null,
   "metadata": {},
   "outputs": [],
   "source": []
  }
 ],
 "metadata": {
  "kernelspec": {
   "display_name": "Python 3.8.13 ('gurobi')",
   "language": "python",
   "name": "python3"
  },
  "language_info": {
   "codemirror_mode": {
    "name": "ipython",
    "version": 3
   },
   "file_extension": ".py",
   "mimetype": "text/x-python",
   "name": "python",
   "nbconvert_exporter": "python",
   "pygments_lexer": "ipython3",
   "version": "3.8.13"
  },
  "orig_nbformat": 4,
  "vscode": {
   "interpreter": {
    "hash": "03bbc52f8cfc3f4795b3cc046eb4ce8648711f2bcfc925e4f713cbd4fef920a7"
   }
  }
 },
 "nbformat": 4,
 "nbformat_minor": 2
}
